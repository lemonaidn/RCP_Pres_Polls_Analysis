{
 "cells": [
  {
   "cell_type": "code",
   "execution_count": 1,
   "metadata": {},
   "outputs": [
    {
     "name": "stdout",
     "output_type": "stream",
     "text": [
      "C:\\Users\\Aidan\\documents\\polls\n"
     ]
    }
   ],
   "source": [
    "%cd documents/polls"
   ]
  },
  {
   "cell_type": "code",
   "execution_count": 2,
   "metadata": {},
   "outputs": [],
   "source": [
    "import plotly.express as px\n",
    "import matplotlib.pyplot as plt\n",
    "import matplotlib.dates as mdates\n",
    "import pandas as pd"
   ]
  },
  {
   "cell_type": "code",
   "execution_count": 3,
   "metadata": {},
   "outputs": [],
   "source": [
    "polls_2020 = pd.read_csv('polls_2020.csv')"
   ]
  },
  {
   "cell_type": "code",
   "execution_count": 9,
   "metadata": {},
   "outputs": [],
   "source": [
    "polls_2020['date']= pd.to_datetime(polls_2020['date'])"
   ]
  },
  {
   "cell_type": "code",
   "execution_count": 24,
   "metadata": {
    "scrolled": true
   },
   "outputs": [
    {
     "data": {
      "application/vnd.plotly.v1+json": {
       "config": {
        "plotlyServerURL": "https://plot.ly"
       },
       "data": [
        {
         "hovertemplate": "poll=The Hill/HarrisX<br>date=%{x}<br>biden=%{y}<extra></extra>",
         "legendgroup": "The Hill/HarrisX",
         "marker": {
          "color": "#636efa",
          "symbol": "circle"
         },
         "mode": "markers",
         "name": "The Hill/HarrisX",
         "orientation": "v",
         "showlegend": true,
         "type": "scatter",
         "x": [
          "2020-10-25T00:00:00",
          "2020-10-13T00:00:00",
          "2020-10-10T00:00:00",
          "2020-10-03T00:00:00",
          "2020-09-30T00:00:00",
          "2020-09-22T00:00:00",
          "2020-09-19T00:00:00",
          "2020-09-10T00:00:00",
          "2020-09-05T00:00:00",
          "2020-08-29T00:00:00",
          "2020-08-25T00:00:00",
          "2020-08-22T00:00:00",
          "2020-08-15T00:00:00",
          "2020-08-11T00:00:00",
          "2020-08-08T00:00:00",
          "2020-08-02T00:00:00",
          "2020-07-17T00:00:00",
          "2020-07-03T00:00:00",
          "2020-06-22T00:00:00",
          "2020-06-01T00:00:00",
          "2020-05-13T00:00:00",
          "2020-04-19T00:00:00"
         ],
         "xaxis": "x",
         "y": [
          49,
          46,
          47,
          45,
          47,
          45,
          45,
          45,
          47,
          46,
          47,
          47,
          46,
          45,
          44,
          43,
          45,
          43,
          43,
          47,
          42,
          42
         ],
         "yaxis": "y"
        },
        {
         "hovertemplate": "poll=IBD/TIPP<br>date=%{x}<br>biden=%{y}<extra></extra>",
         "legendgroup": "IBD/TIPP",
         "marker": {
          "color": "#EF553B",
          "symbol": "circle"
         },
         "mode": "markers",
         "name": "IBD/TIPP",
         "orientation": "v",
         "showlegend": true,
         "type": "scatter",
         "x": [
          "2020-10-25T00:00:00",
          "2020-09-30T00:00:00",
          "2020-09-16T00:00:00",
          "2020-08-29T00:00:00",
          "2020-07-25T00:00:00",
          "2020-06-27T00:00:00",
          "2020-05-31T00:00:00",
          "2020-04-26T00:00:00",
          "2020-03-29T00:00:00",
          "2020-02-20T00:00:00",
          "2020-01-23T00:00:00",
          "2020-01-03T00:00:00"
         ],
         "xaxis": "x",
         "y": [
          51,
          49,
          50,
          49,
          48,
          48,
          45,
          43,
          47,
          49,
          49,
          48
         ],
         "yaxis": "y"
        },
        {
         "hovertemplate": "poll=Rasmussen Reports<br>date=%{x}<br>biden=%{y}<extra></extra>",
         "legendgroup": "Rasmussen Reports",
         "marker": {
          "color": "#00cc96",
          "symbol": "circle"
         },
         "mode": "markers",
         "name": "Rasmussen Reports",
         "orientation": "v",
         "showlegend": true,
         "type": "scatter",
         "x": [
          "2020-10-27T00:00:00",
          "2020-10-14T00:00:00",
          "2020-10-07T00:00:00",
          "2020-09-30T00:00:00",
          "2020-09-23T00:00:00",
          "2020-09-16T00:00:00",
          "2020-09-09T00:00:00",
          "2020-09-02T00:00:00",
          "2020-08-26T00:00:00",
          "2020-08-19T00:00:00",
          "2020-08-12T00:00:00",
          "2020-08-05T00:00:00",
          "2020-07-29T00:00:00",
          "2020-07-22T00:00:00",
          "2020-07-15T00:00:00",
          "2020-07-08T00:00:00",
          "2020-07-05T00:00:00",
          "2020-05-18T00:00:00"
         ],
         "xaxis": "x",
         "y": [
          49,
          49,
          50,
          52,
          51,
          48,
          46,
          48,
          49,
          46,
          48,
          49,
          48,
          48,
          47,
          47,
          50,
          48
         ],
         "yaxis": "y"
        },
        {
         "hovertemplate": "poll=Economist/YouGov<br>date=%{x}<br>biden=%{y}<extra></extra>",
         "legendgroup": "Economist/YouGov",
         "marker": {
          "color": "#ab63fa",
          "symbol": "circle"
         },
         "mode": "markers",
         "name": "Economist/YouGov",
         "orientation": "v",
         "showlegend": true,
         "type": "scatter",
         "x": [
          "2020-10-25T00:00:00",
          "2020-10-18T00:00:00",
          "2020-10-11T00:00:00",
          "2020-10-04T00:00:00",
          "2020-09-27T00:00:00",
          "2020-09-20T00:00:00",
          "2020-09-13T00:00:00",
          "2020-09-06T00:00:00",
          "2020-08-30T00:00:00",
          "2020-08-23T00:00:00",
          "2020-08-16T00:00:00",
          "2020-08-09T00:00:00",
          "2020-08-02T00:00:00",
          "2020-07-26T00:00:00",
          "2020-07-19T00:00:00",
          "2020-07-12T00:00:00",
          "2020-07-05T00:00:00",
          "2020-06-28T00:00:00",
          "2020-06-21T00:00:00",
          "2020-06-14T00:00:00",
          "2020-06-07T00:00:00",
          "2020-05-31T00:00:00",
          "2020-05-23T00:00:00",
          "2020-05-17T00:00:00",
          "2020-05-10T00:00:00",
          "2020-05-03T00:00:00",
          "2020-04-26T00:00:00",
          "2020-04-19T00:00:00",
          "2020-04-12T00:00:00",
          "2020-04-05T00:00:00",
          "2020-03-29T00:00:00",
          "2020-03-22T00:00:00",
          "2020-03-15T00:00:00",
          "2020-03-08T00:00:00"
         ],
         "xaxis": "x",
         "y": [
          54,
          52,
          52,
          51,
          50,
          49,
          51,
          52,
          51,
          50,
          50,
          49,
          49,
          49,
          48,
          49,
          49,
          49,
          49,
          50,
          49,
          47,
          45,
          47,
          47,
          46,
          47,
          48,
          48,
          48,
          46,
          46,
          48,
          47
         ],
         "yaxis": "y"
        },
        {
         "hovertemplate": "poll=Emerson<br>date=%{x}<br>biden=%{y}<extra></extra>",
         "legendgroup": "Emerson",
         "marker": {
          "color": "#FFA15A",
          "symbol": "circle"
         },
         "mode": "markers",
         "name": "Emerson",
         "orientation": "v",
         "showlegend": true,
         "type": "scatter",
         "x": [
          "2020-10-25T00:00:00",
          "2020-09-22T00:00:00",
          "2020-08-30T00:00:00",
          "2020-07-29T00:00:00",
          "2020-06-02T00:00:00",
          "2020-04-26T00:00:00",
          "2020-03-18T00:00:00",
          "2020-02-16T00:00:00",
          "2020-01-21T00:00:00"
         ],
         "xaxis": "x",
         "y": [
          50,
          48,
          49,
          50,
          53,
          48,
          53,
          48,
          50
         ],
         "yaxis": "y"
        },
        {
         "hovertemplate": "poll=USA Today/Suffolk<br>date=%{x}<br>biden=%{y}<extra></extra>",
         "legendgroup": "USA Today/Suffolk",
         "marker": {
          "color": "#19d3f3",
          "symbol": "circle"
         },
         "mode": "markers",
         "name": "USA Today/Suffolk",
         "orientation": "v",
         "showlegend": true,
         "type": "scatter",
         "x": [
          "2020-10-23T00:00:00",
          "2020-08-28T00:00:00",
          "2020-06-25T00:00:00",
          "2020-04-21T00:00:00"
         ],
         "xaxis": "x",
         "y": [
          52,
          50,
          53,
          50
         ],
         "yaxis": "y"
        },
        {
         "hovertemplate": "poll=Reuters/Ipsos<br>date=%{x}<br>biden=%{y}<extra></extra>",
         "legendgroup": "Reuters/Ipsos",
         "marker": {
          "color": "#FF6692",
          "symbol": "circle"
         },
         "mode": "markers",
         "name": "Reuters/Ipsos",
         "orientation": "v",
         "showlegend": true,
         "type": "scatter",
         "x": [
          "2020-10-23T00:00:00",
          "2020-10-16T00:00:00",
          "2020-10-09T00:00:00",
          "2020-10-02T00:00:00",
          "2020-09-25T00:00:00",
          "2020-09-18T00:00:00",
          "2020-09-11T00:00:00",
          "2020-09-03T00:00:00",
          "2020-08-28T00:00:00"
         ],
         "xaxis": "x",
         "y": [
          52,
          51,
          51,
          52,
          51,
          50,
          50,
          52,
          47
         ],
         "yaxis": "y"
        },
        {
         "hovertemplate": "poll=CNN<br>date=%{x}<br>biden=%{y}<extra></extra>",
         "legendgroup": "CNN",
         "marker": {
          "color": "#B6E880",
          "symbol": "circle"
         },
         "mode": "markers",
         "name": "CNN",
         "orientation": "v",
         "showlegend": true,
         "type": "scatter",
         "x": [
          "2020-10-23T00:00:00",
          "2020-10-01T00:00:00",
          "2020-08-28T00:00:00",
          "2020-08-12T00:00:00",
          "2020-06-02T00:00:00",
          "2020-05-07T00:00:00",
          "2020-04-03T00:00:00",
          "2020-03-04T00:00:00",
          "2020-01-16T00:00:00"
         ],
         "xaxis": "x",
         "y": [
          54,
          57,
          51,
          50,
          55,
          51,
          53,
          53,
          53
         ],
         "yaxis": "y"
        },
        {
         "hovertemplate": "poll=JTN/RMG Research<br>date=%{x}<br>biden=%{y}<extra></extra>",
         "legendgroup": "JTN/RMG Research",
         "marker": {
          "color": "#FF97FF",
          "symbol": "circle"
         },
         "mode": "markers",
         "name": "JTN/RMG Research",
         "orientation": "v",
         "showlegend": true,
         "type": "scatter",
         "x": [
          "2020-10-23T00:00:00",
          "2020-10-15T00:00:00",
          "2020-10-08T00:00:00",
          "2020-10-01T00:00:00",
          "2020-09-24T00:00:00",
          "2020-09-17T00:00:00",
          "2020-09-10T00:00:00"
         ],
         "xaxis": "x",
         "y": [
          51,
          51,
          51,
          51,
          51,
          50,
          48
         ],
         "yaxis": "y"
        },
        {
         "hovertemplate": "poll=CNBC<br>date=%{x}<br>biden=%{y}<extra></extra>",
         "legendgroup": "CNBC",
         "marker": {
          "color": "#FECB52",
          "symbol": "circle"
         },
         "mode": "markers",
         "name": "CNBC",
         "orientation": "v",
         "showlegend": true,
         "type": "scatter",
         "x": [
          "2020-10-21T00:00:00",
          "2020-06-19T00:00:00",
          "2020-05-29T00:00:00",
          "2020-05-15T00:00:00",
          "2020-05-01T00:00:00",
          "2020-04-03T00:00:00"
         ],
         "xaxis": "x",
         "y": [
          51,
          47,
          48,
          48,
          47,
          44
         ],
         "yaxis": "y"
        },
        {
         "hovertemplate": "poll=USC Dornsife<br>date=%{x}<br>biden=%{y}<extra></extra>",
         "legendgroup": "USC Dornsife",
         "marker": {
          "color": "#636efa",
          "symbol": "circle"
         },
         "mode": "markers",
         "name": "USC Dornsife",
         "orientation": "v",
         "showlegend": true,
         "type": "scatter",
         "x": [
          "2020-10-16T00:00:00",
          "2020-09-07T00:00:00",
          "2020-08-31T00:00:00"
         ],
         "xaxis": "x",
         "y": [
          54,
          52,
          52
         ],
         "yaxis": "y"
        },
        {
         "hovertemplate": "poll=Quinnipiac<br>date=%{x}<br>biden=%{y}<extra></extra>",
         "legendgroup": "Quinnipiac",
         "marker": {
          "color": "#EF553B",
          "symbol": "circle"
         },
         "mode": "markers",
         "name": "Quinnipiac",
         "orientation": "v",
         "showlegend": true,
         "type": "scatter",
         "x": [
          "2020-10-16T00:00:00",
          "2020-09-17T00:00:00",
          "2020-08-28T00:00:00",
          "2020-07-09T00:00:00",
          "2020-06-11T00:00:00",
          "2020-05-14T00:00:00",
          "2020-04-02T00:00:00",
          "2020-03-05T00:00:00",
          "2020-02-05T00:00:00"
         ],
         "xaxis": "x",
         "y": [
          51,
          52,
          52,
          52,
          49,
          50,
          49,
          52,
          50
         ],
         "yaxis": "y"
        },
        {
         "hovertemplate": "poll=CNBC/Change Research (D)<br>date=%{x}<br>biden=%{y}<extra></extra>",
         "legendgroup": "CNBC/Change Research (D)",
         "marker": {
          "color": "#00cc96",
          "symbol": "circle"
         },
         "mode": "markers",
         "name": "CNBC/Change Research (D)",
         "orientation": "v",
         "showlegend": true,
         "type": "scatter",
         "x": [
          "2020-10-17T00:00:00",
          "2020-10-02T00:00:00",
          "2020-09-29T00:00:00",
          "2020-09-18T00:00:00",
          "2020-09-04T00:00:00",
          "2020-08-21T00:00:00",
          "2020-08-07T00:00:00",
          "2020-07-24T00:00:00",
          "2020-07-10T00:00:00",
          "2020-06-26T00:00:00",
          "2020-06-10T00:00:00"
         ],
         "xaxis": "x",
         "y": [
          52,
          52,
          54,
          51,
          49,
          51,
          50,
          51,
          51,
          49,
          51
         ],
         "yaxis": "y"
        },
        {
         "hovertemplate": "poll=SurveyUSA<br>date=%{x}<br>biden=%{y}<extra></extra>",
         "legendgroup": "SurveyUSA",
         "marker": {
          "color": "#ab63fa",
          "symbol": "circle"
         },
         "mode": "markers",
         "name": "SurveyUSA",
         "orientation": "v",
         "showlegend": true,
         "type": "scatter",
         "x": [
          "2020-10-16T00:00:00",
          "2020-10-01T00:00:00"
         ],
         "xaxis": "x",
         "y": [
          53,
          53
         ],
         "yaxis": "y"
        },
        {
         "hovertemplate": "poll=NY Times/Siena<br>date=%{x}<br>biden=%{y}<extra></extra>",
         "legendgroup": "NY Times/Siena",
         "marker": {
          "color": "#FFA15A",
          "symbol": "circle"
         },
         "mode": "markers",
         "name": "NY Times/Siena",
         "orientation": "v",
         "showlegend": true,
         "type": "scatter",
         "x": [
          "2020-10-15T00:00:00",
          "2020-09-22T00:00:00",
          "2020-06-17T00:00:00"
         ],
         "xaxis": "x",
         "y": [
          50,
          49,
          50
         ],
         "yaxis": "y"
        },
        {
         "hovertemplate": "poll=NBC News/Wall St. Jrnl<br>date=%{x}<br>biden=%{y}<extra></extra>",
         "legendgroup": "NBC News/Wall St. Jrnl",
         "marker": {
          "color": "#19d3f3",
          "symbol": "circle"
         },
         "mode": "markers",
         "name": "NBC News/Wall St. Jrnl",
         "orientation": "v",
         "showlegend": true,
         "type": "scatter",
         "x": [
          "2020-10-09T00:00:00",
          "2020-09-30T00:00:00",
          "2020-09-13T00:00:00",
          "2020-08-09T00:00:00",
          "2020-07-09T00:00:00",
          "2020-05-28T00:00:00",
          "2020-04-13T00:00:00",
          "2020-03-11T00:00:00",
          "2020-02-14T00:00:00",
          "2020-01-26T00:00:00"
         ],
         "xaxis": "x",
         "y": [
          53,
          53,
          51,
          50,
          51,
          49,
          49,
          52,
          52,
          50
         ],
         "yaxis": "y"
        },
        {
         "hovertemplate": "poll=NPR/PBS/Marist<br>date=%{x}<br>biden=%{y}<extra></extra>",
         "legendgroup": "NPR/PBS/Marist",
         "marker": {
          "color": "#FF6692",
          "symbol": "circle"
         },
         "mode": "markers",
         "name": "NPR/PBS/Marist",
         "orientation": "v",
         "showlegend": true,
         "type": "scatter",
         "x": [
          "2020-10-08T00:00:00",
          "2020-09-11T00:00:00",
          "2020-08-03T00:00:00",
          "2020-06-22T00:00:00",
          "2020-06-02T00:00:00",
          "2020-02-13T00:00:00"
         ],
         "xaxis": "x",
         "y": [
          54,
          52,
          53,
          52,
          50,
          50
         ],
         "yaxis": "y"
        },
        {
         "hovertemplate": "poll=ABC News/Wash Post<br>date=%{x}<br>biden=%{y}<extra></extra>",
         "legendgroup": "ABC News/Wash Post",
         "marker": {
          "color": "#B6E880",
          "symbol": "circle"
         },
         "mode": "markers",
         "name": "ABC News/Wash Post",
         "orientation": "v",
         "showlegend": true,
         "type": "scatter",
         "x": [
          "2020-10-06T00:00:00",
          "2020-09-21T00:00:00",
          "2020-08-12T00:00:00",
          "2020-07-12T00:00:00",
          "2020-05-25T00:00:00",
          "2020-03-22T00:00:00",
          "2020-02-14T00:00:00",
          "2020-01-20T00:00:00"
         ],
         "xaxis": "x",
         "y": [
          55,
          54,
          54,
          54,
          53,
          49,
          52,
          50
         ],
         "yaxis": "y"
        },
        {
         "hovertemplate": "poll=FOX News<br>date=%{x}<br>biden=%{y}<extra></extra>",
         "legendgroup": "FOX News",
         "marker": {
          "color": "#FF97FF",
          "symbol": "circle"
         },
         "mode": "markers",
         "name": "FOX News",
         "orientation": "v",
         "showlegend": true,
         "type": "scatter",
         "x": [
          "2020-10-03T00:00:00",
          "2020-09-07T00:00:00",
          "2020-08-09T00:00:00",
          "2020-07-12T00:00:00",
          "2020-06-13T00:00:00",
          "2020-05-17T00:00:00",
          "2020-04-04T00:00:00",
          "2020-03-21T00:00:00",
          "2020-02-23T00:00:00",
          "2020-01-19T00:00:00"
         ],
         "xaxis": "x",
         "y": [
          53,
          51,
          49,
          49,
          50,
          48,
          42,
          49,
          49,
          50
         ],
         "yaxis": "y"
        },
        {
         "hovertemplate": "poll=Monmouth<br>date=%{x}<br>biden=%{y}<extra></extra>",
         "legendgroup": "Monmouth",
         "marker": {
          "color": "#FECB52",
          "symbol": "circle"
         },
         "mode": "markers",
         "name": "Monmouth",
         "orientation": "v",
         "showlegend": true,
         "type": "scatter",
         "x": [
          "2020-09-24T00:00:00",
          "2020-09-03T00:00:00",
          "2020-08-06T00:00:00",
          "2020-06-26T00:00:00",
          "2020-05-28T00:00:00",
          "2020-04-30T00:00:00",
          "2020-04-03T00:00:00",
          "2020-03-18T00:00:00"
         ],
         "xaxis": "x",
         "y": [
          50,
          51,
          51,
          53,
          52,
          50,
          48,
          48
         ],
         "yaxis": "y"
        },
        {
         "hovertemplate": "poll=Harvard-Harris<br>date=%{x}<br>biden=%{y}<extra></extra>",
         "legendgroup": "Harvard-Harris",
         "marker": {
          "color": "#636efa",
          "symbol": "circle"
         },
         "mode": "markers",
         "name": "Harvard-Harris",
         "orientation": "v",
         "showlegend": true,
         "type": "scatter",
         "x": [
          "2020-09-22T00:00:00",
          "2020-08-31T00:00:00",
          "2020-07-21T00:00:00",
          "2020-06-17T00:00:00",
          "2020-05-13T00:00:00",
          "2020-04-14T00:00:00",
          "2020-03-24T00:00:00",
          "2020-02-26T00:00:00"
         ],
         "xaxis": "x",
         "y": [
          47,
          53,
          55,
          56,
          53,
          53,
          55,
          55
         ],
         "yaxis": "y"
        },
        {
         "hovertemplate": "poll=CBS News/YouGov<br>date=%{x}<br>biden=%{y}<extra></extra>",
         "legendgroup": "CBS News/YouGov",
         "marker": {
          "color": "#EF553B",
          "symbol": "circle"
         },
         "mode": "markers",
         "name": "CBS News/YouGov",
         "orientation": "v",
         "showlegend": true,
         "type": "scatter",
         "x": [
          "2020-09-02T00:00:00",
          "2020-08-20T00:00:00",
          "2020-08-12T00:00:00",
          "2020-07-21T00:00:00",
          "2020-05-29T00:00:00",
          "2020-04-28T00:00:00",
          "2020-02-20T00:00:00"
         ],
         "xaxis": "x",
         "y": [
          52,
          52,
          52,
          51,
          47,
          49,
          47
         ],
         "yaxis": "y"
        },
        {
         "hovertemplate": "poll=Grinnell/Selzer<br>date=%{x}<br>biden=%{y}<extra></extra>",
         "legendgroup": "Grinnell/Selzer",
         "marker": {
          "color": "#00cc96",
          "symbol": "circle"
         },
         "mode": "markers",
         "name": "Grinnell/Selzer",
         "orientation": "v",
         "showlegend": true,
         "type": "scatter",
         "x": [
          "2020-08-26T00:00:00",
          "2020-03-27T00:00:00"
         ],
         "xaxis": "x",
         "y": [
          49,
          47
         ],
         "yaxis": "y"
        },
        {
         "hovertemplate": "poll=GU Politics/Battleground<br>date=%{x}<br>biden=%{y}<extra></extra>",
         "legendgroup": "GU Politics/Battleground",
         "marker": {
          "color": "#ab63fa",
          "symbol": "circle"
         },
         "mode": "markers",
         "name": "GU Politics/Battleground",
         "orientation": "v",
         "showlegend": true,
         "type": "scatter",
         "x": [
          "2020-08-01T00:00:00"
         ],
         "xaxis": "x",
         "y": [
          53
         ],
         "yaxis": "y"
        },
        {
         "hovertemplate": "poll=LA Times/USC<br>date=%{x}<br>biden=%{y}<extra></extra>",
         "legendgroup": "LA Times/USC",
         "marker": {
          "color": "#FFA15A",
          "symbol": "circle"
         },
         "mode": "markers",
         "name": "LA Times/USC",
         "orientation": "v",
         "showlegend": true,
         "type": "scatter",
         "x": [
          "2020-01-15T00:00:00"
         ],
         "xaxis": "x",
         "y": [
          49
         ],
         "yaxis": "y"
        }
       ],
       "layout": {
        "legend": {
         "title": {
          "text": "poll"
         },
         "tracegroupgap": 0
        },
        "margin": {
         "t": 60
        },
        "template": {
         "data": {
          "bar": [
           {
            "error_x": {
             "color": "#2a3f5f"
            },
            "error_y": {
             "color": "#2a3f5f"
            },
            "marker": {
             "line": {
              "color": "#E5ECF6",
              "width": 0.5
             }
            },
            "type": "bar"
           }
          ],
          "barpolar": [
           {
            "marker": {
             "line": {
              "color": "#E5ECF6",
              "width": 0.5
             }
            },
            "type": "barpolar"
           }
          ],
          "carpet": [
           {
            "aaxis": {
             "endlinecolor": "#2a3f5f",
             "gridcolor": "white",
             "linecolor": "white",
             "minorgridcolor": "white",
             "startlinecolor": "#2a3f5f"
            },
            "baxis": {
             "endlinecolor": "#2a3f5f",
             "gridcolor": "white",
             "linecolor": "white",
             "minorgridcolor": "white",
             "startlinecolor": "#2a3f5f"
            },
            "type": "carpet"
           }
          ],
          "choropleth": [
           {
            "colorbar": {
             "outlinewidth": 0,
             "ticks": ""
            },
            "type": "choropleth"
           }
          ],
          "contour": [
           {
            "colorbar": {
             "outlinewidth": 0,
             "ticks": ""
            },
            "colorscale": [
             [
              0,
              "#0d0887"
             ],
             [
              0.1111111111111111,
              "#46039f"
             ],
             [
              0.2222222222222222,
              "#7201a8"
             ],
             [
              0.3333333333333333,
              "#9c179e"
             ],
             [
              0.4444444444444444,
              "#bd3786"
             ],
             [
              0.5555555555555556,
              "#d8576b"
             ],
             [
              0.6666666666666666,
              "#ed7953"
             ],
             [
              0.7777777777777778,
              "#fb9f3a"
             ],
             [
              0.8888888888888888,
              "#fdca26"
             ],
             [
              1,
              "#f0f921"
             ]
            ],
            "type": "contour"
           }
          ],
          "contourcarpet": [
           {
            "colorbar": {
             "outlinewidth": 0,
             "ticks": ""
            },
            "type": "contourcarpet"
           }
          ],
          "heatmap": [
           {
            "colorbar": {
             "outlinewidth": 0,
             "ticks": ""
            },
            "colorscale": [
             [
              0,
              "#0d0887"
             ],
             [
              0.1111111111111111,
              "#46039f"
             ],
             [
              0.2222222222222222,
              "#7201a8"
             ],
             [
              0.3333333333333333,
              "#9c179e"
             ],
             [
              0.4444444444444444,
              "#bd3786"
             ],
             [
              0.5555555555555556,
              "#d8576b"
             ],
             [
              0.6666666666666666,
              "#ed7953"
             ],
             [
              0.7777777777777778,
              "#fb9f3a"
             ],
             [
              0.8888888888888888,
              "#fdca26"
             ],
             [
              1,
              "#f0f921"
             ]
            ],
            "type": "heatmap"
           }
          ],
          "heatmapgl": [
           {
            "colorbar": {
             "outlinewidth": 0,
             "ticks": ""
            },
            "colorscale": [
             [
              0,
              "#0d0887"
             ],
             [
              0.1111111111111111,
              "#46039f"
             ],
             [
              0.2222222222222222,
              "#7201a8"
             ],
             [
              0.3333333333333333,
              "#9c179e"
             ],
             [
              0.4444444444444444,
              "#bd3786"
             ],
             [
              0.5555555555555556,
              "#d8576b"
             ],
             [
              0.6666666666666666,
              "#ed7953"
             ],
             [
              0.7777777777777778,
              "#fb9f3a"
             ],
             [
              0.8888888888888888,
              "#fdca26"
             ],
             [
              1,
              "#f0f921"
             ]
            ],
            "type": "heatmapgl"
           }
          ],
          "histogram": [
           {
            "marker": {
             "colorbar": {
              "outlinewidth": 0,
              "ticks": ""
             }
            },
            "type": "histogram"
           }
          ],
          "histogram2d": [
           {
            "colorbar": {
             "outlinewidth": 0,
             "ticks": ""
            },
            "colorscale": [
             [
              0,
              "#0d0887"
             ],
             [
              0.1111111111111111,
              "#46039f"
             ],
             [
              0.2222222222222222,
              "#7201a8"
             ],
             [
              0.3333333333333333,
              "#9c179e"
             ],
             [
              0.4444444444444444,
              "#bd3786"
             ],
             [
              0.5555555555555556,
              "#d8576b"
             ],
             [
              0.6666666666666666,
              "#ed7953"
             ],
             [
              0.7777777777777778,
              "#fb9f3a"
             ],
             [
              0.8888888888888888,
              "#fdca26"
             ],
             [
              1,
              "#f0f921"
             ]
            ],
            "type": "histogram2d"
           }
          ],
          "histogram2dcontour": [
           {
            "colorbar": {
             "outlinewidth": 0,
             "ticks": ""
            },
            "colorscale": [
             [
              0,
              "#0d0887"
             ],
             [
              0.1111111111111111,
              "#46039f"
             ],
             [
              0.2222222222222222,
              "#7201a8"
             ],
             [
              0.3333333333333333,
              "#9c179e"
             ],
             [
              0.4444444444444444,
              "#bd3786"
             ],
             [
              0.5555555555555556,
              "#d8576b"
             ],
             [
              0.6666666666666666,
              "#ed7953"
             ],
             [
              0.7777777777777778,
              "#fb9f3a"
             ],
             [
              0.8888888888888888,
              "#fdca26"
             ],
             [
              1,
              "#f0f921"
             ]
            ],
            "type": "histogram2dcontour"
           }
          ],
          "mesh3d": [
           {
            "colorbar": {
             "outlinewidth": 0,
             "ticks": ""
            },
            "type": "mesh3d"
           }
          ],
          "parcoords": [
           {
            "line": {
             "colorbar": {
              "outlinewidth": 0,
              "ticks": ""
             }
            },
            "type": "parcoords"
           }
          ],
          "pie": [
           {
            "automargin": true,
            "type": "pie"
           }
          ],
          "scatter": [
           {
            "marker": {
             "colorbar": {
              "outlinewidth": 0,
              "ticks": ""
             }
            },
            "type": "scatter"
           }
          ],
          "scatter3d": [
           {
            "line": {
             "colorbar": {
              "outlinewidth": 0,
              "ticks": ""
             }
            },
            "marker": {
             "colorbar": {
              "outlinewidth": 0,
              "ticks": ""
             }
            },
            "type": "scatter3d"
           }
          ],
          "scattercarpet": [
           {
            "marker": {
             "colorbar": {
              "outlinewidth": 0,
              "ticks": ""
             }
            },
            "type": "scattercarpet"
           }
          ],
          "scattergeo": [
           {
            "marker": {
             "colorbar": {
              "outlinewidth": 0,
              "ticks": ""
             }
            },
            "type": "scattergeo"
           }
          ],
          "scattergl": [
           {
            "marker": {
             "colorbar": {
              "outlinewidth": 0,
              "ticks": ""
             }
            },
            "type": "scattergl"
           }
          ],
          "scattermapbox": [
           {
            "marker": {
             "colorbar": {
              "outlinewidth": 0,
              "ticks": ""
             }
            },
            "type": "scattermapbox"
           }
          ],
          "scatterpolar": [
           {
            "marker": {
             "colorbar": {
              "outlinewidth": 0,
              "ticks": ""
             }
            },
            "type": "scatterpolar"
           }
          ],
          "scatterpolargl": [
           {
            "marker": {
             "colorbar": {
              "outlinewidth": 0,
              "ticks": ""
             }
            },
            "type": "scatterpolargl"
           }
          ],
          "scatterternary": [
           {
            "marker": {
             "colorbar": {
              "outlinewidth": 0,
              "ticks": ""
             }
            },
            "type": "scatterternary"
           }
          ],
          "surface": [
           {
            "colorbar": {
             "outlinewidth": 0,
             "ticks": ""
            },
            "colorscale": [
             [
              0,
              "#0d0887"
             ],
             [
              0.1111111111111111,
              "#46039f"
             ],
             [
              0.2222222222222222,
              "#7201a8"
             ],
             [
              0.3333333333333333,
              "#9c179e"
             ],
             [
              0.4444444444444444,
              "#bd3786"
             ],
             [
              0.5555555555555556,
              "#d8576b"
             ],
             [
              0.6666666666666666,
              "#ed7953"
             ],
             [
              0.7777777777777778,
              "#fb9f3a"
             ],
             [
              0.8888888888888888,
              "#fdca26"
             ],
             [
              1,
              "#f0f921"
             ]
            ],
            "type": "surface"
           }
          ],
          "table": [
           {
            "cells": {
             "fill": {
              "color": "#EBF0F8"
             },
             "line": {
              "color": "white"
             }
            },
            "header": {
             "fill": {
              "color": "#C8D4E3"
             },
             "line": {
              "color": "white"
             }
            },
            "type": "table"
           }
          ]
         },
         "layout": {
          "annotationdefaults": {
           "arrowcolor": "#2a3f5f",
           "arrowhead": 0,
           "arrowwidth": 1
          },
          "coloraxis": {
           "colorbar": {
            "outlinewidth": 0,
            "ticks": ""
           }
          },
          "colorscale": {
           "diverging": [
            [
             0,
             "#8e0152"
            ],
            [
             0.1,
             "#c51b7d"
            ],
            [
             0.2,
             "#de77ae"
            ],
            [
             0.3,
             "#f1b6da"
            ],
            [
             0.4,
             "#fde0ef"
            ],
            [
             0.5,
             "#f7f7f7"
            ],
            [
             0.6,
             "#e6f5d0"
            ],
            [
             0.7,
             "#b8e186"
            ],
            [
             0.8,
             "#7fbc41"
            ],
            [
             0.9,
             "#4d9221"
            ],
            [
             1,
             "#276419"
            ]
           ],
           "sequential": [
            [
             0,
             "#0d0887"
            ],
            [
             0.1111111111111111,
             "#46039f"
            ],
            [
             0.2222222222222222,
             "#7201a8"
            ],
            [
             0.3333333333333333,
             "#9c179e"
            ],
            [
             0.4444444444444444,
             "#bd3786"
            ],
            [
             0.5555555555555556,
             "#d8576b"
            ],
            [
             0.6666666666666666,
             "#ed7953"
            ],
            [
             0.7777777777777778,
             "#fb9f3a"
            ],
            [
             0.8888888888888888,
             "#fdca26"
            ],
            [
             1,
             "#f0f921"
            ]
           ],
           "sequentialminus": [
            [
             0,
             "#0d0887"
            ],
            [
             0.1111111111111111,
             "#46039f"
            ],
            [
             0.2222222222222222,
             "#7201a8"
            ],
            [
             0.3333333333333333,
             "#9c179e"
            ],
            [
             0.4444444444444444,
             "#bd3786"
            ],
            [
             0.5555555555555556,
             "#d8576b"
            ],
            [
             0.6666666666666666,
             "#ed7953"
            ],
            [
             0.7777777777777778,
             "#fb9f3a"
            ],
            [
             0.8888888888888888,
             "#fdca26"
            ],
            [
             1,
             "#f0f921"
            ]
           ]
          },
          "colorway": [
           "#636efa",
           "#EF553B",
           "#00cc96",
           "#ab63fa",
           "#FFA15A",
           "#19d3f3",
           "#FF6692",
           "#B6E880",
           "#FF97FF",
           "#FECB52"
          ],
          "font": {
           "color": "#2a3f5f"
          },
          "geo": {
           "bgcolor": "white",
           "lakecolor": "white",
           "landcolor": "#E5ECF6",
           "showlakes": true,
           "showland": true,
           "subunitcolor": "white"
          },
          "hoverlabel": {
           "align": "left"
          },
          "hovermode": "closest",
          "mapbox": {
           "style": "light"
          },
          "paper_bgcolor": "white",
          "plot_bgcolor": "#E5ECF6",
          "polar": {
           "angularaxis": {
            "gridcolor": "white",
            "linecolor": "white",
            "ticks": ""
           },
           "bgcolor": "#E5ECF6",
           "radialaxis": {
            "gridcolor": "white",
            "linecolor": "white",
            "ticks": ""
           }
          },
          "scene": {
           "xaxis": {
            "backgroundcolor": "#E5ECF6",
            "gridcolor": "white",
            "gridwidth": 2,
            "linecolor": "white",
            "showbackground": true,
            "ticks": "",
            "zerolinecolor": "white"
           },
           "yaxis": {
            "backgroundcolor": "#E5ECF6",
            "gridcolor": "white",
            "gridwidth": 2,
            "linecolor": "white",
            "showbackground": true,
            "ticks": "",
            "zerolinecolor": "white"
           },
           "zaxis": {
            "backgroundcolor": "#E5ECF6",
            "gridcolor": "white",
            "gridwidth": 2,
            "linecolor": "white",
            "showbackground": true,
            "ticks": "",
            "zerolinecolor": "white"
           }
          },
          "shapedefaults": {
           "line": {
            "color": "#2a3f5f"
           }
          },
          "ternary": {
           "aaxis": {
            "gridcolor": "white",
            "linecolor": "white",
            "ticks": ""
           },
           "baxis": {
            "gridcolor": "white",
            "linecolor": "white",
            "ticks": ""
           },
           "bgcolor": "#E5ECF6",
           "caxis": {
            "gridcolor": "white",
            "linecolor": "white",
            "ticks": ""
           }
          },
          "title": {
           "x": 0.05
          },
          "xaxis": {
           "automargin": true,
           "gridcolor": "white",
           "linecolor": "white",
           "ticks": "",
           "title": {
            "standoff": 15
           },
           "zerolinecolor": "white",
           "zerolinewidth": 2
          },
          "yaxis": {
           "automargin": true,
           "gridcolor": "white",
           "linecolor": "white",
           "ticks": "",
           "title": {
            "standoff": 15
           },
           "zerolinecolor": "white",
           "zerolinewidth": 2
          }
         }
        },
        "xaxis": {
         "anchor": "y",
         "domain": [
          0,
          1
         ],
         "rangeslider": {
          "visible": true
         },
         "title": {
          "text": "date"
         }
        },
        "yaxis": {
         "anchor": "x",
         "domain": [
          0,
          1
         ],
         "title": {
          "text": "biden"
         }
        }
       }
      },
      "text/html": [
       "<div>                            <div id=\"1119279f-d8c3-40dd-bf44-a516d7be2895\" class=\"plotly-graph-div\" style=\"height:525px; width:100%;\"></div>            <script type=\"text/javascript\">                require([\"plotly\"], function(Plotly) {                    window.PLOTLYENV=window.PLOTLYENV || {};                                    if (document.getElementById(\"1119279f-d8c3-40dd-bf44-a516d7be2895\")) {                    Plotly.newPlot(                        \"1119279f-d8c3-40dd-bf44-a516d7be2895\",                        [{\"hovertemplate\": \"poll=The Hill/HarrisX<br>date=%{x}<br>biden=%{y}<extra></extra>\", \"legendgroup\": \"The Hill/HarrisX\", \"marker\": {\"color\": \"#636efa\", \"symbol\": \"circle\"}, \"mode\": \"markers\", \"name\": \"The Hill/HarrisX\", \"orientation\": \"v\", \"showlegend\": true, \"type\": \"scatter\", \"x\": [\"2020-10-25T00:00:00\", \"2020-10-13T00:00:00\", \"2020-10-10T00:00:00\", \"2020-10-03T00:00:00\", \"2020-09-30T00:00:00\", \"2020-09-22T00:00:00\", \"2020-09-19T00:00:00\", \"2020-09-10T00:00:00\", \"2020-09-05T00:00:00\", \"2020-08-29T00:00:00\", \"2020-08-25T00:00:00\", \"2020-08-22T00:00:00\", \"2020-08-15T00:00:00\", \"2020-08-11T00:00:00\", \"2020-08-08T00:00:00\", \"2020-08-02T00:00:00\", \"2020-07-17T00:00:00\", \"2020-07-03T00:00:00\", \"2020-06-22T00:00:00\", \"2020-06-01T00:00:00\", \"2020-05-13T00:00:00\", \"2020-04-19T00:00:00\"], \"xaxis\": \"x\", \"y\": [49, 46, 47, 45, 47, 45, 45, 45, 47, 46, 47, 47, 46, 45, 44, 43, 45, 43, 43, 47, 42, 42], \"yaxis\": \"y\"}, {\"hovertemplate\": \"poll=IBD/TIPP<br>date=%{x}<br>biden=%{y}<extra></extra>\", \"legendgroup\": \"IBD/TIPP\", \"marker\": {\"color\": \"#EF553B\", \"symbol\": \"circle\"}, \"mode\": \"markers\", \"name\": \"IBD/TIPP\", \"orientation\": \"v\", \"showlegend\": true, \"type\": \"scatter\", \"x\": [\"2020-10-25T00:00:00\", \"2020-09-30T00:00:00\", \"2020-09-16T00:00:00\", \"2020-08-29T00:00:00\", \"2020-07-25T00:00:00\", \"2020-06-27T00:00:00\", \"2020-05-31T00:00:00\", \"2020-04-26T00:00:00\", \"2020-03-29T00:00:00\", \"2020-02-20T00:00:00\", \"2020-01-23T00:00:00\", \"2020-01-03T00:00:00\"], \"xaxis\": \"x\", \"y\": [51, 49, 50, 49, 48, 48, 45, 43, 47, 49, 49, 48], \"yaxis\": \"y\"}, {\"hovertemplate\": \"poll=Rasmussen Reports<br>date=%{x}<br>biden=%{y}<extra></extra>\", \"legendgroup\": \"Rasmussen Reports\", \"marker\": {\"color\": \"#00cc96\", \"symbol\": \"circle\"}, \"mode\": \"markers\", \"name\": \"Rasmussen Reports\", \"orientation\": \"v\", \"showlegend\": true, \"type\": \"scatter\", \"x\": [\"2020-10-27T00:00:00\", \"2020-10-14T00:00:00\", \"2020-10-07T00:00:00\", \"2020-09-30T00:00:00\", \"2020-09-23T00:00:00\", \"2020-09-16T00:00:00\", \"2020-09-09T00:00:00\", \"2020-09-02T00:00:00\", \"2020-08-26T00:00:00\", \"2020-08-19T00:00:00\", \"2020-08-12T00:00:00\", \"2020-08-05T00:00:00\", \"2020-07-29T00:00:00\", \"2020-07-22T00:00:00\", \"2020-07-15T00:00:00\", \"2020-07-08T00:00:00\", \"2020-07-05T00:00:00\", \"2020-05-18T00:00:00\"], \"xaxis\": \"x\", \"y\": [49, 49, 50, 52, 51, 48, 46, 48, 49, 46, 48, 49, 48, 48, 47, 47, 50, 48], \"yaxis\": \"y\"}, {\"hovertemplate\": \"poll=Economist/YouGov<br>date=%{x}<br>biden=%{y}<extra></extra>\", \"legendgroup\": \"Economist/YouGov\", \"marker\": {\"color\": \"#ab63fa\", \"symbol\": \"circle\"}, \"mode\": \"markers\", \"name\": \"Economist/YouGov\", \"orientation\": \"v\", \"showlegend\": true, \"type\": \"scatter\", \"x\": [\"2020-10-25T00:00:00\", \"2020-10-18T00:00:00\", \"2020-10-11T00:00:00\", \"2020-10-04T00:00:00\", \"2020-09-27T00:00:00\", \"2020-09-20T00:00:00\", \"2020-09-13T00:00:00\", \"2020-09-06T00:00:00\", \"2020-08-30T00:00:00\", \"2020-08-23T00:00:00\", \"2020-08-16T00:00:00\", \"2020-08-09T00:00:00\", \"2020-08-02T00:00:00\", \"2020-07-26T00:00:00\", \"2020-07-19T00:00:00\", \"2020-07-12T00:00:00\", \"2020-07-05T00:00:00\", \"2020-06-28T00:00:00\", \"2020-06-21T00:00:00\", \"2020-06-14T00:00:00\", \"2020-06-07T00:00:00\", \"2020-05-31T00:00:00\", \"2020-05-23T00:00:00\", \"2020-05-17T00:00:00\", \"2020-05-10T00:00:00\", \"2020-05-03T00:00:00\", \"2020-04-26T00:00:00\", \"2020-04-19T00:00:00\", \"2020-04-12T00:00:00\", \"2020-04-05T00:00:00\", \"2020-03-29T00:00:00\", \"2020-03-22T00:00:00\", \"2020-03-15T00:00:00\", \"2020-03-08T00:00:00\"], \"xaxis\": \"x\", \"y\": [54, 52, 52, 51, 50, 49, 51, 52, 51, 50, 50, 49, 49, 49, 48, 49, 49, 49, 49, 50, 49, 47, 45, 47, 47, 46, 47, 48, 48, 48, 46, 46, 48, 47], \"yaxis\": \"y\"}, {\"hovertemplate\": \"poll=Emerson<br>date=%{x}<br>biden=%{y}<extra></extra>\", \"legendgroup\": \"Emerson\", \"marker\": {\"color\": \"#FFA15A\", \"symbol\": \"circle\"}, \"mode\": \"markers\", \"name\": \"Emerson\", \"orientation\": \"v\", \"showlegend\": true, \"type\": \"scatter\", \"x\": [\"2020-10-25T00:00:00\", \"2020-09-22T00:00:00\", \"2020-08-30T00:00:00\", \"2020-07-29T00:00:00\", \"2020-06-02T00:00:00\", \"2020-04-26T00:00:00\", \"2020-03-18T00:00:00\", \"2020-02-16T00:00:00\", \"2020-01-21T00:00:00\"], \"xaxis\": \"x\", \"y\": [50, 48, 49, 50, 53, 48, 53, 48, 50], \"yaxis\": \"y\"}, {\"hovertemplate\": \"poll=USA Today/Suffolk<br>date=%{x}<br>biden=%{y}<extra></extra>\", \"legendgroup\": \"USA Today/Suffolk\", \"marker\": {\"color\": \"#19d3f3\", \"symbol\": \"circle\"}, \"mode\": \"markers\", \"name\": \"USA Today/Suffolk\", \"orientation\": \"v\", \"showlegend\": true, \"type\": \"scatter\", \"x\": [\"2020-10-23T00:00:00\", \"2020-08-28T00:00:00\", \"2020-06-25T00:00:00\", \"2020-04-21T00:00:00\"], \"xaxis\": \"x\", \"y\": [52, 50, 53, 50], \"yaxis\": \"y\"}, {\"hovertemplate\": \"poll=Reuters/Ipsos<br>date=%{x}<br>biden=%{y}<extra></extra>\", \"legendgroup\": \"Reuters/Ipsos\", \"marker\": {\"color\": \"#FF6692\", \"symbol\": \"circle\"}, \"mode\": \"markers\", \"name\": \"Reuters/Ipsos\", \"orientation\": \"v\", \"showlegend\": true, \"type\": \"scatter\", \"x\": [\"2020-10-23T00:00:00\", \"2020-10-16T00:00:00\", \"2020-10-09T00:00:00\", \"2020-10-02T00:00:00\", \"2020-09-25T00:00:00\", \"2020-09-18T00:00:00\", \"2020-09-11T00:00:00\", \"2020-09-03T00:00:00\", \"2020-08-28T00:00:00\"], \"xaxis\": \"x\", \"y\": [52, 51, 51, 52, 51, 50, 50, 52, 47], \"yaxis\": \"y\"}, {\"hovertemplate\": \"poll=CNN<br>date=%{x}<br>biden=%{y}<extra></extra>\", \"legendgroup\": \"CNN\", \"marker\": {\"color\": \"#B6E880\", \"symbol\": \"circle\"}, \"mode\": \"markers\", \"name\": \"CNN\", \"orientation\": \"v\", \"showlegend\": true, \"type\": \"scatter\", \"x\": [\"2020-10-23T00:00:00\", \"2020-10-01T00:00:00\", \"2020-08-28T00:00:00\", \"2020-08-12T00:00:00\", \"2020-06-02T00:00:00\", \"2020-05-07T00:00:00\", \"2020-04-03T00:00:00\", \"2020-03-04T00:00:00\", \"2020-01-16T00:00:00\"], \"xaxis\": \"x\", \"y\": [54, 57, 51, 50, 55, 51, 53, 53, 53], \"yaxis\": \"y\"}, {\"hovertemplate\": \"poll=JTN/RMG Research<br>date=%{x}<br>biden=%{y}<extra></extra>\", \"legendgroup\": \"JTN/RMG Research\", \"marker\": {\"color\": \"#FF97FF\", \"symbol\": \"circle\"}, \"mode\": \"markers\", \"name\": \"JTN/RMG Research\", \"orientation\": \"v\", \"showlegend\": true, \"type\": \"scatter\", \"x\": [\"2020-10-23T00:00:00\", \"2020-10-15T00:00:00\", \"2020-10-08T00:00:00\", \"2020-10-01T00:00:00\", \"2020-09-24T00:00:00\", \"2020-09-17T00:00:00\", \"2020-09-10T00:00:00\"], \"xaxis\": \"x\", \"y\": [51, 51, 51, 51, 51, 50, 48], \"yaxis\": \"y\"}, {\"hovertemplate\": \"poll=CNBC<br>date=%{x}<br>biden=%{y}<extra></extra>\", \"legendgroup\": \"CNBC\", \"marker\": {\"color\": \"#FECB52\", \"symbol\": \"circle\"}, \"mode\": \"markers\", \"name\": \"CNBC\", \"orientation\": \"v\", \"showlegend\": true, \"type\": \"scatter\", \"x\": [\"2020-10-21T00:00:00\", \"2020-06-19T00:00:00\", \"2020-05-29T00:00:00\", \"2020-05-15T00:00:00\", \"2020-05-01T00:00:00\", \"2020-04-03T00:00:00\"], \"xaxis\": \"x\", \"y\": [51, 47, 48, 48, 47, 44], \"yaxis\": \"y\"}, {\"hovertemplate\": \"poll=USC Dornsife<br>date=%{x}<br>biden=%{y}<extra></extra>\", \"legendgroup\": \"USC Dornsife\", \"marker\": {\"color\": \"#636efa\", \"symbol\": \"circle\"}, \"mode\": \"markers\", \"name\": \"USC Dornsife\", \"orientation\": \"v\", \"showlegend\": true, \"type\": \"scatter\", \"x\": [\"2020-10-16T00:00:00\", \"2020-09-07T00:00:00\", \"2020-08-31T00:00:00\"], \"xaxis\": \"x\", \"y\": [54, 52, 52], \"yaxis\": \"y\"}, {\"hovertemplate\": \"poll=Quinnipiac<br>date=%{x}<br>biden=%{y}<extra></extra>\", \"legendgroup\": \"Quinnipiac\", \"marker\": {\"color\": \"#EF553B\", \"symbol\": \"circle\"}, \"mode\": \"markers\", \"name\": \"Quinnipiac\", \"orientation\": \"v\", \"showlegend\": true, \"type\": \"scatter\", \"x\": [\"2020-10-16T00:00:00\", \"2020-09-17T00:00:00\", \"2020-08-28T00:00:00\", \"2020-07-09T00:00:00\", \"2020-06-11T00:00:00\", \"2020-05-14T00:00:00\", \"2020-04-02T00:00:00\", \"2020-03-05T00:00:00\", \"2020-02-05T00:00:00\"], \"xaxis\": \"x\", \"y\": [51, 52, 52, 52, 49, 50, 49, 52, 50], \"yaxis\": \"y\"}, {\"hovertemplate\": \"poll=CNBC/Change Research (D)<br>date=%{x}<br>biden=%{y}<extra></extra>\", \"legendgroup\": \"CNBC/Change Research (D)\", \"marker\": {\"color\": \"#00cc96\", \"symbol\": \"circle\"}, \"mode\": \"markers\", \"name\": \"CNBC/Change Research (D)\", \"orientation\": \"v\", \"showlegend\": true, \"type\": \"scatter\", \"x\": [\"2020-10-17T00:00:00\", \"2020-10-02T00:00:00\", \"2020-09-29T00:00:00\", \"2020-09-18T00:00:00\", \"2020-09-04T00:00:00\", \"2020-08-21T00:00:00\", \"2020-08-07T00:00:00\", \"2020-07-24T00:00:00\", \"2020-07-10T00:00:00\", \"2020-06-26T00:00:00\", \"2020-06-10T00:00:00\"], \"xaxis\": \"x\", \"y\": [52, 52, 54, 51, 49, 51, 50, 51, 51, 49, 51], \"yaxis\": \"y\"}, {\"hovertemplate\": \"poll=SurveyUSA<br>date=%{x}<br>biden=%{y}<extra></extra>\", \"legendgroup\": \"SurveyUSA\", \"marker\": {\"color\": \"#ab63fa\", \"symbol\": \"circle\"}, \"mode\": \"markers\", \"name\": \"SurveyUSA\", \"orientation\": \"v\", \"showlegend\": true, \"type\": \"scatter\", \"x\": [\"2020-10-16T00:00:00\", \"2020-10-01T00:00:00\"], \"xaxis\": \"x\", \"y\": [53, 53], \"yaxis\": \"y\"}, {\"hovertemplate\": \"poll=NY Times/Siena<br>date=%{x}<br>biden=%{y}<extra></extra>\", \"legendgroup\": \"NY Times/Siena\", \"marker\": {\"color\": \"#FFA15A\", \"symbol\": \"circle\"}, \"mode\": \"markers\", \"name\": \"NY Times/Siena\", \"orientation\": \"v\", \"showlegend\": true, \"type\": \"scatter\", \"x\": [\"2020-10-15T00:00:00\", \"2020-09-22T00:00:00\", \"2020-06-17T00:00:00\"], \"xaxis\": \"x\", \"y\": [50, 49, 50], \"yaxis\": \"y\"}, {\"hovertemplate\": \"poll=NBC News/Wall St. Jrnl<br>date=%{x}<br>biden=%{y}<extra></extra>\", \"legendgroup\": \"NBC News/Wall St. Jrnl\", \"marker\": {\"color\": \"#19d3f3\", \"symbol\": \"circle\"}, \"mode\": \"markers\", \"name\": \"NBC News/Wall St. Jrnl\", \"orientation\": \"v\", \"showlegend\": true, \"type\": \"scatter\", \"x\": [\"2020-10-09T00:00:00\", \"2020-09-30T00:00:00\", \"2020-09-13T00:00:00\", \"2020-08-09T00:00:00\", \"2020-07-09T00:00:00\", \"2020-05-28T00:00:00\", \"2020-04-13T00:00:00\", \"2020-03-11T00:00:00\", \"2020-02-14T00:00:00\", \"2020-01-26T00:00:00\"], \"xaxis\": \"x\", \"y\": [53, 53, 51, 50, 51, 49, 49, 52, 52, 50], \"yaxis\": \"y\"}, {\"hovertemplate\": \"poll=NPR/PBS/Marist<br>date=%{x}<br>biden=%{y}<extra></extra>\", \"legendgroup\": \"NPR/PBS/Marist\", \"marker\": {\"color\": \"#FF6692\", \"symbol\": \"circle\"}, \"mode\": \"markers\", \"name\": \"NPR/PBS/Marist\", \"orientation\": \"v\", \"showlegend\": true, \"type\": \"scatter\", \"x\": [\"2020-10-08T00:00:00\", \"2020-09-11T00:00:00\", \"2020-08-03T00:00:00\", \"2020-06-22T00:00:00\", \"2020-06-02T00:00:00\", \"2020-02-13T00:00:00\"], \"xaxis\": \"x\", \"y\": [54, 52, 53, 52, 50, 50], \"yaxis\": \"y\"}, {\"hovertemplate\": \"poll=ABC News/Wash Post<br>date=%{x}<br>biden=%{y}<extra></extra>\", \"legendgroup\": \"ABC News/Wash Post\", \"marker\": {\"color\": \"#B6E880\", \"symbol\": \"circle\"}, \"mode\": \"markers\", \"name\": \"ABC News/Wash Post\", \"orientation\": \"v\", \"showlegend\": true, \"type\": \"scatter\", \"x\": [\"2020-10-06T00:00:00\", \"2020-09-21T00:00:00\", \"2020-08-12T00:00:00\", \"2020-07-12T00:00:00\", \"2020-05-25T00:00:00\", \"2020-03-22T00:00:00\", \"2020-02-14T00:00:00\", \"2020-01-20T00:00:00\"], \"xaxis\": \"x\", \"y\": [55, 54, 54, 54, 53, 49, 52, 50], \"yaxis\": \"y\"}, {\"hovertemplate\": \"poll=FOX News<br>date=%{x}<br>biden=%{y}<extra></extra>\", \"legendgroup\": \"FOX News\", \"marker\": {\"color\": \"#FF97FF\", \"symbol\": \"circle\"}, \"mode\": \"markers\", \"name\": \"FOX News\", \"orientation\": \"v\", \"showlegend\": true, \"type\": \"scatter\", \"x\": [\"2020-10-03T00:00:00\", \"2020-09-07T00:00:00\", \"2020-08-09T00:00:00\", \"2020-07-12T00:00:00\", \"2020-06-13T00:00:00\", \"2020-05-17T00:00:00\", \"2020-04-04T00:00:00\", \"2020-03-21T00:00:00\", \"2020-02-23T00:00:00\", \"2020-01-19T00:00:00\"], \"xaxis\": \"x\", \"y\": [53, 51, 49, 49, 50, 48, 42, 49, 49, 50], \"yaxis\": \"y\"}, {\"hovertemplate\": \"poll=Monmouth<br>date=%{x}<br>biden=%{y}<extra></extra>\", \"legendgroup\": \"Monmouth\", \"marker\": {\"color\": \"#FECB52\", \"symbol\": \"circle\"}, \"mode\": \"markers\", \"name\": \"Monmouth\", \"orientation\": \"v\", \"showlegend\": true, \"type\": \"scatter\", \"x\": [\"2020-09-24T00:00:00\", \"2020-09-03T00:00:00\", \"2020-08-06T00:00:00\", \"2020-06-26T00:00:00\", \"2020-05-28T00:00:00\", \"2020-04-30T00:00:00\", \"2020-04-03T00:00:00\", \"2020-03-18T00:00:00\"], \"xaxis\": \"x\", \"y\": [50, 51, 51, 53, 52, 50, 48, 48], \"yaxis\": \"y\"}, {\"hovertemplate\": \"poll=Harvard-Harris<br>date=%{x}<br>biden=%{y}<extra></extra>\", \"legendgroup\": \"Harvard-Harris\", \"marker\": {\"color\": \"#636efa\", \"symbol\": \"circle\"}, \"mode\": \"markers\", \"name\": \"Harvard-Harris\", \"orientation\": \"v\", \"showlegend\": true, \"type\": \"scatter\", \"x\": [\"2020-09-22T00:00:00\", \"2020-08-31T00:00:00\", \"2020-07-21T00:00:00\", \"2020-06-17T00:00:00\", \"2020-05-13T00:00:00\", \"2020-04-14T00:00:00\", \"2020-03-24T00:00:00\", \"2020-02-26T00:00:00\"], \"xaxis\": \"x\", \"y\": [47, 53, 55, 56, 53, 53, 55, 55], \"yaxis\": \"y\"}, {\"hovertemplate\": \"poll=CBS News/YouGov<br>date=%{x}<br>biden=%{y}<extra></extra>\", \"legendgroup\": \"CBS News/YouGov\", \"marker\": {\"color\": \"#EF553B\", \"symbol\": \"circle\"}, \"mode\": \"markers\", \"name\": \"CBS News/YouGov\", \"orientation\": \"v\", \"showlegend\": true, \"type\": \"scatter\", \"x\": [\"2020-09-02T00:00:00\", \"2020-08-20T00:00:00\", \"2020-08-12T00:00:00\", \"2020-07-21T00:00:00\", \"2020-05-29T00:00:00\", \"2020-04-28T00:00:00\", \"2020-02-20T00:00:00\"], \"xaxis\": \"x\", \"y\": [52, 52, 52, 51, 47, 49, 47], \"yaxis\": \"y\"}, {\"hovertemplate\": \"poll=Grinnell/Selzer<br>date=%{x}<br>biden=%{y}<extra></extra>\", \"legendgroup\": \"Grinnell/Selzer\", \"marker\": {\"color\": \"#00cc96\", \"symbol\": \"circle\"}, \"mode\": \"markers\", \"name\": \"Grinnell/Selzer\", \"orientation\": \"v\", \"showlegend\": true, \"type\": \"scatter\", \"x\": [\"2020-08-26T00:00:00\", \"2020-03-27T00:00:00\"], \"xaxis\": \"x\", \"y\": [49, 47], \"yaxis\": \"y\"}, {\"hovertemplate\": \"poll=GU Politics/Battleground<br>date=%{x}<br>biden=%{y}<extra></extra>\", \"legendgroup\": \"GU Politics/Battleground\", \"marker\": {\"color\": \"#ab63fa\", \"symbol\": \"circle\"}, \"mode\": \"markers\", \"name\": \"GU Politics/Battleground\", \"orientation\": \"v\", \"showlegend\": true, \"type\": \"scatter\", \"x\": [\"2020-08-01T00:00:00\"], \"xaxis\": \"x\", \"y\": [53], \"yaxis\": \"y\"}, {\"hovertemplate\": \"poll=LA Times/USC<br>date=%{x}<br>biden=%{y}<extra></extra>\", \"legendgroup\": \"LA Times/USC\", \"marker\": {\"color\": \"#FFA15A\", \"symbol\": \"circle\"}, \"mode\": \"markers\", \"name\": \"LA Times/USC\", \"orientation\": \"v\", \"showlegend\": true, \"type\": \"scatter\", \"x\": [\"2020-01-15T00:00:00\"], \"xaxis\": \"x\", \"y\": [49], \"yaxis\": \"y\"}],                        {\"legend\": {\"title\": {\"text\": \"poll\"}, \"tracegroupgap\": 0}, \"margin\": {\"t\": 60}, \"template\": {\"data\": {\"bar\": [{\"error_x\": {\"color\": \"#2a3f5f\"}, \"error_y\": {\"color\": \"#2a3f5f\"}, \"marker\": {\"line\": {\"color\": \"#E5ECF6\", \"width\": 0.5}}, \"type\": \"bar\"}], \"barpolar\": [{\"marker\": {\"line\": {\"color\": \"#E5ECF6\", \"width\": 0.5}}, \"type\": \"barpolar\"}], \"carpet\": [{\"aaxis\": {\"endlinecolor\": \"#2a3f5f\", \"gridcolor\": \"white\", \"linecolor\": \"white\", \"minorgridcolor\": \"white\", \"startlinecolor\": \"#2a3f5f\"}, \"baxis\": {\"endlinecolor\": \"#2a3f5f\", \"gridcolor\": \"white\", \"linecolor\": \"white\", \"minorgridcolor\": \"white\", \"startlinecolor\": \"#2a3f5f\"}, \"type\": \"carpet\"}], \"choropleth\": [{\"colorbar\": {\"outlinewidth\": 0, \"ticks\": \"\"}, \"type\": \"choropleth\"}], \"contour\": [{\"colorbar\": {\"outlinewidth\": 0, \"ticks\": \"\"}, \"colorscale\": [[0.0, \"#0d0887\"], [0.1111111111111111, \"#46039f\"], [0.2222222222222222, \"#7201a8\"], [0.3333333333333333, \"#9c179e\"], [0.4444444444444444, \"#bd3786\"], [0.5555555555555556, \"#d8576b\"], [0.6666666666666666, \"#ed7953\"], [0.7777777777777778, \"#fb9f3a\"], [0.8888888888888888, \"#fdca26\"], [1.0, \"#f0f921\"]], \"type\": \"contour\"}], \"contourcarpet\": [{\"colorbar\": {\"outlinewidth\": 0, \"ticks\": \"\"}, \"type\": \"contourcarpet\"}], \"heatmap\": [{\"colorbar\": {\"outlinewidth\": 0, \"ticks\": \"\"}, \"colorscale\": [[0.0, \"#0d0887\"], [0.1111111111111111, \"#46039f\"], [0.2222222222222222, \"#7201a8\"], [0.3333333333333333, \"#9c179e\"], [0.4444444444444444, \"#bd3786\"], [0.5555555555555556, \"#d8576b\"], [0.6666666666666666, \"#ed7953\"], [0.7777777777777778, \"#fb9f3a\"], [0.8888888888888888, \"#fdca26\"], [1.0, \"#f0f921\"]], \"type\": \"heatmap\"}], \"heatmapgl\": [{\"colorbar\": {\"outlinewidth\": 0, \"ticks\": \"\"}, \"colorscale\": [[0.0, \"#0d0887\"], [0.1111111111111111, \"#46039f\"], [0.2222222222222222, \"#7201a8\"], [0.3333333333333333, \"#9c179e\"], [0.4444444444444444, \"#bd3786\"], [0.5555555555555556, \"#d8576b\"], [0.6666666666666666, \"#ed7953\"], [0.7777777777777778, \"#fb9f3a\"], [0.8888888888888888, \"#fdca26\"], [1.0, \"#f0f921\"]], \"type\": \"heatmapgl\"}], \"histogram\": [{\"marker\": {\"colorbar\": {\"outlinewidth\": 0, \"ticks\": \"\"}}, \"type\": \"histogram\"}], \"histogram2d\": [{\"colorbar\": {\"outlinewidth\": 0, \"ticks\": \"\"}, \"colorscale\": [[0.0, \"#0d0887\"], [0.1111111111111111, \"#46039f\"], [0.2222222222222222, \"#7201a8\"], [0.3333333333333333, \"#9c179e\"], [0.4444444444444444, \"#bd3786\"], [0.5555555555555556, \"#d8576b\"], [0.6666666666666666, \"#ed7953\"], [0.7777777777777778, \"#fb9f3a\"], [0.8888888888888888, \"#fdca26\"], [1.0, \"#f0f921\"]], \"type\": \"histogram2d\"}], \"histogram2dcontour\": [{\"colorbar\": {\"outlinewidth\": 0, \"ticks\": \"\"}, \"colorscale\": [[0.0, \"#0d0887\"], [0.1111111111111111, \"#46039f\"], [0.2222222222222222, \"#7201a8\"], [0.3333333333333333, \"#9c179e\"], [0.4444444444444444, \"#bd3786\"], [0.5555555555555556, \"#d8576b\"], [0.6666666666666666, \"#ed7953\"], [0.7777777777777778, \"#fb9f3a\"], [0.8888888888888888, \"#fdca26\"], [1.0, \"#f0f921\"]], \"type\": \"histogram2dcontour\"}], \"mesh3d\": [{\"colorbar\": {\"outlinewidth\": 0, \"ticks\": \"\"}, \"type\": \"mesh3d\"}], \"parcoords\": [{\"line\": {\"colorbar\": {\"outlinewidth\": 0, \"ticks\": \"\"}}, \"type\": \"parcoords\"}], \"pie\": [{\"automargin\": true, \"type\": \"pie\"}], \"scatter\": [{\"marker\": {\"colorbar\": {\"outlinewidth\": 0, \"ticks\": \"\"}}, \"type\": \"scatter\"}], \"scatter3d\": [{\"line\": {\"colorbar\": {\"outlinewidth\": 0, \"ticks\": \"\"}}, \"marker\": {\"colorbar\": {\"outlinewidth\": 0, \"ticks\": \"\"}}, \"type\": \"scatter3d\"}], \"scattercarpet\": [{\"marker\": {\"colorbar\": {\"outlinewidth\": 0, \"ticks\": \"\"}}, \"type\": \"scattercarpet\"}], \"scattergeo\": [{\"marker\": {\"colorbar\": {\"outlinewidth\": 0, \"ticks\": \"\"}}, \"type\": \"scattergeo\"}], \"scattergl\": [{\"marker\": {\"colorbar\": {\"outlinewidth\": 0, \"ticks\": \"\"}}, \"type\": \"scattergl\"}], \"scattermapbox\": [{\"marker\": {\"colorbar\": {\"outlinewidth\": 0, \"ticks\": \"\"}}, \"type\": \"scattermapbox\"}], \"scatterpolar\": [{\"marker\": {\"colorbar\": {\"outlinewidth\": 0, \"ticks\": \"\"}}, \"type\": \"scatterpolar\"}], \"scatterpolargl\": [{\"marker\": {\"colorbar\": {\"outlinewidth\": 0, \"ticks\": \"\"}}, \"type\": \"scatterpolargl\"}], \"scatterternary\": [{\"marker\": {\"colorbar\": {\"outlinewidth\": 0, \"ticks\": \"\"}}, \"type\": \"scatterternary\"}], \"surface\": [{\"colorbar\": {\"outlinewidth\": 0, \"ticks\": \"\"}, \"colorscale\": [[0.0, \"#0d0887\"], [0.1111111111111111, \"#46039f\"], [0.2222222222222222, \"#7201a8\"], [0.3333333333333333, \"#9c179e\"], [0.4444444444444444, \"#bd3786\"], [0.5555555555555556, \"#d8576b\"], [0.6666666666666666, \"#ed7953\"], [0.7777777777777778, \"#fb9f3a\"], [0.8888888888888888, \"#fdca26\"], [1.0, \"#f0f921\"]], \"type\": \"surface\"}], \"table\": [{\"cells\": {\"fill\": {\"color\": \"#EBF0F8\"}, \"line\": {\"color\": \"white\"}}, \"header\": {\"fill\": {\"color\": \"#C8D4E3\"}, \"line\": {\"color\": \"white\"}}, \"type\": \"table\"}]}, \"layout\": {\"annotationdefaults\": {\"arrowcolor\": \"#2a3f5f\", \"arrowhead\": 0, \"arrowwidth\": 1}, \"coloraxis\": {\"colorbar\": {\"outlinewidth\": 0, \"ticks\": \"\"}}, \"colorscale\": {\"diverging\": [[0, \"#8e0152\"], [0.1, \"#c51b7d\"], [0.2, \"#de77ae\"], [0.3, \"#f1b6da\"], [0.4, \"#fde0ef\"], [0.5, \"#f7f7f7\"], [0.6, \"#e6f5d0\"], [0.7, \"#b8e186\"], [0.8, \"#7fbc41\"], [0.9, \"#4d9221\"], [1, \"#276419\"]], \"sequential\": [[0.0, \"#0d0887\"], [0.1111111111111111, \"#46039f\"], [0.2222222222222222, \"#7201a8\"], [0.3333333333333333, \"#9c179e\"], [0.4444444444444444, \"#bd3786\"], [0.5555555555555556, \"#d8576b\"], [0.6666666666666666, \"#ed7953\"], [0.7777777777777778, \"#fb9f3a\"], [0.8888888888888888, \"#fdca26\"], [1.0, \"#f0f921\"]], \"sequentialminus\": [[0.0, \"#0d0887\"], [0.1111111111111111, \"#46039f\"], [0.2222222222222222, \"#7201a8\"], [0.3333333333333333, \"#9c179e\"], [0.4444444444444444, \"#bd3786\"], [0.5555555555555556, \"#d8576b\"], [0.6666666666666666, \"#ed7953\"], [0.7777777777777778, \"#fb9f3a\"], [0.8888888888888888, \"#fdca26\"], [1.0, \"#f0f921\"]]}, \"colorway\": [\"#636efa\", \"#EF553B\", \"#00cc96\", \"#ab63fa\", \"#FFA15A\", \"#19d3f3\", \"#FF6692\", \"#B6E880\", \"#FF97FF\", \"#FECB52\"], \"font\": {\"color\": \"#2a3f5f\"}, \"geo\": {\"bgcolor\": \"white\", \"lakecolor\": \"white\", \"landcolor\": \"#E5ECF6\", \"showlakes\": true, \"showland\": true, \"subunitcolor\": \"white\"}, \"hoverlabel\": {\"align\": \"left\"}, \"hovermode\": \"closest\", \"mapbox\": {\"style\": \"light\"}, \"paper_bgcolor\": \"white\", \"plot_bgcolor\": \"#E5ECF6\", \"polar\": {\"angularaxis\": {\"gridcolor\": \"white\", \"linecolor\": \"white\", \"ticks\": \"\"}, \"bgcolor\": \"#E5ECF6\", \"radialaxis\": {\"gridcolor\": \"white\", \"linecolor\": \"white\", \"ticks\": \"\"}}, \"scene\": {\"xaxis\": {\"backgroundcolor\": \"#E5ECF6\", \"gridcolor\": \"white\", \"gridwidth\": 2, \"linecolor\": \"white\", \"showbackground\": true, \"ticks\": \"\", \"zerolinecolor\": \"white\"}, \"yaxis\": {\"backgroundcolor\": \"#E5ECF6\", \"gridcolor\": \"white\", \"gridwidth\": 2, \"linecolor\": \"white\", \"showbackground\": true, \"ticks\": \"\", \"zerolinecolor\": \"white\"}, \"zaxis\": {\"backgroundcolor\": \"#E5ECF6\", \"gridcolor\": \"white\", \"gridwidth\": 2, \"linecolor\": \"white\", \"showbackground\": true, \"ticks\": \"\", \"zerolinecolor\": \"white\"}}, \"shapedefaults\": {\"line\": {\"color\": \"#2a3f5f\"}}, \"ternary\": {\"aaxis\": {\"gridcolor\": \"white\", \"linecolor\": \"white\", \"ticks\": \"\"}, \"baxis\": {\"gridcolor\": \"white\", \"linecolor\": \"white\", \"ticks\": \"\"}, \"bgcolor\": \"#E5ECF6\", \"caxis\": {\"gridcolor\": \"white\", \"linecolor\": \"white\", \"ticks\": \"\"}}, \"title\": {\"x\": 0.05}, \"xaxis\": {\"automargin\": true, \"gridcolor\": \"white\", \"linecolor\": \"white\", \"ticks\": \"\", \"title\": {\"standoff\": 15}, \"zerolinecolor\": \"white\", \"zerolinewidth\": 2}, \"yaxis\": {\"automargin\": true, \"gridcolor\": \"white\", \"linecolor\": \"white\", \"ticks\": \"\", \"title\": {\"standoff\": 15}, \"zerolinecolor\": \"white\", \"zerolinewidth\": 2}}}, \"xaxis\": {\"anchor\": \"y\", \"domain\": [0.0, 1.0], \"rangeslider\": {\"visible\": true}, \"title\": {\"text\": \"date\"}}, \"yaxis\": {\"anchor\": \"x\", \"domain\": [0.0, 1.0], \"title\": {\"text\": \"biden\"}}},                        {\"responsive\": true}                    ).then(function(){\n",
       "                            \n",
       "var gd = document.getElementById('1119279f-d8c3-40dd-bf44-a516d7be2895');\n",
       "var x = new MutationObserver(function (mutations, observer) {{\n",
       "        var display = window.getComputedStyle(gd).display;\n",
       "        if (!display || display === 'none') {{\n",
       "            console.log([gd, 'removed!']);\n",
       "            Plotly.purge(gd);\n",
       "            observer.disconnect();\n",
       "        }}\n",
       "}});\n",
       "\n",
       "// Listen for the removal of the full notebook cells\n",
       "var notebookContainer = gd.closest('#notebook-container');\n",
       "if (notebookContainer) {{\n",
       "    x.observe(notebookContainer, {childList: true});\n",
       "}}\n",
       "\n",
       "// Listen for the clearing of the current output cell\n",
       "var outputEl = gd.closest('.output');\n",
       "if (outputEl) {{\n",
       "    x.observe(outputEl, {childList: true});\n",
       "}}\n",
       "\n",
       "                        })                };                });            </script>        </div>"
      ]
     },
     "metadata": {},
     "output_type": "display_data"
    }
   ],
   "source": [
    "scatter_polls = px.scatter(polls_2020, x='date', y='biden', color='poll')\n",
    "scatter_polls.update_xaxes(rangeslider_visible=True)\n",
    "scatter_polls.show()"
   ]
  },
  {
   "cell_type": "code",
   "execution_count": 28,
   "metadata": {},
   "outputs": [
    {
     "data": {
      "application/vnd.plotly.v1+json": {
       "config": {
        "plotlyServerURL": "https://plot.ly"
       },
       "data": [
        {
         "hovertemplate": "poll=The Hill/HarrisX<br>date=%{x}<br>biden=%{y}<extra></extra>",
         "legendgroup": "The Hill/HarrisX",
         "marker": {
          "color": "#636efa",
          "symbol": "circle"
         },
         "mode": "markers",
         "name": "The Hill/HarrisX",
         "orientation": "v",
         "showlegend": true,
         "type": "scatter",
         "x": [
          "2020-10-25T00:00:00",
          "2020-10-13T00:00:00",
          "2020-10-10T00:00:00",
          "2020-10-03T00:00:00",
          "2020-09-30T00:00:00",
          "2020-09-22T00:00:00",
          "2020-09-19T00:00:00",
          "2020-09-10T00:00:00",
          "2020-09-05T00:00:00",
          "2020-08-29T00:00:00",
          "2020-08-25T00:00:00",
          "2020-08-22T00:00:00",
          "2020-08-15T00:00:00",
          "2020-08-11T00:00:00",
          "2020-08-08T00:00:00",
          "2020-08-02T00:00:00",
          "2020-07-17T00:00:00",
          "2020-07-03T00:00:00",
          "2020-06-22T00:00:00",
          "2020-06-01T00:00:00",
          "2020-05-13T00:00:00",
          "2020-04-19T00:00:00"
         ],
         "xaxis": "x",
         "y": [
          49,
          46,
          47,
          45,
          47,
          45,
          45,
          45,
          47,
          46,
          47,
          47,
          46,
          45,
          44,
          43,
          45,
          43,
          43,
          47,
          42,
          42
         ],
         "yaxis": "y"
        },
        {
         "hovertemplate": "<b>OLS trendline</b><br>biden = -0.0532956 * date + 45.2806<br>R<sup>2</sup>=0.001568<br><br>poll=The Hill/HarrisX<br>date=%{x}<br>biden=%{y} <b>(trend)</b><extra></extra>",
         "legendgroup": "The Hill/HarrisX",
         "marker": {
          "color": "#636efa",
          "symbol": "circle"
         },
         "mode": "lines",
         "name": "The Hill/HarrisX",
         "showlegend": false,
         "type": "scatter",
         "x": [
          "2020-04-19T00:00:00",
          "2020-05-13T00:00:00",
          "2020-06-01T00:00:00",
          "2020-06-22T00:00:00",
          "2020-07-03T00:00:00",
          "2020-07-17T00:00:00",
          "2020-08-02T00:00:00",
          "2020-08-08T00:00:00",
          "2020-08-11T00:00:00",
          "2020-08-15T00:00:00",
          "2020-08-22T00:00:00",
          "2020-08-25T00:00:00",
          "2020-08-29T00:00:00",
          "2020-09-05T00:00:00",
          "2020-09-10T00:00:00",
          "2020-09-19T00:00:00",
          "2020-09-22T00:00:00",
          "2020-09-30T00:00:00",
          "2020-10-03T00:00:00",
          "2020-10-10T00:00:00",
          "2020-10-13T00:00:00",
          "2020-10-25T00:00:00"
         ],
         "xaxis": "x",
         "y": [
          45.37346437213862,
          45.2309308855731,
          45.280231516892265,
          45.29857910572114,
          45.242788883683524,
          45.255020609569435,
          45.236299292965064,
          45.37234318881213,
          45.21146211341774,
          45.37845905175509,
          45.38457491469804,
          45.22369383930366,
          45.390690777641,
          45.16790361726604,
          45.204972522699286,
          45.18013534315195,
          45.248157291075486,
          45.35324814443226,
          45.19236706903787,
          45.19848293198083,
          45.26650487990436,
          45.30968964828056
         ],
         "yaxis": "y"
        },
        {
         "hovertemplate": "poll=IBD/TIPP<br>date=%{x}<br>biden=%{y}<extra></extra>",
         "legendgroup": "IBD/TIPP",
         "marker": {
          "color": "#EF553B",
          "symbol": "circle"
         },
         "mode": "markers",
         "name": "IBD/TIPP",
         "orientation": "v",
         "showlegend": true,
         "type": "scatter",
         "x": [
          "2020-10-25T00:00:00",
          "2020-09-30T00:00:00",
          "2020-09-16T00:00:00",
          "2020-08-29T00:00:00",
          "2020-07-25T00:00:00",
          "2020-06-27T00:00:00",
          "2020-05-31T00:00:00",
          "2020-04-26T00:00:00",
          "2020-03-29T00:00:00",
          "2020-02-20T00:00:00",
          "2020-01-23T00:00:00",
          "2020-01-03T00:00:00"
         ],
         "xaxis": "x",
         "y": [
          51,
          49,
          50,
          49,
          48,
          48,
          45,
          43,
          47,
          49,
          49,
          48
         ],
         "yaxis": "y"
        },
        {
         "hovertemplate": "<b>OLS trendline</b><br>biden = -0.0563685 * date + 47.9612<br>R<sup>2</sup>=0.000952<br><br>poll=IBD/TIPP<br>date=%{x}<br>biden=%{y} <b>(trend)</b><extra></extra>",
         "legendgroup": "IBD/TIPP",
         "marker": {
          "color": "#EF553B",
          "symbol": "circle"
         },
         "mode": "lines",
         "name": "IBD/TIPP",
         "showlegend": false,
         "type": "scatter",
         "x": [
          "2020-01-03T00:00:00",
          "2020-01-23T00:00:00",
          "2020-02-20T00:00:00",
          "2020-03-29T00:00:00",
          "2020-04-26T00:00:00",
          "2020-05-31T00:00:00",
          "2020-06-27T00:00:00",
          "2020-07-25T00:00:00",
          "2020-08-29T00:00:00",
          "2020-09-16T00:00:00",
          "2020-09-30T00:00:00",
          "2020-10-25T00:00:00"
         ],
         "xaxis": "x",
         "y": [
          47.995112621671595,
          47.90983655112495,
          47.93571047237381,
          48.03999670836116,
          48.06587062961002,
          47.85611233114748,
          48.019405440936666,
          48.045279362185525,
          48.077621763746606,
          48.02508337025698,
          48.03802033088141,
          47.991950417704004
         ],
         "yaxis": "y"
        },
        {
         "hovertemplate": "poll=Rasmussen Reports<br>date=%{x}<br>biden=%{y}<extra></extra>",
         "legendgroup": "Rasmussen Reports",
         "marker": {
          "color": "#00cc96",
          "symbol": "circle"
         },
         "mode": "markers",
         "name": "Rasmussen Reports",
         "orientation": "v",
         "showlegend": true,
         "type": "scatter",
         "x": [
          "2020-10-27T00:00:00",
          "2020-10-14T00:00:00",
          "2020-10-07T00:00:00",
          "2020-09-30T00:00:00",
          "2020-09-23T00:00:00",
          "2020-09-16T00:00:00",
          "2020-09-09T00:00:00",
          "2020-09-02T00:00:00",
          "2020-08-26T00:00:00",
          "2020-08-19T00:00:00",
          "2020-08-12T00:00:00",
          "2020-08-05T00:00:00",
          "2020-07-29T00:00:00",
          "2020-07-22T00:00:00",
          "2020-07-15T00:00:00",
          "2020-07-08T00:00:00",
          "2020-07-05T00:00:00",
          "2020-05-18T00:00:00"
         ],
         "xaxis": "x",
         "y": [
          49,
          49,
          50,
          52,
          51,
          48,
          46,
          48,
          49,
          46,
          48,
          49,
          48,
          48,
          47,
          47,
          50,
          48
         ],
         "yaxis": "y"
        },
        {
         "hovertemplate": "<b>OLS trendline</b><br>biden = -0.422233 * date + 48.2591<br>R<sup>2</sup>=0.037274<br><br>poll=Rasmussen Reports<br>date=%{x}<br>biden=%{y} <b>(trend)</b><extra></extra>",
         "legendgroup": "Rasmussen Reports",
         "marker": {
          "color": "#00cc96",
          "symbol": "circle"
         },
         "mode": "lines",
         "name": "Rasmussen Reports",
         "showlegend": false,
         "type": "scatter",
         "x": [
          "2020-05-18T00:00:00",
          "2020-07-05T00:00:00",
          "2020-07-08T00:00:00",
          "2020-07-15T00:00:00",
          "2020-07-22T00:00:00",
          "2020-07-29T00:00:00",
          "2020-08-05T00:00:00",
          "2020-08-12T00:00:00",
          "2020-08-19T00:00:00",
          "2020-08-26T00:00:00",
          "2020-09-02T00:00:00",
          "2020-09-09T00:00:00",
          "2020-09-16T00:00:00",
          "2020-09-23T00:00:00",
          "2020-09-30T00:00:00",
          "2020-10-07T00:00:00",
          "2020-10-14T00:00:00",
          "2020-10-27T00:00:00"
         ],
         "xaxis": "x",
         "y": [
          48.159065787282564,
          47.71410831468011,
          48.25301047754906,
          48.30146324710919,
          48.34991601666932,
          48.398368786229454,
          48.44682155578958,
          48.49527432534971,
          48.54372709490984,
          48.592179864469976,
          48.640632634030105,
          48.689085403590234,
          48.73753817315036,
          48.78599094271049,
          48.83444371227063,
          48.882896481830755,
          48.931349251390884,
          48.24412793098778
         ],
         "yaxis": "y"
        },
        {
         "hovertemplate": "poll=Economist/YouGov<br>date=%{x}<br>biden=%{y}<extra></extra>",
         "legendgroup": "Economist/YouGov",
         "marker": {
          "color": "#ab63fa",
          "symbol": "circle"
         },
         "mode": "markers",
         "name": "Economist/YouGov",
         "orientation": "v",
         "showlegend": true,
         "type": "scatter",
         "x": [
          "2020-10-25T00:00:00",
          "2020-10-18T00:00:00",
          "2020-10-11T00:00:00",
          "2020-10-04T00:00:00",
          "2020-09-27T00:00:00",
          "2020-09-20T00:00:00",
          "2020-09-13T00:00:00",
          "2020-09-06T00:00:00",
          "2020-08-30T00:00:00",
          "2020-08-23T00:00:00",
          "2020-08-16T00:00:00",
          "2020-08-09T00:00:00",
          "2020-08-02T00:00:00",
          "2020-07-26T00:00:00",
          "2020-07-19T00:00:00",
          "2020-07-12T00:00:00",
          "2020-07-05T00:00:00",
          "2020-06-28T00:00:00",
          "2020-06-21T00:00:00",
          "2020-06-14T00:00:00",
          "2020-06-07T00:00:00",
          "2020-05-31T00:00:00",
          "2020-05-23T00:00:00",
          "2020-05-17T00:00:00",
          "2020-05-10T00:00:00",
          "2020-05-03T00:00:00",
          "2020-04-26T00:00:00",
          "2020-04-19T00:00:00",
          "2020-04-12T00:00:00",
          "2020-04-05T00:00:00",
          "2020-03-29T00:00:00",
          "2020-03-22T00:00:00",
          "2020-03-15T00:00:00",
          "2020-03-08T00:00:00"
         ],
         "xaxis": "x",
         "y": [
          54,
          52,
          52,
          51,
          50,
          49,
          51,
          52,
          51,
          50,
          50,
          49,
          49,
          49,
          48,
          49,
          49,
          49,
          49,
          50,
          49,
          47,
          45,
          47,
          47,
          46,
          47,
          48,
          48,
          48,
          46,
          46,
          48,
          47
         ],
         "yaxis": "y"
        },
        {
         "hovertemplate": "<b>OLS trendline</b><br>biden = 0.426448 * date + 48.8767<br>R<sup>2</sup>=0.069172<br><br>poll=Economist/YouGov<br>date=%{x}<br>biden=%{y} <b>(trend)</b><extra></extra>",
         "legendgroup": "Economist/YouGov",
         "marker": {
          "color": "#ab63fa",
          "symbol": "circle"
         },
         "mode": "lines",
         "name": "Economist/YouGov",
         "showlegend": false,
         "type": "scatter",
         "x": [
          "2020-03-08T00:00:00",
          "2020-03-15T00:00:00",
          "2020-03-22T00:00:00",
          "2020-03-29T00:00:00",
          "2020-04-05T00:00:00",
          "2020-04-12T00:00:00",
          "2020-04-19T00:00:00",
          "2020-04-26T00:00:00",
          "2020-05-03T00:00:00",
          "2020-05-10T00:00:00",
          "2020-05-17T00:00:00",
          "2020-05-23T00:00:00",
          "2020-05-31T00:00:00",
          "2020-06-07T00:00:00",
          "2020-06-14T00:00:00",
          "2020-06-21T00:00:00",
          "2020-06-28T00:00:00",
          "2020-07-05T00:00:00",
          "2020-07-12T00:00:00",
          "2020-07-19T00:00:00",
          "2020-07-26T00:00:00",
          "2020-08-02T00:00:00",
          "2020-08-09T00:00:00",
          "2020-08-16T00:00:00",
          "2020-08-23T00:00:00",
          "2020-08-30T00:00:00",
          "2020-09-06T00:00:00",
          "2020-09-13T00:00:00",
          "2020-09-20T00:00:00",
          "2020-09-27T00:00:00",
          "2020-10-04T00:00:00",
          "2020-10-11T00:00:00",
          "2020-10-18T00:00:00",
          "2020-10-25T00:00:00"
         ],
         "xaxis": "x",
         "y": [
          48.42750123040726,
          48.37856485017158,
          48.3296284699359,
          48.28069208970022,
          48.23175570946454,
          48.18281932922885,
          48.13388294899317,
          48.08494656875749,
          48.03601018852181,
          47.98707380828613,
          49.7697163059063,
          48.68115433550094,
          49.67184354543494,
          49.62290716519926,
          49.57397078496358,
          49.5250344047279,
          49.47609802449222,
          49.427161644256536,
          49.378225264020855,
          49.32928888378517,
          49.28035250354949,
          49.23141612331381,
          49.182479743078126,
          49.133543362842445,
          49.084606982606765,
          49.035670602371084,
          48.986734222135404,
          48.93779784189972,
          48.88886146166404,
          48.83992508142836,
          48.790988701192674,
          48.742052320956994,
          48.69311594072131,
          48.64417956048563
         ],
         "yaxis": "y"
        },
        {
         "hovertemplate": "poll=Emerson<br>date=%{x}<br>biden=%{y}<extra></extra>",
         "legendgroup": "Emerson",
         "marker": {
          "color": "#FFA15A",
          "symbol": "circle"
         },
         "mode": "markers",
         "name": "Emerson",
         "orientation": "v",
         "showlegend": true,
         "type": "scatter",
         "x": [
          "2020-10-25T00:00:00",
          "2020-09-22T00:00:00",
          "2020-08-30T00:00:00",
          "2020-07-29T00:00:00",
          "2020-06-02T00:00:00",
          "2020-04-26T00:00:00",
          "2020-03-18T00:00:00",
          "2020-02-16T00:00:00",
          "2020-01-21T00:00:00"
         ],
         "xaxis": "x",
         "y": [
          50,
          48,
          49,
          50,
          53,
          48,
          53,
          48,
          50
         ],
         "yaxis": "y"
        },
        {
         "hovertemplate": "<b>OLS trendline</b><br>biden = 0.292138 * date + 49.9579<br>R<sup>2</sup>=0.031272<br><br>poll=Emerson<br>date=%{x}<br>biden=%{y} <b>(trend)</b><extra></extra>",
         "legendgroup": "Emerson",
         "marker": {
          "color": "#FFA15A",
          "symbol": "circle"
         },
         "mode": "lines",
         "name": "Emerson",
         "showlegend": false,
         "type": "scatter",
         "x": [
          "2020-01-21T00:00:00",
          "2020-02-16T00:00:00",
          "2020-03-18T00:00:00",
          "2020-04-26T00:00:00",
          "2020-06-02T00:00:00",
          "2020-07-29T00:00:00",
          "2020-08-30T00:00:00",
          "2020-09-22T00:00:00",
          "2020-10-25T00:00:00"
         ],
         "xaxis": "x",
         "y": [
          50.05454251062256,
          49.75077932199216,
          50.49854680329417,
          49.41554086031824,
          49.41758943344212,
          49.861593726113725,
          50.06683394936584,
          50.1359302148245,
          49.7986431800267
         ],
         "yaxis": "y"
        },
        {
         "hovertemplate": "poll=USA Today/Suffolk<br>date=%{x}<br>biden=%{y}<extra></extra>",
         "legendgroup": "USA Today/Suffolk",
         "marker": {
          "color": "#19d3f3",
          "symbol": "circle"
         },
         "mode": "markers",
         "name": "USA Today/Suffolk",
         "orientation": "v",
         "showlegend": true,
         "type": "scatter",
         "x": [
          "2020-10-23T00:00:00",
          "2020-08-28T00:00:00",
          "2020-06-25T00:00:00",
          "2020-04-21T00:00:00"
         ],
         "xaxis": "x",
         "y": [
          52,
          50,
          53,
          50
         ],
         "yaxis": "y"
        },
        {
         "hovertemplate": "<b>OLS trendline</b><br>biden = -1.87713 * date + 49.3221<br>R<sup>2</sup>=0.543971<br><br>poll=USA Today/Suffolk<br>date=%{x}<br>biden=%{y} <b>(trend)</b><extra></extra>",
         "legendgroup": "USA Today/Suffolk",
         "marker": {
          "color": "#19d3f3",
          "symbol": "circle"
         },
         "mode": "lines",
         "name": "USA Today/Suffolk",
         "showlegend": false,
         "type": "scatter",
         "x": [
          "2020-04-21T00:00:00",
          "2020-06-25T00:00:00",
          "2020-08-28T00:00:00",
          "2020-10-23T00:00:00"
         ],
         "xaxis": "x",
         "y": [
          51.50160626690812,
          52.350073898183126,
          49.71252916648294,
          51.43579066842586
         ],
         "yaxis": "y"
        },
        {
         "hovertemplate": "poll=Reuters/Ipsos<br>date=%{x}<br>biden=%{y}<extra></extra>",
         "legendgroup": "Reuters/Ipsos",
         "marker": {
          "color": "#FF6692",
          "symbol": "circle"
         },
         "mode": "markers",
         "name": "Reuters/Ipsos",
         "orientation": "v",
         "showlegend": true,
         "type": "scatter",
         "x": [
          "2020-10-23T00:00:00",
          "2020-10-16T00:00:00",
          "2020-10-09T00:00:00",
          "2020-10-02T00:00:00",
          "2020-09-25T00:00:00",
          "2020-09-18T00:00:00",
          "2020-09-11T00:00:00",
          "2020-09-03T00:00:00",
          "2020-08-28T00:00:00"
         ],
         "xaxis": "x",
         "y": [
          52,
          51,
          51,
          52,
          51,
          50,
          50,
          52,
          47
         ],
         "yaxis": "y"
        },
        {
         "hovertemplate": "<b>OLS trendline</b><br>biden = 0.0129131 * date + 50.6726<br>R<sup>2</sup>=0.000043<br><br>poll=Reuters/Ipsos<br>date=%{x}<br>biden=%{y} <b>(trend)</b><extra></extra>",
         "legendgroup": "Reuters/Ipsos",
         "marker": {
          "color": "#FF6692",
          "symbol": "circle"
         },
         "mode": "lines",
         "name": "Reuters/Ipsos",
         "showlegend": false,
         "type": "scatter",
         "x": [
          "2020-08-28T00:00:00",
          "2020-09-03T00:00:00",
          "2020-09-11T00:00:00",
          "2020-09-18T00:00:00",
          "2020-09-25T00:00:00",
          "2020-10-02T00:00:00",
          "2020-10-09T00:00:00",
          "2020-10-16T00:00:00",
          "2020-10-23T00:00:00"
         ],
         "xaxis": "x",
         "y": [
          50.669929436636295,
          50.69242852945495,
          50.66696577820513,
          50.66548394898955,
          50.66400211977397,
          50.66252029055838,
          50.661038461342805,
          50.65955663212722,
          50.65807480291164
         ],
         "yaxis": "y"
        },
        {
         "hovertemplate": "poll=CNN<br>date=%{x}<br>biden=%{y}<extra></extra>",
         "legendgroup": "CNN",
         "marker": {
          "color": "#B6E880",
          "symbol": "circle"
         },
         "mode": "markers",
         "name": "CNN",
         "orientation": "v",
         "showlegend": true,
         "type": "scatter",
         "x": [
          "2020-10-23T00:00:00",
          "2020-10-01T00:00:00",
          "2020-08-28T00:00:00",
          "2020-08-12T00:00:00",
          "2020-06-02T00:00:00",
          "2020-05-07T00:00:00",
          "2020-04-03T00:00:00",
          "2020-03-04T00:00:00",
          "2020-01-16T00:00:00"
         ],
         "xaxis": "x",
         "y": [
          54,
          57,
          51,
          50,
          55,
          51,
          53,
          53,
          53
         ],
         "yaxis": "y"
        },
        {
         "hovertemplate": "<b>OLS trendline</b><br>biden = 0.20005 * date + 53.0548<br>R<sup>2</sup>=0.016791<br><br>poll=CNN<br>date=%{x}<br>biden=%{y} <b>(trend)</b><extra></extra>",
         "legendgroup": "CNN",
         "marker": {
          "color": "#B6E880",
          "symbol": "circle"
         },
         "mode": "lines",
         "name": "CNN",
         "showlegend": false,
         "type": "scatter",
         "x": [
          "2020-01-16T00:00:00",
          "2020-03-04T00:00:00",
          "2020-04-03T00:00:00",
          "2020-05-07T00:00:00",
          "2020-06-02T00:00:00",
          "2020-08-12T00:00:00",
          "2020-08-28T00:00:00",
          "2020-10-01T00:00:00",
          "2020-10-23T00:00:00"
         ],
         "xaxis": "x",
         "y": [
          53.260074467378146,
          53.47089132533778,
          52.63604083521627,
          52.892770668087266,
          52.68475945736664,
          52.94289211385715,
          53.013164399843696,
          53.2698942327147,
          52.829512500198256
         ],
         "yaxis": "y"
        },
        {
         "hovertemplate": "poll=JTN/RMG Research<br>date=%{x}<br>biden=%{y}<extra></extra>",
         "legendgroup": "JTN/RMG Research",
         "marker": {
          "color": "#FF97FF",
          "symbol": "circle"
         },
         "mode": "markers",
         "name": "JTN/RMG Research",
         "orientation": "v",
         "showlegend": true,
         "type": "scatter",
         "x": [
          "2020-10-23T00:00:00",
          "2020-10-15T00:00:00",
          "2020-10-08T00:00:00",
          "2020-10-01T00:00:00",
          "2020-09-24T00:00:00",
          "2020-09-17T00:00:00",
          "2020-09-10T00:00:00"
         ],
         "xaxis": "x",
         "y": [
          51,
          51,
          51,
          51,
          51,
          50,
          48
         ],
         "yaxis": "y"
        },
        {
         "hovertemplate": "<b>OLS trendline</b><br>biden = -0.504724 * date + 50.8374<br>R<sup>2</sup>=0.152019<br><br>poll=JTN/RMG Research<br>date=%{x}<br>biden=%{y} <b>(trend)</b><extra></extra>",
         "legendgroup": "JTN/RMG Research",
         "marker": {
          "color": "#FF97FF",
          "symbol": "circle"
         },
         "mode": "lines",
         "name": "JTN/RMG Research",
         "showlegend": false,
         "type": "scatter",
         "x": [
          "2020-09-10T00:00:00",
          "2020-09-17T00:00:00",
          "2020-09-24T00:00:00",
          "2020-10-01T00:00:00",
          "2020-10-08T00:00:00",
          "2020-10-15T00:00:00",
          "2020-10-23T00:00:00"
         ],
         "xaxis": "x",
         "y": [
          50.12091185102531,
          50.17883074642961,
          50.2367496418339,
          50.2946685372382,
          50.352587432642494,
          50.41050632804679,
          51.40574546278377
         ],
         "yaxis": "y"
        },
        {
         "hovertemplate": "poll=CNBC<br>date=%{x}<br>biden=%{y}<extra></extra>",
         "legendgroup": "CNBC",
         "marker": {
          "color": "#FECB52",
          "symbol": "circle"
         },
         "mode": "markers",
         "name": "CNBC",
         "orientation": "v",
         "showlegend": true,
         "type": "scatter",
         "x": [
          "2020-10-21T00:00:00",
          "2020-06-19T00:00:00",
          "2020-05-29T00:00:00",
          "2020-05-15T00:00:00",
          "2020-05-01T00:00:00",
          "2020-04-03T00:00:00"
         ],
         "xaxis": "x",
         "y": [
          51,
          47,
          48,
          48,
          47,
          44
         ],
         "yaxis": "y"
        },
        {
         "hovertemplate": "<b>OLS trendline</b><br>biden = 0.0960009 * date + 47.4731<br>R<sup>2</sup>=0.005307<br><br>poll=CNBC<br>date=%{x}<br>biden=%{y} <b>(trend)</b><extra></extra>",
         "legendgroup": "CNBC",
         "marker": {
          "color": "#FECB52",
          "symbol": "circle"
         },
         "mode": "lines",
         "name": "CNBC",
         "showlegend": false,
         "type": "scatter",
         "x": [
          "2020-04-03T00:00:00",
          "2020-05-01T00:00:00",
          "2020-05-15T00:00:00",
          "2020-05-29T00:00:00",
          "2020-06-19T00:00:00",
          "2020-10-21T00:00:00"
         ],
         "xaxis": "x",
         "y": [
          47.272184260762806,
          47.640439186171065,
          47.61840630247019,
          47.59637341876931,
          47.563324093218,
          47.3092727386088
         ],
         "yaxis": "y"
        },
        {
         "hovertemplate": "poll=USC Dornsife<br>date=%{x}<br>biden=%{y}<extra></extra>",
         "legendgroup": "USC Dornsife",
         "marker": {
          "color": "#636efa",
          "symbol": "circle"
         },
         "mode": "markers",
         "name": "USC Dornsife",
         "orientation": "v",
         "showlegend": true,
         "type": "scatter",
         "x": [
          "2020-10-16T00:00:00",
          "2020-09-07T00:00:00",
          "2020-08-31T00:00:00"
         ],
         "xaxis": "x",
         "y": [
          54,
          52,
          52
         ],
         "yaxis": "y"
        },
        {
         "hovertemplate": "<b>OLS trendline</b><br>biden = 3.64275 * date + 57.6386<br>R<sup>2</sup>=0.966086<br><br>poll=USC Dornsife<br>date=%{x}<br>biden=%{y} <b>(trend)</b><extra></extra>",
         "legendgroup": "USC Dornsife",
         "marker": {
          "color": "#636efa",
          "symbol": "circle"
         },
         "mode": "lines",
         "name": "USC Dornsife",
         "showlegend": false,
         "type": "scatter",
         "x": [
          "2020-08-31T00:00:00",
          "2020-09-07T00:00:00",
          "2020-10-16T00:00:00"
         ],
         "xaxis": "x",
         "y": [
          52.231618528651666,
          51.813599895215994,
          53.95478157613235
         ],
         "yaxis": "y"
        },
        {
         "hovertemplate": "poll=Quinnipiac<br>date=%{x}<br>biden=%{y}<extra></extra>",
         "legendgroup": "Quinnipiac",
         "marker": {
          "color": "#EF553B",
          "symbol": "circle"
         },
         "mode": "markers",
         "name": "Quinnipiac",
         "orientation": "v",
         "showlegend": true,
         "type": "scatter",
         "x": [
          "2020-10-16T00:00:00",
          "2020-09-17T00:00:00",
          "2020-08-28T00:00:00",
          "2020-07-09T00:00:00",
          "2020-06-11T00:00:00",
          "2020-05-14T00:00:00",
          "2020-04-02T00:00:00",
          "2020-03-05T00:00:00",
          "2020-02-05T00:00:00"
         ],
         "xaxis": "x",
         "y": [
          51,
          52,
          52,
          52,
          49,
          50,
          49,
          52,
          50
         ],
         "yaxis": "y"
        },
        {
         "hovertemplate": "<b>OLS trendline</b><br>biden = 0.491691 * date + 51.0965<br>R<sup>2</sup>=0.148733<br><br>poll=Quinnipiac<br>date=%{x}<br>biden=%{y} <b>(trend)</b><extra></extra>",
         "legendgroup": "Quinnipiac",
         "marker": {
          "color": "#EF553B",
          "symbol": "circle"
         },
         "mode": "lines",
         "name": "Quinnipiac",
         "showlegend": false,
         "type": "scatter",
         "x": [
          "2020-02-05T00:00:00",
          "2020-03-05T00:00:00",
          "2020-04-02T00:00:00",
          "2020-05-14T00:00:00",
          "2020-06-11T00:00:00",
          "2020-07-09T00:00:00",
          "2020-08-28T00:00:00",
          "2020-09-17T00:00:00",
          "2020-10-16T00:00:00"
         ],
         "xaxis": "x",
         "y": [
          50.23315457220892,
          51.20614228022443,
          50.98044908906892,
          50.64190930233565,
          50.41621611118014,
          50.19052292002463,
          50.99424073467351,
          51.73808734013236,
          50.599277650151365
         ],
         "yaxis": "y"
        },
        {
         "hovertemplate": "poll=CNBC/Change Research (D)<br>date=%{x}<br>biden=%{y}<extra></extra>",
         "legendgroup": "CNBC/Change Research (D)",
         "marker": {
          "color": "#00cc96",
          "symbol": "circle"
         },
         "mode": "markers",
         "name": "CNBC/Change Research (D)",
         "orientation": "v",
         "showlegend": true,
         "type": "scatter",
         "x": [
          "2020-10-17T00:00:00",
          "2020-10-02T00:00:00",
          "2020-09-29T00:00:00",
          "2020-09-18T00:00:00",
          "2020-09-04T00:00:00",
          "2020-08-21T00:00:00",
          "2020-08-07T00:00:00",
          "2020-07-24T00:00:00",
          "2020-07-10T00:00:00",
          "2020-06-26T00:00:00",
          "2020-06-10T00:00:00"
         ],
         "xaxis": "x",
         "y": [
          52,
          52,
          54,
          51,
          49,
          51,
          50,
          51,
          51,
          49,
          51
         ],
         "yaxis": "y"
        },
        {
         "hovertemplate": "<b>OLS trendline</b><br>biden = 0.239782 * date + 50.9441<br>R<sup>2</sup>=0.011847<br><br>poll=CNBC/Change Research (D)<br>date=%{x}<br>biden=%{y} <b>(trend)</b><extra></extra>",
         "legendgroup": "CNBC/Change Research (D)",
         "marker": {
          "color": "#00cc96",
          "symbol": "circle"
         },
         "mode": "lines",
         "name": "CNBC/Change Research (D)",
         "showlegend": false,
         "type": "scatter",
         "x": [
          "2020-06-10T00:00:00",
          "2020-06-26T00:00:00",
          "2020-07-10T00:00:00",
          "2020-07-24T00:00:00",
          "2020-08-07T00:00:00",
          "2020-08-21T00:00:00",
          "2020-09-04T00:00:00",
          "2020-09-18T00:00:00",
          "2020-09-29T00:00:00",
          "2020-10-02T00:00:00",
          "2020-10-17T00:00:00"
         ],
         "xaxis": "x",
         "y": [
          51.05758873028235,
          51.141817534049174,
          51.08678595367764,
          51.0317543733061,
          50.97672279293456,
          50.92169121256302,
          50.866659632191485,
          50.811628051819945,
          51.06263302991092,
          50.756596471448404,
          51.28612221781612
         ],
         "yaxis": "y"
        },
        {
         "hovertemplate": "poll=SurveyUSA<br>date=%{x}<br>biden=%{y}<extra></extra>",
         "legendgroup": "SurveyUSA",
         "marker": {
          "color": "#ab63fa",
          "symbol": "circle"
         },
         "mode": "markers",
         "name": "SurveyUSA",
         "orientation": "v",
         "showlegend": true,
         "type": "scatter",
         "x": [
          "2020-10-16T00:00:00",
          "2020-10-01T00:00:00"
         ],
         "xaxis": "x",
         "y": [
          53,
          53
         ],
         "yaxis": "y"
        },
        {
         "hovertemplate": "<b>OLS trendline</b><br>biden = -7.10543e-15 * date + 53<br>R<sup>2</sup>=-inf<br><br>poll=SurveyUSA<br>date=%{x}<br>biden=%{y} <b>(trend)</b><extra></extra>",
         "legendgroup": "SurveyUSA",
         "marker": {
          "color": "#ab63fa",
          "symbol": "circle"
         },
         "mode": "lines",
         "name": "SurveyUSA",
         "showlegend": false,
         "type": "scatter",
         "x": [
          "2020-10-01T00:00:00",
          "2020-10-16T00:00:00"
         ],
         "xaxis": "x",
         "y": [
          52.99999999999998,
          52.99999999999999
         ],
         "yaxis": "y"
        },
        {
         "hovertemplate": "poll=NY Times/Siena<br>date=%{x}<br>biden=%{y}<extra></extra>",
         "legendgroup": "NY Times/Siena",
         "marker": {
          "color": "#FFA15A",
          "symbol": "circle"
         },
         "mode": "markers",
         "name": "NY Times/Siena",
         "orientation": "v",
         "showlegend": true,
         "type": "scatter",
         "x": [
          "2020-10-15T00:00:00",
          "2020-09-22T00:00:00",
          "2020-06-17T00:00:00"
         ],
         "xaxis": "x",
         "y": [
          50,
          49,
          50
         ],
         "yaxis": "y"
        },
        {
         "hovertemplate": "<b>OLS trendline</b><br>biden = -0.0394014 * date + 49.6905<br>R<sup>2</sup>=0.000276<br><br>poll=NY Times/Siena<br>date=%{x}<br>biden=%{y} <b>(trend)</b><extra></extra>",
         "legendgroup": "NY Times/Siena",
         "marker": {
          "color": "#FFA15A",
          "symbol": "circle"
         },
         "mode": "lines",
         "name": "NY Times/Siena",
         "showlegend": false,
         "type": "scatter",
         "x": [
          "2020-06-17T00:00:00",
          "2020-09-22T00:00:00",
          "2020-10-15T00:00:00"
         ],
         "xaxis": "x",
         "y": [
          49.67635424765978,
          49.66648246921373,
          49.65716328312643
         ],
         "yaxis": "y"
        },
        {
         "hovertemplate": "poll=NBC News/Wall St. Jrnl<br>date=%{x}<br>biden=%{y}<extra></extra>",
         "legendgroup": "NBC News/Wall St. Jrnl",
         "marker": {
          "color": "#19d3f3",
          "symbol": "circle"
         },
         "mode": "markers",
         "name": "NBC News/Wall St. Jrnl",
         "orientation": "v",
         "showlegend": true,
         "type": "scatter",
         "x": [
          "2020-10-09T00:00:00",
          "2020-09-30T00:00:00",
          "2020-09-13T00:00:00",
          "2020-08-09T00:00:00",
          "2020-07-09T00:00:00",
          "2020-05-28T00:00:00",
          "2020-04-13T00:00:00",
          "2020-03-11T00:00:00",
          "2020-02-14T00:00:00",
          "2020-01-26T00:00:00"
         ],
         "xaxis": "x",
         "y": [
          53,
          53,
          51,
          50,
          51,
          49,
          49,
          52,
          52,
          50
         ],
         "yaxis": "y"
        },
        {
         "hovertemplate": "<b>OLS trendline</b><br>biden = -0.266451 * date + 50.9128<br>R<sup>2</sup>=0.046739<br><br>poll=NBC News/Wall St. Jrnl<br>date=%{x}<br>biden=%{y} <b>(trend)</b><extra></extra>",
         "legendgroup": "NBC News/Wall St. Jrnl",
         "marker": {
          "color": "#19d3f3",
          "symbol": "circle"
         },
         "mode": "lines",
         "name": "NBC News/Wall St. Jrnl",
         "showlegend": false,
         "type": "scatter",
         "x": [
          "2020-01-26T00:00:00",
          "2020-02-14T00:00:00",
          "2020-03-11T00:00:00",
          "2020-04-13T00:00:00",
          "2020-05-28T00:00:00",
          "2020-07-09T00:00:00",
          "2020-08-09T00:00:00",
          "2020-09-13T00:00:00",
          "2020-09-30T00:00:00",
          "2020-10-09T00:00:00"
         ],
         "xaxis": "x",
         "y": [
          51.00997086792524,
          51.25644862758366,
          50.38910535289477,
          50.69673544087935,
          51.22026712435927,
          51.40372410933776,
          50.721706265981126,
          50.87458708679653,
          51.27581411362412,
          51.15164101061803
         ],
         "yaxis": "y"
        },
        {
         "hovertemplate": "poll=NPR/PBS/Marist<br>date=%{x}<br>biden=%{y}<extra></extra>",
         "legendgroup": "NPR/PBS/Marist",
         "marker": {
          "color": "#FF6692",
          "symbol": "circle"
         },
         "mode": "markers",
         "name": "NPR/PBS/Marist",
         "orientation": "v",
         "showlegend": true,
         "type": "scatter",
         "x": [
          "2020-10-08T00:00:00",
          "2020-09-11T00:00:00",
          "2020-08-03T00:00:00",
          "2020-06-22T00:00:00",
          "2020-06-02T00:00:00",
          "2020-02-13T00:00:00"
         ],
         "xaxis": "x",
         "y": [
          54,
          52,
          53,
          52,
          50,
          50
         ],
         "yaxis": "y"
        },
        {
         "hovertemplate": "<b>OLS trendline</b><br>biden = 0.589403 * date + 52.0417<br>R<sup>2</sup>=0.142699<br><br>poll=NPR/PBS/Marist<br>date=%{x}<br>biden=%{y} <b>(trend)</b><extra></extra>",
         "legendgroup": "NPR/PBS/Marist",
         "marker": {
          "color": "#FF6692",
          "symbol": "circle"
         },
         "mode": "lines",
         "name": "NPR/PBS/Marist",
         "showlegend": false,
         "type": "scatter",
         "x": [
          "2020-02-13T00:00:00",
          "2020-06-02T00:00:00",
          "2020-06-22T00:00:00",
          "2020-08-03T00:00:00",
          "2020-09-11T00:00:00",
          "2020-10-08T00:00:00"
         ],
         "xaxis": "x",
         "y": [
          52.37605076272472,
          50.95155994806572,
          51.84322831309605,
          51.43741182362245,
          51.78385843451991,
          52.607890717971294
         ],
         "yaxis": "y"
        },
        {
         "hovertemplate": "poll=ABC News/Wash Post<br>date=%{x}<br>biden=%{y}<extra></extra>",
         "legendgroup": "ABC News/Wash Post",
         "marker": {
          "color": "#B6E880",
          "symbol": "circle"
         },
         "mode": "markers",
         "name": "ABC News/Wash Post",
         "orientation": "v",
         "showlegend": true,
         "type": "scatter",
         "x": [
          "2020-10-06T00:00:00",
          "2020-09-21T00:00:00",
          "2020-08-12T00:00:00",
          "2020-07-12T00:00:00",
          "2020-05-25T00:00:00",
          "2020-03-22T00:00:00",
          "2020-02-14T00:00:00",
          "2020-01-20T00:00:00"
         ],
         "xaxis": "x",
         "y": [
          55,
          54,
          54,
          54,
          53,
          49,
          52,
          50
         ],
         "yaxis": "y"
        },
        {
         "hovertemplate": "<b>OLS trendline</b><br>biden = 1.10219 * date + 53.3676<br>R<sup>2</sup>=0.355102<br><br>poll=ABC News/Wash Post<br>date=%{x}<br>biden=%{y} <b>(trend)</b><extra></extra>",
         "legendgroup": "ABC News/Wash Post",
         "marker": {
          "color": "#B6E880",
          "symbol": "circle"
         },
         "mode": "lines",
         "name": "ABC News/Wash Post",
         "showlegend": false,
         "type": "scatter",
         "x": [
          "2020-01-20T00:00:00",
          "2020-02-14T00:00:00",
          "2020-03-22T00:00:00",
          "2020-05-25T00:00:00",
          "2020-07-12T00:00:00",
          "2020-08-12T00:00:00",
          "2020-09-21T00:00:00",
          "2020-10-06T00:00:00"
         ],
         "xaxis": "x",
         "y": [
          51.045056658911406,
          51.945874379797004,
          51.953603310607264,
          53.502278792588434,
          54.66378540407431,
          52.75112784402863,
          51.352119134373254,
          53.7861544756195
         ],
         "yaxis": "y"
        },
        {
         "hovertemplate": "poll=FOX News<br>date=%{x}<br>biden=%{y}<extra></extra>",
         "legendgroup": "FOX News",
         "marker": {
          "color": "#FF97FF",
          "symbol": "circle"
         },
         "mode": "markers",
         "name": "FOX News",
         "orientation": "v",
         "showlegend": true,
         "type": "scatter",
         "x": [
          "2020-10-03T00:00:00",
          "2020-09-07T00:00:00",
          "2020-08-09T00:00:00",
          "2020-07-12T00:00:00",
          "2020-06-13T00:00:00",
          "2020-05-17T00:00:00",
          "2020-04-04T00:00:00",
          "2020-03-21T00:00:00",
          "2020-02-23T00:00:00",
          "2020-01-19T00:00:00"
         ],
         "xaxis": "x",
         "y": [
          53,
          51,
          49,
          49,
          50,
          48,
          42,
          49,
          49,
          50
         ],
         "yaxis": "y"
        },
        {
         "hovertemplate": "<b>OLS trendline</b><br>biden = -0.171198 * date + 49.0528<br>R<sup>2</sup>=0.005074<br><br>poll=FOX News<br>date=%{x}<br>biden=%{y} <b>(trend)</b><extra></extra>",
         "legendgroup": "FOX News",
         "marker": {
          "color": "#FF97FF",
          "symbol": "circle"
         },
         "mode": "lines",
         "name": "FOX News",
         "showlegend": false,
         "type": "scatter",
         "x": [
          "2020-01-19T00:00:00",
          "2020-02-23T00:00:00",
          "2020-03-21T00:00:00",
          "2020-04-04T00:00:00",
          "2020-05-17T00:00:00",
          "2020-06-13T00:00:00",
          "2020-07-12T00:00:00",
          "2020-08-09T00:00:00",
          "2020-09-07T00:00:00",
          "2020-10-03T00:00:00"
         ],
         "xaxis": "x",
         "y": [
          49.0956518857803,
          49.193879800013846,
          48.954531302658715,
          48.99382246835213,
          48.694336721392,
          49.190278296819216,
          48.851501384165665,
          48.9300837155525,
          49.3265968756813,
          48.76931754958421
         ],
         "yaxis": "y"
        },
        {
         "hovertemplate": "poll=Monmouth<br>date=%{x}<br>biden=%{y}<extra></extra>",
         "legendgroup": "Monmouth",
         "marker": {
          "color": "#FECB52",
          "symbol": "circle"
         },
         "mode": "markers",
         "name": "Monmouth",
         "orientation": "v",
         "showlegend": true,
         "type": "scatter",
         "x": [
          "2020-09-24T00:00:00",
          "2020-09-03T00:00:00",
          "2020-08-06T00:00:00",
          "2020-06-26T00:00:00",
          "2020-05-28T00:00:00",
          "2020-04-30T00:00:00",
          "2020-04-03T00:00:00",
          "2020-03-18T00:00:00"
         ],
         "xaxis": "x",
         "y": [
          50,
          51,
          51,
          53,
          52,
          50,
          48,
          48
         ],
         "yaxis": "y"
        },
        {
         "hovertemplate": "<b>OLS trendline</b><br>biden = 0.174252 * date + 50.2998<br>R<sup>2</sup>=0.022981<br><br>poll=Monmouth<br>date=%{x}<br>biden=%{y} <b>(trend)</b><extra></extra>",
         "legendgroup": "Monmouth",
         "marker": {
          "color": "#FECB52",
          "symbol": "circle"
         },
         "mode": "lines",
         "name": "Monmouth",
         "showlegend": false,
         "type": "scatter",
         "x": [
          "2020-03-18T00:00:00",
          "2020-04-03T00:00:00",
          "2020-04-30T00:00:00",
          "2020-05-28T00:00:00",
          "2020-06-26T00:00:00",
          "2020-08-06T00:00:00",
          "2020-09-03T00:00:00",
          "2020-09-24T00:00:00"
         ],
         "xaxis": "x",
         "y": [
          50.622298858996814,
          49.93510032104443,
          50.17871914599355,
          50.09873479077189,
          50.44355597950946,
          50.64718262684775,
          50.5671982716261,
          50.50721000520985
         ],
         "yaxis": "y"
        },
        {
         "hovertemplate": "poll=Harvard-Harris<br>date=%{x}<br>biden=%{y}<extra></extra>",
         "legendgroup": "Harvard-Harris",
         "marker": {
          "color": "#636efa",
          "symbol": "circle"
         },
         "mode": "markers",
         "name": "Harvard-Harris",
         "orientation": "v",
         "showlegend": true,
         "type": "scatter",
         "x": [
          "2020-09-22T00:00:00",
          "2020-08-31T00:00:00",
          "2020-07-21T00:00:00",
          "2020-06-17T00:00:00",
          "2020-05-13T00:00:00",
          "2020-04-14T00:00:00",
          "2020-03-24T00:00:00",
          "2020-02-26T00:00:00"
         ],
         "xaxis": "x",
         "y": [
          47,
          53,
          55,
          56,
          53,
          53,
          55,
          55
         ],
         "yaxis": "y"
        },
        {
         "hovertemplate": "<b>OLS trendline</b><br>biden = -0.356326 * date + 53.2953<br>R<sup>2</sup>=0.026966<br><br>poll=Harvard-Harris<br>date=%{x}<br>biden=%{y} <b>(trend)</b><extra></extra>",
         "legendgroup": "Harvard-Harris",
         "marker": {
          "color": "#636efa",
          "symbol": "circle"
         },
         "mode": "lines",
         "name": "Harvard-Harris",
         "showlegend": false,
         "type": "scatter",
         "x": [
          "2020-02-26T00:00:00",
          "2020-03-24T00:00:00",
          "2020-04-14T00:00:00",
          "2020-05-13T00:00:00",
          "2020-06-17T00:00:00",
          "2020-07-21T00:00:00",
          "2020-08-31T00:00:00",
          "2020-09-22T00:00:00"
         ],
         "xaxis": "x",
         "y": [
          54.04360185928166,
          53.54542998540064,
          53.66809894211076,
          52.962980124699364,
          53.16742838588289,
          52.71014616423858,
          53.82416150401705,
          53.078153034368945
         ],
         "yaxis": "y"
        },
        {
         "hovertemplate": "poll=CBS News/YouGov<br>date=%{x}<br>biden=%{y}<extra></extra>",
         "legendgroup": "CBS News/YouGov",
         "marker": {
          "color": "#EF553B",
          "symbol": "circle"
         },
         "mode": "markers",
         "name": "CBS News/YouGov",
         "orientation": "v",
         "showlegend": true,
         "type": "scatter",
         "x": [
          "2020-09-02T00:00:00",
          "2020-08-20T00:00:00",
          "2020-08-12T00:00:00",
          "2020-07-21T00:00:00",
          "2020-05-29T00:00:00",
          "2020-04-28T00:00:00",
          "2020-02-20T00:00:00"
         ],
         "xaxis": "x",
         "y": [
          52,
          52,
          52,
          51,
          47,
          49,
          47
         ],
         "yaxis": "y"
        },
        {
         "hovertemplate": "<b>OLS trendline</b><br>biden = -0.176061 * date + 50.0605<br>R<sup>2</sup>=0.009292<br><br>poll=CBS News/YouGov<br>date=%{x}<br>biden=%{y} <b>(trend)</b><extra></extra>",
         "legendgroup": "CBS News/YouGov",
         "marker": {
          "color": "#EF553B",
          "symbol": "circle"
         },
         "mode": "lines",
         "name": "CBS News/YouGov",
         "showlegend": false,
         "type": "scatter",
         "x": [
          "2020-02-20T00:00:00",
          "2020-04-28T00:00:00",
          "2020-05-29T00:00:00",
          "2020-07-21T00:00:00",
          "2020-08-12T00:00:00",
          "2020-08-20T00:00:00",
          "2020-09-02T00:00:00"
         ],
         "xaxis": "x",
         "y": [
          49.980790286731654,
          50.285079793183634,
          49.834426249520085,
          49.771346060995405,
          50.15891941613427,
          49.749907796814156,
          50.219530396620854
         ],
         "yaxis": "y"
        },
        {
         "hovertemplate": "poll=Grinnell/Selzer<br>date=%{x}<br>biden=%{y}<extra></extra>",
         "legendgroup": "Grinnell/Selzer",
         "marker": {
          "color": "#00cc96",
          "symbol": "circle"
         },
         "mode": "markers",
         "name": "Grinnell/Selzer",
         "orientation": "v",
         "showlegend": true,
         "type": "scatter",
         "x": [
          "2020-08-26T00:00:00",
          "2020-03-27T00:00:00"
         ],
         "xaxis": "x",
         "y": [
          49,
          47
         ],
         "yaxis": "y"
        },
        {
         "hovertemplate": "<b>OLS trendline</b><br>biden = 1.68122 * date + 50.3261<br>R<sup>2</sup>=1.000000<br><br>poll=Grinnell/Selzer<br>date=%{x}<br>biden=%{y} <b>(trend)</b><extra></extra>",
         "legendgroup": "Grinnell/Selzer",
         "marker": {
          "color": "#00cc96",
          "symbol": "circle"
         },
         "mode": "lines",
         "name": "Grinnell/Selzer",
         "showlegend": false,
         "type": "scatter",
         "x": [
          "2020-03-27T00:00:00",
          "2020-08-26T00:00:00"
         ],
         "xaxis": "x",
         "y": [
          46.99999999999997,
          48.99999999999997
         ],
         "yaxis": "y"
        },
        {
         "hovertemplate": "poll=GU Politics/Battleground<br>date=%{x}<br>biden=%{y}<extra></extra>",
         "legendgroup": "GU Politics/Battleground",
         "marker": {
          "color": "#ab63fa",
          "symbol": "circle"
         },
         "mode": "markers",
         "name": "GU Politics/Battleground",
         "orientation": "v",
         "showlegend": true,
         "type": "scatter",
         "x": [
          "2020-08-01T00:00:00"
         ],
         "xaxis": "x",
         "y": [
          53
         ],
         "yaxis": "y"
        },
        {
         "hovertemplate": "poll=GU Politics/Battleground<extra></extra>",
         "legendgroup": "GU Politics/Battleground",
         "marker": {
          "color": "#ab63fa",
          "symbol": "circle"
         },
         "mode": "lines",
         "name": "GU Politics/Battleground",
         "showlegend": false,
         "type": "scatter",
         "xaxis": "x",
         "yaxis": "y"
        },
        {
         "hovertemplate": "poll=LA Times/USC<br>date=%{x}<br>biden=%{y}<extra></extra>",
         "legendgroup": "LA Times/USC",
         "marker": {
          "color": "#FFA15A",
          "symbol": "circle"
         },
         "mode": "markers",
         "name": "LA Times/USC",
         "orientation": "v",
         "showlegend": true,
         "type": "scatter",
         "x": [
          "2020-01-15T00:00:00"
         ],
         "xaxis": "x",
         "y": [
          49
         ],
         "yaxis": "y"
        },
        {
         "hovertemplate": "poll=LA Times/USC<extra></extra>",
         "legendgroup": "LA Times/USC",
         "marker": {
          "color": "#FFA15A",
          "symbol": "circle"
         },
         "mode": "lines",
         "name": "LA Times/USC",
         "showlegend": false,
         "type": "scatter",
         "xaxis": "x",
         "yaxis": "y"
        }
       ],
       "layout": {
        "legend": {
         "title": {
          "text": "poll"
         },
         "tracegroupgap": 0
        },
        "margin": {
         "t": 60
        },
        "template": {
         "data": {
          "bar": [
           {
            "error_x": {
             "color": "#2a3f5f"
            },
            "error_y": {
             "color": "#2a3f5f"
            },
            "marker": {
             "line": {
              "color": "#E5ECF6",
              "width": 0.5
             }
            },
            "type": "bar"
           }
          ],
          "barpolar": [
           {
            "marker": {
             "line": {
              "color": "#E5ECF6",
              "width": 0.5
             }
            },
            "type": "barpolar"
           }
          ],
          "carpet": [
           {
            "aaxis": {
             "endlinecolor": "#2a3f5f",
             "gridcolor": "white",
             "linecolor": "white",
             "minorgridcolor": "white",
             "startlinecolor": "#2a3f5f"
            },
            "baxis": {
             "endlinecolor": "#2a3f5f",
             "gridcolor": "white",
             "linecolor": "white",
             "minorgridcolor": "white",
             "startlinecolor": "#2a3f5f"
            },
            "type": "carpet"
           }
          ],
          "choropleth": [
           {
            "colorbar": {
             "outlinewidth": 0,
             "ticks": ""
            },
            "type": "choropleth"
           }
          ],
          "contour": [
           {
            "colorbar": {
             "outlinewidth": 0,
             "ticks": ""
            },
            "colorscale": [
             [
              0,
              "#0d0887"
             ],
             [
              0.1111111111111111,
              "#46039f"
             ],
             [
              0.2222222222222222,
              "#7201a8"
             ],
             [
              0.3333333333333333,
              "#9c179e"
             ],
             [
              0.4444444444444444,
              "#bd3786"
             ],
             [
              0.5555555555555556,
              "#d8576b"
             ],
             [
              0.6666666666666666,
              "#ed7953"
             ],
             [
              0.7777777777777778,
              "#fb9f3a"
             ],
             [
              0.8888888888888888,
              "#fdca26"
             ],
             [
              1,
              "#f0f921"
             ]
            ],
            "type": "contour"
           }
          ],
          "contourcarpet": [
           {
            "colorbar": {
             "outlinewidth": 0,
             "ticks": ""
            },
            "type": "contourcarpet"
           }
          ],
          "heatmap": [
           {
            "colorbar": {
             "outlinewidth": 0,
             "ticks": ""
            },
            "colorscale": [
             [
              0,
              "#0d0887"
             ],
             [
              0.1111111111111111,
              "#46039f"
             ],
             [
              0.2222222222222222,
              "#7201a8"
             ],
             [
              0.3333333333333333,
              "#9c179e"
             ],
             [
              0.4444444444444444,
              "#bd3786"
             ],
             [
              0.5555555555555556,
              "#d8576b"
             ],
             [
              0.6666666666666666,
              "#ed7953"
             ],
             [
              0.7777777777777778,
              "#fb9f3a"
             ],
             [
              0.8888888888888888,
              "#fdca26"
             ],
             [
              1,
              "#f0f921"
             ]
            ],
            "type": "heatmap"
           }
          ],
          "heatmapgl": [
           {
            "colorbar": {
             "outlinewidth": 0,
             "ticks": ""
            },
            "colorscale": [
             [
              0,
              "#0d0887"
             ],
             [
              0.1111111111111111,
              "#46039f"
             ],
             [
              0.2222222222222222,
              "#7201a8"
             ],
             [
              0.3333333333333333,
              "#9c179e"
             ],
             [
              0.4444444444444444,
              "#bd3786"
             ],
             [
              0.5555555555555556,
              "#d8576b"
             ],
             [
              0.6666666666666666,
              "#ed7953"
             ],
             [
              0.7777777777777778,
              "#fb9f3a"
             ],
             [
              0.8888888888888888,
              "#fdca26"
             ],
             [
              1,
              "#f0f921"
             ]
            ],
            "type": "heatmapgl"
           }
          ],
          "histogram": [
           {
            "marker": {
             "colorbar": {
              "outlinewidth": 0,
              "ticks": ""
             }
            },
            "type": "histogram"
           }
          ],
          "histogram2d": [
           {
            "colorbar": {
             "outlinewidth": 0,
             "ticks": ""
            },
            "colorscale": [
             [
              0,
              "#0d0887"
             ],
             [
              0.1111111111111111,
              "#46039f"
             ],
             [
              0.2222222222222222,
              "#7201a8"
             ],
             [
              0.3333333333333333,
              "#9c179e"
             ],
             [
              0.4444444444444444,
              "#bd3786"
             ],
             [
              0.5555555555555556,
              "#d8576b"
             ],
             [
              0.6666666666666666,
              "#ed7953"
             ],
             [
              0.7777777777777778,
              "#fb9f3a"
             ],
             [
              0.8888888888888888,
              "#fdca26"
             ],
             [
              1,
              "#f0f921"
             ]
            ],
            "type": "histogram2d"
           }
          ],
          "histogram2dcontour": [
           {
            "colorbar": {
             "outlinewidth": 0,
             "ticks": ""
            },
            "colorscale": [
             [
              0,
              "#0d0887"
             ],
             [
              0.1111111111111111,
              "#46039f"
             ],
             [
              0.2222222222222222,
              "#7201a8"
             ],
             [
              0.3333333333333333,
              "#9c179e"
             ],
             [
              0.4444444444444444,
              "#bd3786"
             ],
             [
              0.5555555555555556,
              "#d8576b"
             ],
             [
              0.6666666666666666,
              "#ed7953"
             ],
             [
              0.7777777777777778,
              "#fb9f3a"
             ],
             [
              0.8888888888888888,
              "#fdca26"
             ],
             [
              1,
              "#f0f921"
             ]
            ],
            "type": "histogram2dcontour"
           }
          ],
          "mesh3d": [
           {
            "colorbar": {
             "outlinewidth": 0,
             "ticks": ""
            },
            "type": "mesh3d"
           }
          ],
          "parcoords": [
           {
            "line": {
             "colorbar": {
              "outlinewidth": 0,
              "ticks": ""
             }
            },
            "type": "parcoords"
           }
          ],
          "pie": [
           {
            "automargin": true,
            "type": "pie"
           }
          ],
          "scatter": [
           {
            "marker": {
             "colorbar": {
              "outlinewidth": 0,
              "ticks": ""
             }
            },
            "type": "scatter"
           }
          ],
          "scatter3d": [
           {
            "line": {
             "colorbar": {
              "outlinewidth": 0,
              "ticks": ""
             }
            },
            "marker": {
             "colorbar": {
              "outlinewidth": 0,
              "ticks": ""
             }
            },
            "type": "scatter3d"
           }
          ],
          "scattercarpet": [
           {
            "marker": {
             "colorbar": {
              "outlinewidth": 0,
              "ticks": ""
             }
            },
            "type": "scattercarpet"
           }
          ],
          "scattergeo": [
           {
            "marker": {
             "colorbar": {
              "outlinewidth": 0,
              "ticks": ""
             }
            },
            "type": "scattergeo"
           }
          ],
          "scattergl": [
           {
            "marker": {
             "colorbar": {
              "outlinewidth": 0,
              "ticks": ""
             }
            },
            "type": "scattergl"
           }
          ],
          "scattermapbox": [
           {
            "marker": {
             "colorbar": {
              "outlinewidth": 0,
              "ticks": ""
             }
            },
            "type": "scattermapbox"
           }
          ],
          "scatterpolar": [
           {
            "marker": {
             "colorbar": {
              "outlinewidth": 0,
              "ticks": ""
             }
            },
            "type": "scatterpolar"
           }
          ],
          "scatterpolargl": [
           {
            "marker": {
             "colorbar": {
              "outlinewidth": 0,
              "ticks": ""
             }
            },
            "type": "scatterpolargl"
           }
          ],
          "scatterternary": [
           {
            "marker": {
             "colorbar": {
              "outlinewidth": 0,
              "ticks": ""
             }
            },
            "type": "scatterternary"
           }
          ],
          "surface": [
           {
            "colorbar": {
             "outlinewidth": 0,
             "ticks": ""
            },
            "colorscale": [
             [
              0,
              "#0d0887"
             ],
             [
              0.1111111111111111,
              "#46039f"
             ],
             [
              0.2222222222222222,
              "#7201a8"
             ],
             [
              0.3333333333333333,
              "#9c179e"
             ],
             [
              0.4444444444444444,
              "#bd3786"
             ],
             [
              0.5555555555555556,
              "#d8576b"
             ],
             [
              0.6666666666666666,
              "#ed7953"
             ],
             [
              0.7777777777777778,
              "#fb9f3a"
             ],
             [
              0.8888888888888888,
              "#fdca26"
             ],
             [
              1,
              "#f0f921"
             ]
            ],
            "type": "surface"
           }
          ],
          "table": [
           {
            "cells": {
             "fill": {
              "color": "#EBF0F8"
             },
             "line": {
              "color": "white"
             }
            },
            "header": {
             "fill": {
              "color": "#C8D4E3"
             },
             "line": {
              "color": "white"
             }
            },
            "type": "table"
           }
          ]
         },
         "layout": {
          "annotationdefaults": {
           "arrowcolor": "#2a3f5f",
           "arrowhead": 0,
           "arrowwidth": 1
          },
          "coloraxis": {
           "colorbar": {
            "outlinewidth": 0,
            "ticks": ""
           }
          },
          "colorscale": {
           "diverging": [
            [
             0,
             "#8e0152"
            ],
            [
             0.1,
             "#c51b7d"
            ],
            [
             0.2,
             "#de77ae"
            ],
            [
             0.3,
             "#f1b6da"
            ],
            [
             0.4,
             "#fde0ef"
            ],
            [
             0.5,
             "#f7f7f7"
            ],
            [
             0.6,
             "#e6f5d0"
            ],
            [
             0.7,
             "#b8e186"
            ],
            [
             0.8,
             "#7fbc41"
            ],
            [
             0.9,
             "#4d9221"
            ],
            [
             1,
             "#276419"
            ]
           ],
           "sequential": [
            [
             0,
             "#0d0887"
            ],
            [
             0.1111111111111111,
             "#46039f"
            ],
            [
             0.2222222222222222,
             "#7201a8"
            ],
            [
             0.3333333333333333,
             "#9c179e"
            ],
            [
             0.4444444444444444,
             "#bd3786"
            ],
            [
             0.5555555555555556,
             "#d8576b"
            ],
            [
             0.6666666666666666,
             "#ed7953"
            ],
            [
             0.7777777777777778,
             "#fb9f3a"
            ],
            [
             0.8888888888888888,
             "#fdca26"
            ],
            [
             1,
             "#f0f921"
            ]
           ],
           "sequentialminus": [
            [
             0,
             "#0d0887"
            ],
            [
             0.1111111111111111,
             "#46039f"
            ],
            [
             0.2222222222222222,
             "#7201a8"
            ],
            [
             0.3333333333333333,
             "#9c179e"
            ],
            [
             0.4444444444444444,
             "#bd3786"
            ],
            [
             0.5555555555555556,
             "#d8576b"
            ],
            [
             0.6666666666666666,
             "#ed7953"
            ],
            [
             0.7777777777777778,
             "#fb9f3a"
            ],
            [
             0.8888888888888888,
             "#fdca26"
            ],
            [
             1,
             "#f0f921"
            ]
           ]
          },
          "colorway": [
           "#636efa",
           "#EF553B",
           "#00cc96",
           "#ab63fa",
           "#FFA15A",
           "#19d3f3",
           "#FF6692",
           "#B6E880",
           "#FF97FF",
           "#FECB52"
          ],
          "font": {
           "color": "#2a3f5f"
          },
          "geo": {
           "bgcolor": "white",
           "lakecolor": "white",
           "landcolor": "#E5ECF6",
           "showlakes": true,
           "showland": true,
           "subunitcolor": "white"
          },
          "hoverlabel": {
           "align": "left"
          },
          "hovermode": "closest",
          "mapbox": {
           "style": "light"
          },
          "paper_bgcolor": "white",
          "plot_bgcolor": "#E5ECF6",
          "polar": {
           "angularaxis": {
            "gridcolor": "white",
            "linecolor": "white",
            "ticks": ""
           },
           "bgcolor": "#E5ECF6",
           "radialaxis": {
            "gridcolor": "white",
            "linecolor": "white",
            "ticks": ""
           }
          },
          "scene": {
           "xaxis": {
            "backgroundcolor": "#E5ECF6",
            "gridcolor": "white",
            "gridwidth": 2,
            "linecolor": "white",
            "showbackground": true,
            "ticks": "",
            "zerolinecolor": "white"
           },
           "yaxis": {
            "backgroundcolor": "#E5ECF6",
            "gridcolor": "white",
            "gridwidth": 2,
            "linecolor": "white",
            "showbackground": true,
            "ticks": "",
            "zerolinecolor": "white"
           },
           "zaxis": {
            "backgroundcolor": "#E5ECF6",
            "gridcolor": "white",
            "gridwidth": 2,
            "linecolor": "white",
            "showbackground": true,
            "ticks": "",
            "zerolinecolor": "white"
           }
          },
          "shapedefaults": {
           "line": {
            "color": "#2a3f5f"
           }
          },
          "ternary": {
           "aaxis": {
            "gridcolor": "white",
            "linecolor": "white",
            "ticks": ""
           },
           "baxis": {
            "gridcolor": "white",
            "linecolor": "white",
            "ticks": ""
           },
           "bgcolor": "#E5ECF6",
           "caxis": {
            "gridcolor": "white",
            "linecolor": "white",
            "ticks": ""
           }
          },
          "title": {
           "x": 0.05
          },
          "xaxis": {
           "automargin": true,
           "gridcolor": "white",
           "linecolor": "white",
           "ticks": "",
           "title": {
            "standoff": 15
           },
           "zerolinecolor": "white",
           "zerolinewidth": 2
          },
          "yaxis": {
           "automargin": true,
           "gridcolor": "white",
           "linecolor": "white",
           "ticks": "",
           "title": {
            "standoff": 15
           },
           "zerolinecolor": "white",
           "zerolinewidth": 2
          }
         }
        },
        "xaxis": {
         "anchor": "y",
         "domain": [
          0,
          1
         ],
         "rangeslider": {
          "visible": true
         },
         "title": {
          "text": "date"
         }
        },
        "yaxis": {
         "anchor": "x",
         "domain": [
          0,
          1
         ],
         "title": {
          "text": "biden"
         }
        }
       }
      },
      "text/html": [
       "<div>                            <div id=\"4351b38d-9006-45cf-bac1-704ff07be749\" class=\"plotly-graph-div\" style=\"height:525px; width:100%;\"></div>            <script type=\"text/javascript\">                require([\"plotly\"], function(Plotly) {                    window.PLOTLYENV=window.PLOTLYENV || {};                                    if (document.getElementById(\"4351b38d-9006-45cf-bac1-704ff07be749\")) {                    Plotly.newPlot(                        \"4351b38d-9006-45cf-bac1-704ff07be749\",                        [{\"hovertemplate\": \"poll=The Hill/HarrisX<br>date=%{x}<br>biden=%{y}<extra></extra>\", \"legendgroup\": \"The Hill/HarrisX\", \"marker\": {\"color\": \"#636efa\", \"symbol\": \"circle\"}, \"mode\": \"markers\", \"name\": \"The Hill/HarrisX\", \"orientation\": \"v\", \"showlegend\": true, \"type\": \"scatter\", \"x\": [\"2020-10-25T00:00:00\", \"2020-10-13T00:00:00\", \"2020-10-10T00:00:00\", \"2020-10-03T00:00:00\", \"2020-09-30T00:00:00\", \"2020-09-22T00:00:00\", \"2020-09-19T00:00:00\", \"2020-09-10T00:00:00\", \"2020-09-05T00:00:00\", \"2020-08-29T00:00:00\", \"2020-08-25T00:00:00\", \"2020-08-22T00:00:00\", \"2020-08-15T00:00:00\", \"2020-08-11T00:00:00\", \"2020-08-08T00:00:00\", \"2020-08-02T00:00:00\", \"2020-07-17T00:00:00\", \"2020-07-03T00:00:00\", \"2020-06-22T00:00:00\", \"2020-06-01T00:00:00\", \"2020-05-13T00:00:00\", \"2020-04-19T00:00:00\"], \"xaxis\": \"x\", \"y\": [49, 46, 47, 45, 47, 45, 45, 45, 47, 46, 47, 47, 46, 45, 44, 43, 45, 43, 43, 47, 42, 42], \"yaxis\": \"y\"}, {\"hovertemplate\": \"<b>OLS trendline</b><br>biden = -0.0532956 * date + 45.2806<br>R<sup>2</sup>=0.001568<br><br>poll=The Hill/HarrisX<br>date=%{x}<br>biden=%{y} <b>(trend)</b><extra></extra>\", \"legendgroup\": \"The Hill/HarrisX\", \"marker\": {\"color\": \"#636efa\", \"symbol\": \"circle\"}, \"mode\": \"lines\", \"name\": \"The Hill/HarrisX\", \"showlegend\": false, \"type\": \"scatter\", \"x\": [\"2020-04-19T00:00:00\", \"2020-05-13T00:00:00\", \"2020-06-01T00:00:00\", \"2020-06-22T00:00:00\", \"2020-07-03T00:00:00\", \"2020-07-17T00:00:00\", \"2020-08-02T00:00:00\", \"2020-08-08T00:00:00\", \"2020-08-11T00:00:00\", \"2020-08-15T00:00:00\", \"2020-08-22T00:00:00\", \"2020-08-25T00:00:00\", \"2020-08-29T00:00:00\", \"2020-09-05T00:00:00\", \"2020-09-10T00:00:00\", \"2020-09-19T00:00:00\", \"2020-09-22T00:00:00\", \"2020-09-30T00:00:00\", \"2020-10-03T00:00:00\", \"2020-10-10T00:00:00\", \"2020-10-13T00:00:00\", \"2020-10-25T00:00:00\"], \"xaxis\": \"x\", \"y\": [45.37346437213862, 45.2309308855731, 45.280231516892265, 45.29857910572114, 45.242788883683524, 45.255020609569435, 45.236299292965064, 45.37234318881213, 45.21146211341774, 45.37845905175509, 45.38457491469804, 45.22369383930366, 45.390690777641, 45.16790361726604, 45.204972522699286, 45.18013534315195, 45.248157291075486, 45.35324814443226, 45.19236706903787, 45.19848293198083, 45.26650487990436, 45.30968964828056], \"yaxis\": \"y\"}, {\"hovertemplate\": \"poll=IBD/TIPP<br>date=%{x}<br>biden=%{y}<extra></extra>\", \"legendgroup\": \"IBD/TIPP\", \"marker\": {\"color\": \"#EF553B\", \"symbol\": \"circle\"}, \"mode\": \"markers\", \"name\": \"IBD/TIPP\", \"orientation\": \"v\", \"showlegend\": true, \"type\": \"scatter\", \"x\": [\"2020-10-25T00:00:00\", \"2020-09-30T00:00:00\", \"2020-09-16T00:00:00\", \"2020-08-29T00:00:00\", \"2020-07-25T00:00:00\", \"2020-06-27T00:00:00\", \"2020-05-31T00:00:00\", \"2020-04-26T00:00:00\", \"2020-03-29T00:00:00\", \"2020-02-20T00:00:00\", \"2020-01-23T00:00:00\", \"2020-01-03T00:00:00\"], \"xaxis\": \"x\", \"y\": [51, 49, 50, 49, 48, 48, 45, 43, 47, 49, 49, 48], \"yaxis\": \"y\"}, {\"hovertemplate\": \"<b>OLS trendline</b><br>biden = -0.0563685 * date + 47.9612<br>R<sup>2</sup>=0.000952<br><br>poll=IBD/TIPP<br>date=%{x}<br>biden=%{y} <b>(trend)</b><extra></extra>\", \"legendgroup\": \"IBD/TIPP\", \"marker\": {\"color\": \"#EF553B\", \"symbol\": \"circle\"}, \"mode\": \"lines\", \"name\": \"IBD/TIPP\", \"showlegend\": false, \"type\": \"scatter\", \"x\": [\"2020-01-03T00:00:00\", \"2020-01-23T00:00:00\", \"2020-02-20T00:00:00\", \"2020-03-29T00:00:00\", \"2020-04-26T00:00:00\", \"2020-05-31T00:00:00\", \"2020-06-27T00:00:00\", \"2020-07-25T00:00:00\", \"2020-08-29T00:00:00\", \"2020-09-16T00:00:00\", \"2020-09-30T00:00:00\", \"2020-10-25T00:00:00\"], \"xaxis\": \"x\", \"y\": [47.995112621671595, 47.90983655112495, 47.93571047237381, 48.03999670836116, 48.06587062961002, 47.85611233114748, 48.019405440936666, 48.045279362185525, 48.077621763746606, 48.02508337025698, 48.03802033088141, 47.991950417704004], \"yaxis\": \"y\"}, {\"hovertemplate\": \"poll=Rasmussen Reports<br>date=%{x}<br>biden=%{y}<extra></extra>\", \"legendgroup\": \"Rasmussen Reports\", \"marker\": {\"color\": \"#00cc96\", \"symbol\": \"circle\"}, \"mode\": \"markers\", \"name\": \"Rasmussen Reports\", \"orientation\": \"v\", \"showlegend\": true, \"type\": \"scatter\", \"x\": [\"2020-10-27T00:00:00\", \"2020-10-14T00:00:00\", \"2020-10-07T00:00:00\", \"2020-09-30T00:00:00\", \"2020-09-23T00:00:00\", \"2020-09-16T00:00:00\", \"2020-09-09T00:00:00\", \"2020-09-02T00:00:00\", \"2020-08-26T00:00:00\", \"2020-08-19T00:00:00\", \"2020-08-12T00:00:00\", \"2020-08-05T00:00:00\", \"2020-07-29T00:00:00\", \"2020-07-22T00:00:00\", \"2020-07-15T00:00:00\", \"2020-07-08T00:00:00\", \"2020-07-05T00:00:00\", \"2020-05-18T00:00:00\"], \"xaxis\": \"x\", \"y\": [49, 49, 50, 52, 51, 48, 46, 48, 49, 46, 48, 49, 48, 48, 47, 47, 50, 48], \"yaxis\": \"y\"}, {\"hovertemplate\": \"<b>OLS trendline</b><br>biden = -0.422233 * date + 48.2591<br>R<sup>2</sup>=0.037274<br><br>poll=Rasmussen Reports<br>date=%{x}<br>biden=%{y} <b>(trend)</b><extra></extra>\", \"legendgroup\": \"Rasmussen Reports\", \"marker\": {\"color\": \"#00cc96\", \"symbol\": \"circle\"}, \"mode\": \"lines\", \"name\": \"Rasmussen Reports\", \"showlegend\": false, \"type\": \"scatter\", \"x\": [\"2020-05-18T00:00:00\", \"2020-07-05T00:00:00\", \"2020-07-08T00:00:00\", \"2020-07-15T00:00:00\", \"2020-07-22T00:00:00\", \"2020-07-29T00:00:00\", \"2020-08-05T00:00:00\", \"2020-08-12T00:00:00\", \"2020-08-19T00:00:00\", \"2020-08-26T00:00:00\", \"2020-09-02T00:00:00\", \"2020-09-09T00:00:00\", \"2020-09-16T00:00:00\", \"2020-09-23T00:00:00\", \"2020-09-30T00:00:00\", \"2020-10-07T00:00:00\", \"2020-10-14T00:00:00\", \"2020-10-27T00:00:00\"], \"xaxis\": \"x\", \"y\": [48.159065787282564, 47.71410831468011, 48.25301047754906, 48.30146324710919, 48.34991601666932, 48.398368786229454, 48.44682155578958, 48.49527432534971, 48.54372709490984, 48.592179864469976, 48.640632634030105, 48.689085403590234, 48.73753817315036, 48.78599094271049, 48.83444371227063, 48.882896481830755, 48.931349251390884, 48.24412793098778], \"yaxis\": \"y\"}, {\"hovertemplate\": \"poll=Economist/YouGov<br>date=%{x}<br>biden=%{y}<extra></extra>\", \"legendgroup\": \"Economist/YouGov\", \"marker\": {\"color\": \"#ab63fa\", \"symbol\": \"circle\"}, \"mode\": \"markers\", \"name\": \"Economist/YouGov\", \"orientation\": \"v\", \"showlegend\": true, \"type\": \"scatter\", \"x\": [\"2020-10-25T00:00:00\", \"2020-10-18T00:00:00\", \"2020-10-11T00:00:00\", \"2020-10-04T00:00:00\", \"2020-09-27T00:00:00\", \"2020-09-20T00:00:00\", \"2020-09-13T00:00:00\", \"2020-09-06T00:00:00\", \"2020-08-30T00:00:00\", \"2020-08-23T00:00:00\", \"2020-08-16T00:00:00\", \"2020-08-09T00:00:00\", \"2020-08-02T00:00:00\", \"2020-07-26T00:00:00\", \"2020-07-19T00:00:00\", \"2020-07-12T00:00:00\", \"2020-07-05T00:00:00\", \"2020-06-28T00:00:00\", \"2020-06-21T00:00:00\", \"2020-06-14T00:00:00\", \"2020-06-07T00:00:00\", \"2020-05-31T00:00:00\", \"2020-05-23T00:00:00\", \"2020-05-17T00:00:00\", \"2020-05-10T00:00:00\", \"2020-05-03T00:00:00\", \"2020-04-26T00:00:00\", \"2020-04-19T00:00:00\", \"2020-04-12T00:00:00\", \"2020-04-05T00:00:00\", \"2020-03-29T00:00:00\", \"2020-03-22T00:00:00\", \"2020-03-15T00:00:00\", \"2020-03-08T00:00:00\"], \"xaxis\": \"x\", \"y\": [54, 52, 52, 51, 50, 49, 51, 52, 51, 50, 50, 49, 49, 49, 48, 49, 49, 49, 49, 50, 49, 47, 45, 47, 47, 46, 47, 48, 48, 48, 46, 46, 48, 47], \"yaxis\": \"y\"}, {\"hovertemplate\": \"<b>OLS trendline</b><br>biden = 0.426448 * date + 48.8767<br>R<sup>2</sup>=0.069172<br><br>poll=Economist/YouGov<br>date=%{x}<br>biden=%{y} <b>(trend)</b><extra></extra>\", \"legendgroup\": \"Economist/YouGov\", \"marker\": {\"color\": \"#ab63fa\", \"symbol\": \"circle\"}, \"mode\": \"lines\", \"name\": \"Economist/YouGov\", \"showlegend\": false, \"type\": \"scatter\", \"x\": [\"2020-03-08T00:00:00\", \"2020-03-15T00:00:00\", \"2020-03-22T00:00:00\", \"2020-03-29T00:00:00\", \"2020-04-05T00:00:00\", \"2020-04-12T00:00:00\", \"2020-04-19T00:00:00\", \"2020-04-26T00:00:00\", \"2020-05-03T00:00:00\", \"2020-05-10T00:00:00\", \"2020-05-17T00:00:00\", \"2020-05-23T00:00:00\", \"2020-05-31T00:00:00\", \"2020-06-07T00:00:00\", \"2020-06-14T00:00:00\", \"2020-06-21T00:00:00\", \"2020-06-28T00:00:00\", \"2020-07-05T00:00:00\", \"2020-07-12T00:00:00\", \"2020-07-19T00:00:00\", \"2020-07-26T00:00:00\", \"2020-08-02T00:00:00\", \"2020-08-09T00:00:00\", \"2020-08-16T00:00:00\", \"2020-08-23T00:00:00\", \"2020-08-30T00:00:00\", \"2020-09-06T00:00:00\", \"2020-09-13T00:00:00\", \"2020-09-20T00:00:00\", \"2020-09-27T00:00:00\", \"2020-10-04T00:00:00\", \"2020-10-11T00:00:00\", \"2020-10-18T00:00:00\", \"2020-10-25T00:00:00\"], \"xaxis\": \"x\", \"y\": [48.42750123040726, 48.37856485017158, 48.3296284699359, 48.28069208970022, 48.23175570946454, 48.18281932922885, 48.13388294899317, 48.08494656875749, 48.03601018852181, 47.98707380828613, 49.7697163059063, 48.68115433550094, 49.67184354543494, 49.62290716519926, 49.57397078496358, 49.5250344047279, 49.47609802449222, 49.427161644256536, 49.378225264020855, 49.32928888378517, 49.28035250354949, 49.23141612331381, 49.182479743078126, 49.133543362842445, 49.084606982606765, 49.035670602371084, 48.986734222135404, 48.93779784189972, 48.88886146166404, 48.83992508142836, 48.790988701192674, 48.742052320956994, 48.69311594072131, 48.64417956048563], \"yaxis\": \"y\"}, {\"hovertemplate\": \"poll=Emerson<br>date=%{x}<br>biden=%{y}<extra></extra>\", \"legendgroup\": \"Emerson\", \"marker\": {\"color\": \"#FFA15A\", \"symbol\": \"circle\"}, \"mode\": \"markers\", \"name\": \"Emerson\", \"orientation\": \"v\", \"showlegend\": true, \"type\": \"scatter\", \"x\": [\"2020-10-25T00:00:00\", \"2020-09-22T00:00:00\", \"2020-08-30T00:00:00\", \"2020-07-29T00:00:00\", \"2020-06-02T00:00:00\", \"2020-04-26T00:00:00\", \"2020-03-18T00:00:00\", \"2020-02-16T00:00:00\", \"2020-01-21T00:00:00\"], \"xaxis\": \"x\", \"y\": [50, 48, 49, 50, 53, 48, 53, 48, 50], \"yaxis\": \"y\"}, {\"hovertemplate\": \"<b>OLS trendline</b><br>biden = 0.292138 * date + 49.9579<br>R<sup>2</sup>=0.031272<br><br>poll=Emerson<br>date=%{x}<br>biden=%{y} <b>(trend)</b><extra></extra>\", \"legendgroup\": \"Emerson\", \"marker\": {\"color\": \"#FFA15A\", \"symbol\": \"circle\"}, \"mode\": \"lines\", \"name\": \"Emerson\", \"showlegend\": false, \"type\": \"scatter\", \"x\": [\"2020-01-21T00:00:00\", \"2020-02-16T00:00:00\", \"2020-03-18T00:00:00\", \"2020-04-26T00:00:00\", \"2020-06-02T00:00:00\", \"2020-07-29T00:00:00\", \"2020-08-30T00:00:00\", \"2020-09-22T00:00:00\", \"2020-10-25T00:00:00\"], \"xaxis\": \"x\", \"y\": [50.05454251062256, 49.75077932199216, 50.49854680329417, 49.41554086031824, 49.41758943344212, 49.861593726113725, 50.06683394936584, 50.1359302148245, 49.7986431800267], \"yaxis\": \"y\"}, {\"hovertemplate\": \"poll=USA Today/Suffolk<br>date=%{x}<br>biden=%{y}<extra></extra>\", \"legendgroup\": \"USA Today/Suffolk\", \"marker\": {\"color\": \"#19d3f3\", \"symbol\": \"circle\"}, \"mode\": \"markers\", \"name\": \"USA Today/Suffolk\", \"orientation\": \"v\", \"showlegend\": true, \"type\": \"scatter\", \"x\": [\"2020-10-23T00:00:00\", \"2020-08-28T00:00:00\", \"2020-06-25T00:00:00\", \"2020-04-21T00:00:00\"], \"xaxis\": \"x\", \"y\": [52, 50, 53, 50], \"yaxis\": \"y\"}, {\"hovertemplate\": \"<b>OLS trendline</b><br>biden = -1.87713 * date + 49.3221<br>R<sup>2</sup>=0.543971<br><br>poll=USA Today/Suffolk<br>date=%{x}<br>biden=%{y} <b>(trend)</b><extra></extra>\", \"legendgroup\": \"USA Today/Suffolk\", \"marker\": {\"color\": \"#19d3f3\", \"symbol\": \"circle\"}, \"mode\": \"lines\", \"name\": \"USA Today/Suffolk\", \"showlegend\": false, \"type\": \"scatter\", \"x\": [\"2020-04-21T00:00:00\", \"2020-06-25T00:00:00\", \"2020-08-28T00:00:00\", \"2020-10-23T00:00:00\"], \"xaxis\": \"x\", \"y\": [51.50160626690812, 52.350073898183126, 49.71252916648294, 51.43579066842586], \"yaxis\": \"y\"}, {\"hovertemplate\": \"poll=Reuters/Ipsos<br>date=%{x}<br>biden=%{y}<extra></extra>\", \"legendgroup\": \"Reuters/Ipsos\", \"marker\": {\"color\": \"#FF6692\", \"symbol\": \"circle\"}, \"mode\": \"markers\", \"name\": \"Reuters/Ipsos\", \"orientation\": \"v\", \"showlegend\": true, \"type\": \"scatter\", \"x\": [\"2020-10-23T00:00:00\", \"2020-10-16T00:00:00\", \"2020-10-09T00:00:00\", \"2020-10-02T00:00:00\", \"2020-09-25T00:00:00\", \"2020-09-18T00:00:00\", \"2020-09-11T00:00:00\", \"2020-09-03T00:00:00\", \"2020-08-28T00:00:00\"], \"xaxis\": \"x\", \"y\": [52, 51, 51, 52, 51, 50, 50, 52, 47], \"yaxis\": \"y\"}, {\"hovertemplate\": \"<b>OLS trendline</b><br>biden = 0.0129131 * date + 50.6726<br>R<sup>2</sup>=0.000043<br><br>poll=Reuters/Ipsos<br>date=%{x}<br>biden=%{y} <b>(trend)</b><extra></extra>\", \"legendgroup\": \"Reuters/Ipsos\", \"marker\": {\"color\": \"#FF6692\", \"symbol\": \"circle\"}, \"mode\": \"lines\", \"name\": \"Reuters/Ipsos\", \"showlegend\": false, \"type\": \"scatter\", \"x\": [\"2020-08-28T00:00:00\", \"2020-09-03T00:00:00\", \"2020-09-11T00:00:00\", \"2020-09-18T00:00:00\", \"2020-09-25T00:00:00\", \"2020-10-02T00:00:00\", \"2020-10-09T00:00:00\", \"2020-10-16T00:00:00\", \"2020-10-23T00:00:00\"], \"xaxis\": \"x\", \"y\": [50.669929436636295, 50.69242852945495, 50.66696577820513, 50.66548394898955, 50.66400211977397, 50.66252029055838, 50.661038461342805, 50.65955663212722, 50.65807480291164], \"yaxis\": \"y\"}, {\"hovertemplate\": \"poll=CNN<br>date=%{x}<br>biden=%{y}<extra></extra>\", \"legendgroup\": \"CNN\", \"marker\": {\"color\": \"#B6E880\", \"symbol\": \"circle\"}, \"mode\": \"markers\", \"name\": \"CNN\", \"orientation\": \"v\", \"showlegend\": true, \"type\": \"scatter\", \"x\": [\"2020-10-23T00:00:00\", \"2020-10-01T00:00:00\", \"2020-08-28T00:00:00\", \"2020-08-12T00:00:00\", \"2020-06-02T00:00:00\", \"2020-05-07T00:00:00\", \"2020-04-03T00:00:00\", \"2020-03-04T00:00:00\", \"2020-01-16T00:00:00\"], \"xaxis\": \"x\", \"y\": [54, 57, 51, 50, 55, 51, 53, 53, 53], \"yaxis\": \"y\"}, {\"hovertemplate\": \"<b>OLS trendline</b><br>biden = 0.20005 * date + 53.0548<br>R<sup>2</sup>=0.016791<br><br>poll=CNN<br>date=%{x}<br>biden=%{y} <b>(trend)</b><extra></extra>\", \"legendgroup\": \"CNN\", \"marker\": {\"color\": \"#B6E880\", \"symbol\": \"circle\"}, \"mode\": \"lines\", \"name\": \"CNN\", \"showlegend\": false, \"type\": \"scatter\", \"x\": [\"2020-01-16T00:00:00\", \"2020-03-04T00:00:00\", \"2020-04-03T00:00:00\", \"2020-05-07T00:00:00\", \"2020-06-02T00:00:00\", \"2020-08-12T00:00:00\", \"2020-08-28T00:00:00\", \"2020-10-01T00:00:00\", \"2020-10-23T00:00:00\"], \"xaxis\": \"x\", \"y\": [53.260074467378146, 53.47089132533778, 52.63604083521627, 52.892770668087266, 52.68475945736664, 52.94289211385715, 53.013164399843696, 53.2698942327147, 52.829512500198256], \"yaxis\": \"y\"}, {\"hovertemplate\": \"poll=JTN/RMG Research<br>date=%{x}<br>biden=%{y}<extra></extra>\", \"legendgroup\": \"JTN/RMG Research\", \"marker\": {\"color\": \"#FF97FF\", \"symbol\": \"circle\"}, \"mode\": \"markers\", \"name\": \"JTN/RMG Research\", \"orientation\": \"v\", \"showlegend\": true, \"type\": \"scatter\", \"x\": [\"2020-10-23T00:00:00\", \"2020-10-15T00:00:00\", \"2020-10-08T00:00:00\", \"2020-10-01T00:00:00\", \"2020-09-24T00:00:00\", \"2020-09-17T00:00:00\", \"2020-09-10T00:00:00\"], \"xaxis\": \"x\", \"y\": [51, 51, 51, 51, 51, 50, 48], \"yaxis\": \"y\"}, {\"hovertemplate\": \"<b>OLS trendline</b><br>biden = -0.504724 * date + 50.8374<br>R<sup>2</sup>=0.152019<br><br>poll=JTN/RMG Research<br>date=%{x}<br>biden=%{y} <b>(trend)</b><extra></extra>\", \"legendgroup\": \"JTN/RMG Research\", \"marker\": {\"color\": \"#FF97FF\", \"symbol\": \"circle\"}, \"mode\": \"lines\", \"name\": \"JTN/RMG Research\", \"showlegend\": false, \"type\": \"scatter\", \"x\": [\"2020-09-10T00:00:00\", \"2020-09-17T00:00:00\", \"2020-09-24T00:00:00\", \"2020-10-01T00:00:00\", \"2020-10-08T00:00:00\", \"2020-10-15T00:00:00\", \"2020-10-23T00:00:00\"], \"xaxis\": \"x\", \"y\": [50.12091185102531, 50.17883074642961, 50.2367496418339, 50.2946685372382, 50.352587432642494, 50.41050632804679, 51.40574546278377], \"yaxis\": \"y\"}, {\"hovertemplate\": \"poll=CNBC<br>date=%{x}<br>biden=%{y}<extra></extra>\", \"legendgroup\": \"CNBC\", \"marker\": {\"color\": \"#FECB52\", \"symbol\": \"circle\"}, \"mode\": \"markers\", \"name\": \"CNBC\", \"orientation\": \"v\", \"showlegend\": true, \"type\": \"scatter\", \"x\": [\"2020-10-21T00:00:00\", \"2020-06-19T00:00:00\", \"2020-05-29T00:00:00\", \"2020-05-15T00:00:00\", \"2020-05-01T00:00:00\", \"2020-04-03T00:00:00\"], \"xaxis\": \"x\", \"y\": [51, 47, 48, 48, 47, 44], \"yaxis\": \"y\"}, {\"hovertemplate\": \"<b>OLS trendline</b><br>biden = 0.0960009 * date + 47.4731<br>R<sup>2</sup>=0.005307<br><br>poll=CNBC<br>date=%{x}<br>biden=%{y} <b>(trend)</b><extra></extra>\", \"legendgroup\": \"CNBC\", \"marker\": {\"color\": \"#FECB52\", \"symbol\": \"circle\"}, \"mode\": \"lines\", \"name\": \"CNBC\", \"showlegend\": false, \"type\": \"scatter\", \"x\": [\"2020-04-03T00:00:00\", \"2020-05-01T00:00:00\", \"2020-05-15T00:00:00\", \"2020-05-29T00:00:00\", \"2020-06-19T00:00:00\", \"2020-10-21T00:00:00\"], \"xaxis\": \"x\", \"y\": [47.272184260762806, 47.640439186171065, 47.61840630247019, 47.59637341876931, 47.563324093218, 47.3092727386088], \"yaxis\": \"y\"}, {\"hovertemplate\": \"poll=USC Dornsife<br>date=%{x}<br>biden=%{y}<extra></extra>\", \"legendgroup\": \"USC Dornsife\", \"marker\": {\"color\": \"#636efa\", \"symbol\": \"circle\"}, \"mode\": \"markers\", \"name\": \"USC Dornsife\", \"orientation\": \"v\", \"showlegend\": true, \"type\": \"scatter\", \"x\": [\"2020-10-16T00:00:00\", \"2020-09-07T00:00:00\", \"2020-08-31T00:00:00\"], \"xaxis\": \"x\", \"y\": [54, 52, 52], \"yaxis\": \"y\"}, {\"hovertemplate\": \"<b>OLS trendline</b><br>biden = 3.64275 * date + 57.6386<br>R<sup>2</sup>=0.966086<br><br>poll=USC Dornsife<br>date=%{x}<br>biden=%{y} <b>(trend)</b><extra></extra>\", \"legendgroup\": \"USC Dornsife\", \"marker\": {\"color\": \"#636efa\", \"symbol\": \"circle\"}, \"mode\": \"lines\", \"name\": \"USC Dornsife\", \"showlegend\": false, \"type\": \"scatter\", \"x\": [\"2020-08-31T00:00:00\", \"2020-09-07T00:00:00\", \"2020-10-16T00:00:00\"], \"xaxis\": \"x\", \"y\": [52.231618528651666, 51.813599895215994, 53.95478157613235], \"yaxis\": \"y\"}, {\"hovertemplate\": \"poll=Quinnipiac<br>date=%{x}<br>biden=%{y}<extra></extra>\", \"legendgroup\": \"Quinnipiac\", \"marker\": {\"color\": \"#EF553B\", \"symbol\": \"circle\"}, \"mode\": \"markers\", \"name\": \"Quinnipiac\", \"orientation\": \"v\", \"showlegend\": true, \"type\": \"scatter\", \"x\": [\"2020-10-16T00:00:00\", \"2020-09-17T00:00:00\", \"2020-08-28T00:00:00\", \"2020-07-09T00:00:00\", \"2020-06-11T00:00:00\", \"2020-05-14T00:00:00\", \"2020-04-02T00:00:00\", \"2020-03-05T00:00:00\", \"2020-02-05T00:00:00\"], \"xaxis\": \"x\", \"y\": [51, 52, 52, 52, 49, 50, 49, 52, 50], \"yaxis\": \"y\"}, {\"hovertemplate\": \"<b>OLS trendline</b><br>biden = 0.491691 * date + 51.0965<br>R<sup>2</sup>=0.148733<br><br>poll=Quinnipiac<br>date=%{x}<br>biden=%{y} <b>(trend)</b><extra></extra>\", \"legendgroup\": \"Quinnipiac\", \"marker\": {\"color\": \"#EF553B\", \"symbol\": \"circle\"}, \"mode\": \"lines\", \"name\": \"Quinnipiac\", \"showlegend\": false, \"type\": \"scatter\", \"x\": [\"2020-02-05T00:00:00\", \"2020-03-05T00:00:00\", \"2020-04-02T00:00:00\", \"2020-05-14T00:00:00\", \"2020-06-11T00:00:00\", \"2020-07-09T00:00:00\", \"2020-08-28T00:00:00\", \"2020-09-17T00:00:00\", \"2020-10-16T00:00:00\"], \"xaxis\": \"x\", \"y\": [50.23315457220892, 51.20614228022443, 50.98044908906892, 50.64190930233565, 50.41621611118014, 50.19052292002463, 50.99424073467351, 51.73808734013236, 50.599277650151365], \"yaxis\": \"y\"}, {\"hovertemplate\": \"poll=CNBC/Change Research (D)<br>date=%{x}<br>biden=%{y}<extra></extra>\", \"legendgroup\": \"CNBC/Change Research (D)\", \"marker\": {\"color\": \"#00cc96\", \"symbol\": \"circle\"}, \"mode\": \"markers\", \"name\": \"CNBC/Change Research (D)\", \"orientation\": \"v\", \"showlegend\": true, \"type\": \"scatter\", \"x\": [\"2020-10-17T00:00:00\", \"2020-10-02T00:00:00\", \"2020-09-29T00:00:00\", \"2020-09-18T00:00:00\", \"2020-09-04T00:00:00\", \"2020-08-21T00:00:00\", \"2020-08-07T00:00:00\", \"2020-07-24T00:00:00\", \"2020-07-10T00:00:00\", \"2020-06-26T00:00:00\", \"2020-06-10T00:00:00\"], \"xaxis\": \"x\", \"y\": [52, 52, 54, 51, 49, 51, 50, 51, 51, 49, 51], \"yaxis\": \"y\"}, {\"hovertemplate\": \"<b>OLS trendline</b><br>biden = 0.239782 * date + 50.9441<br>R<sup>2</sup>=0.011847<br><br>poll=CNBC/Change Research (D)<br>date=%{x}<br>biden=%{y} <b>(trend)</b><extra></extra>\", \"legendgroup\": \"CNBC/Change Research (D)\", \"marker\": {\"color\": \"#00cc96\", \"symbol\": \"circle\"}, \"mode\": \"lines\", \"name\": \"CNBC/Change Research (D)\", \"showlegend\": false, \"type\": \"scatter\", \"x\": [\"2020-06-10T00:00:00\", \"2020-06-26T00:00:00\", \"2020-07-10T00:00:00\", \"2020-07-24T00:00:00\", \"2020-08-07T00:00:00\", \"2020-08-21T00:00:00\", \"2020-09-04T00:00:00\", \"2020-09-18T00:00:00\", \"2020-09-29T00:00:00\", \"2020-10-02T00:00:00\", \"2020-10-17T00:00:00\"], \"xaxis\": \"x\", \"y\": [51.05758873028235, 51.141817534049174, 51.08678595367764, 51.0317543733061, 50.97672279293456, 50.92169121256302, 50.866659632191485, 50.811628051819945, 51.06263302991092, 50.756596471448404, 51.28612221781612], \"yaxis\": \"y\"}, {\"hovertemplate\": \"poll=SurveyUSA<br>date=%{x}<br>biden=%{y}<extra></extra>\", \"legendgroup\": \"SurveyUSA\", \"marker\": {\"color\": \"#ab63fa\", \"symbol\": \"circle\"}, \"mode\": \"markers\", \"name\": \"SurveyUSA\", \"orientation\": \"v\", \"showlegend\": true, \"type\": \"scatter\", \"x\": [\"2020-10-16T00:00:00\", \"2020-10-01T00:00:00\"], \"xaxis\": \"x\", \"y\": [53, 53], \"yaxis\": \"y\"}, {\"hovertemplate\": \"<b>OLS trendline</b><br>biden = -7.10543e-15 * date + 53<br>R<sup>2</sup>=-inf<br><br>poll=SurveyUSA<br>date=%{x}<br>biden=%{y} <b>(trend)</b><extra></extra>\", \"legendgroup\": \"SurveyUSA\", \"marker\": {\"color\": \"#ab63fa\", \"symbol\": \"circle\"}, \"mode\": \"lines\", \"name\": \"SurveyUSA\", \"showlegend\": false, \"type\": \"scatter\", \"x\": [\"2020-10-01T00:00:00\", \"2020-10-16T00:00:00\"], \"xaxis\": \"x\", \"y\": [52.99999999999998, 52.99999999999999], \"yaxis\": \"y\"}, {\"hovertemplate\": \"poll=NY Times/Siena<br>date=%{x}<br>biden=%{y}<extra></extra>\", \"legendgroup\": \"NY Times/Siena\", \"marker\": {\"color\": \"#FFA15A\", \"symbol\": \"circle\"}, \"mode\": \"markers\", \"name\": \"NY Times/Siena\", \"orientation\": \"v\", \"showlegend\": true, \"type\": \"scatter\", \"x\": [\"2020-10-15T00:00:00\", \"2020-09-22T00:00:00\", \"2020-06-17T00:00:00\"], \"xaxis\": \"x\", \"y\": [50, 49, 50], \"yaxis\": \"y\"}, {\"hovertemplate\": \"<b>OLS trendline</b><br>biden = -0.0394014 * date + 49.6905<br>R<sup>2</sup>=0.000276<br><br>poll=NY Times/Siena<br>date=%{x}<br>biden=%{y} <b>(trend)</b><extra></extra>\", \"legendgroup\": \"NY Times/Siena\", \"marker\": {\"color\": \"#FFA15A\", \"symbol\": \"circle\"}, \"mode\": \"lines\", \"name\": \"NY Times/Siena\", \"showlegend\": false, \"type\": \"scatter\", \"x\": [\"2020-06-17T00:00:00\", \"2020-09-22T00:00:00\", \"2020-10-15T00:00:00\"], \"xaxis\": \"x\", \"y\": [49.67635424765978, 49.66648246921373, 49.65716328312643], \"yaxis\": \"y\"}, {\"hovertemplate\": \"poll=NBC News/Wall St. Jrnl<br>date=%{x}<br>biden=%{y}<extra></extra>\", \"legendgroup\": \"NBC News/Wall St. Jrnl\", \"marker\": {\"color\": \"#19d3f3\", \"symbol\": \"circle\"}, \"mode\": \"markers\", \"name\": \"NBC News/Wall St. Jrnl\", \"orientation\": \"v\", \"showlegend\": true, \"type\": \"scatter\", \"x\": [\"2020-10-09T00:00:00\", \"2020-09-30T00:00:00\", \"2020-09-13T00:00:00\", \"2020-08-09T00:00:00\", \"2020-07-09T00:00:00\", \"2020-05-28T00:00:00\", \"2020-04-13T00:00:00\", \"2020-03-11T00:00:00\", \"2020-02-14T00:00:00\", \"2020-01-26T00:00:00\"], \"xaxis\": \"x\", \"y\": [53, 53, 51, 50, 51, 49, 49, 52, 52, 50], \"yaxis\": \"y\"}, {\"hovertemplate\": \"<b>OLS trendline</b><br>biden = -0.266451 * date + 50.9128<br>R<sup>2</sup>=0.046739<br><br>poll=NBC News/Wall St. Jrnl<br>date=%{x}<br>biden=%{y} <b>(trend)</b><extra></extra>\", \"legendgroup\": \"NBC News/Wall St. Jrnl\", \"marker\": {\"color\": \"#19d3f3\", \"symbol\": \"circle\"}, \"mode\": \"lines\", \"name\": \"NBC News/Wall St. Jrnl\", \"showlegend\": false, \"type\": \"scatter\", \"x\": [\"2020-01-26T00:00:00\", \"2020-02-14T00:00:00\", \"2020-03-11T00:00:00\", \"2020-04-13T00:00:00\", \"2020-05-28T00:00:00\", \"2020-07-09T00:00:00\", \"2020-08-09T00:00:00\", \"2020-09-13T00:00:00\", \"2020-09-30T00:00:00\", \"2020-10-09T00:00:00\"], \"xaxis\": \"x\", \"y\": [51.00997086792524, 51.25644862758366, 50.38910535289477, 50.69673544087935, 51.22026712435927, 51.40372410933776, 50.721706265981126, 50.87458708679653, 51.27581411362412, 51.15164101061803], \"yaxis\": \"y\"}, {\"hovertemplate\": \"poll=NPR/PBS/Marist<br>date=%{x}<br>biden=%{y}<extra></extra>\", \"legendgroup\": \"NPR/PBS/Marist\", \"marker\": {\"color\": \"#FF6692\", \"symbol\": \"circle\"}, \"mode\": \"markers\", \"name\": \"NPR/PBS/Marist\", \"orientation\": \"v\", \"showlegend\": true, \"type\": \"scatter\", \"x\": [\"2020-10-08T00:00:00\", \"2020-09-11T00:00:00\", \"2020-08-03T00:00:00\", \"2020-06-22T00:00:00\", \"2020-06-02T00:00:00\", \"2020-02-13T00:00:00\"], \"xaxis\": \"x\", \"y\": [54, 52, 53, 52, 50, 50], \"yaxis\": \"y\"}, {\"hovertemplate\": \"<b>OLS trendline</b><br>biden = 0.589403 * date + 52.0417<br>R<sup>2</sup>=0.142699<br><br>poll=NPR/PBS/Marist<br>date=%{x}<br>biden=%{y} <b>(trend)</b><extra></extra>\", \"legendgroup\": \"NPR/PBS/Marist\", \"marker\": {\"color\": \"#FF6692\", \"symbol\": \"circle\"}, \"mode\": \"lines\", \"name\": \"NPR/PBS/Marist\", \"showlegend\": false, \"type\": \"scatter\", \"x\": [\"2020-02-13T00:00:00\", \"2020-06-02T00:00:00\", \"2020-06-22T00:00:00\", \"2020-08-03T00:00:00\", \"2020-09-11T00:00:00\", \"2020-10-08T00:00:00\"], \"xaxis\": \"x\", \"y\": [52.37605076272472, 50.95155994806572, 51.84322831309605, 51.43741182362245, 51.78385843451991, 52.607890717971294], \"yaxis\": \"y\"}, {\"hovertemplate\": \"poll=ABC News/Wash Post<br>date=%{x}<br>biden=%{y}<extra></extra>\", \"legendgroup\": \"ABC News/Wash Post\", \"marker\": {\"color\": \"#B6E880\", \"symbol\": \"circle\"}, \"mode\": \"markers\", \"name\": \"ABC News/Wash Post\", \"orientation\": \"v\", \"showlegend\": true, \"type\": \"scatter\", \"x\": [\"2020-10-06T00:00:00\", \"2020-09-21T00:00:00\", \"2020-08-12T00:00:00\", \"2020-07-12T00:00:00\", \"2020-05-25T00:00:00\", \"2020-03-22T00:00:00\", \"2020-02-14T00:00:00\", \"2020-01-20T00:00:00\"], \"xaxis\": \"x\", \"y\": [55, 54, 54, 54, 53, 49, 52, 50], \"yaxis\": \"y\"}, {\"hovertemplate\": \"<b>OLS trendline</b><br>biden = 1.10219 * date + 53.3676<br>R<sup>2</sup>=0.355102<br><br>poll=ABC News/Wash Post<br>date=%{x}<br>biden=%{y} <b>(trend)</b><extra></extra>\", \"legendgroup\": \"ABC News/Wash Post\", \"marker\": {\"color\": \"#B6E880\", \"symbol\": \"circle\"}, \"mode\": \"lines\", \"name\": \"ABC News/Wash Post\", \"showlegend\": false, \"type\": \"scatter\", \"x\": [\"2020-01-20T00:00:00\", \"2020-02-14T00:00:00\", \"2020-03-22T00:00:00\", \"2020-05-25T00:00:00\", \"2020-07-12T00:00:00\", \"2020-08-12T00:00:00\", \"2020-09-21T00:00:00\", \"2020-10-06T00:00:00\"], \"xaxis\": \"x\", \"y\": [51.045056658911406, 51.945874379797004, 51.953603310607264, 53.502278792588434, 54.66378540407431, 52.75112784402863, 51.352119134373254, 53.7861544756195], \"yaxis\": \"y\"}, {\"hovertemplate\": \"poll=FOX News<br>date=%{x}<br>biden=%{y}<extra></extra>\", \"legendgroup\": \"FOX News\", \"marker\": {\"color\": \"#FF97FF\", \"symbol\": \"circle\"}, \"mode\": \"markers\", \"name\": \"FOX News\", \"orientation\": \"v\", \"showlegend\": true, \"type\": \"scatter\", \"x\": [\"2020-10-03T00:00:00\", \"2020-09-07T00:00:00\", \"2020-08-09T00:00:00\", \"2020-07-12T00:00:00\", \"2020-06-13T00:00:00\", \"2020-05-17T00:00:00\", \"2020-04-04T00:00:00\", \"2020-03-21T00:00:00\", \"2020-02-23T00:00:00\", \"2020-01-19T00:00:00\"], \"xaxis\": \"x\", \"y\": [53, 51, 49, 49, 50, 48, 42, 49, 49, 50], \"yaxis\": \"y\"}, {\"hovertemplate\": \"<b>OLS trendline</b><br>biden = -0.171198 * date + 49.0528<br>R<sup>2</sup>=0.005074<br><br>poll=FOX News<br>date=%{x}<br>biden=%{y} <b>(trend)</b><extra></extra>\", \"legendgroup\": \"FOX News\", \"marker\": {\"color\": \"#FF97FF\", \"symbol\": \"circle\"}, \"mode\": \"lines\", \"name\": \"FOX News\", \"showlegend\": false, \"type\": \"scatter\", \"x\": [\"2020-01-19T00:00:00\", \"2020-02-23T00:00:00\", \"2020-03-21T00:00:00\", \"2020-04-04T00:00:00\", \"2020-05-17T00:00:00\", \"2020-06-13T00:00:00\", \"2020-07-12T00:00:00\", \"2020-08-09T00:00:00\", \"2020-09-07T00:00:00\", \"2020-10-03T00:00:00\"], \"xaxis\": \"x\", \"y\": [49.0956518857803, 49.193879800013846, 48.954531302658715, 48.99382246835213, 48.694336721392, 49.190278296819216, 48.851501384165665, 48.9300837155525, 49.3265968756813, 48.76931754958421], \"yaxis\": \"y\"}, {\"hovertemplate\": \"poll=Monmouth<br>date=%{x}<br>biden=%{y}<extra></extra>\", \"legendgroup\": \"Monmouth\", \"marker\": {\"color\": \"#FECB52\", \"symbol\": \"circle\"}, \"mode\": \"markers\", \"name\": \"Monmouth\", \"orientation\": \"v\", \"showlegend\": true, \"type\": \"scatter\", \"x\": [\"2020-09-24T00:00:00\", \"2020-09-03T00:00:00\", \"2020-08-06T00:00:00\", \"2020-06-26T00:00:00\", \"2020-05-28T00:00:00\", \"2020-04-30T00:00:00\", \"2020-04-03T00:00:00\", \"2020-03-18T00:00:00\"], \"xaxis\": \"x\", \"y\": [50, 51, 51, 53, 52, 50, 48, 48], \"yaxis\": \"y\"}, {\"hovertemplate\": \"<b>OLS trendline</b><br>biden = 0.174252 * date + 50.2998<br>R<sup>2</sup>=0.022981<br><br>poll=Monmouth<br>date=%{x}<br>biden=%{y} <b>(trend)</b><extra></extra>\", \"legendgroup\": \"Monmouth\", \"marker\": {\"color\": \"#FECB52\", \"symbol\": \"circle\"}, \"mode\": \"lines\", \"name\": \"Monmouth\", \"showlegend\": false, \"type\": \"scatter\", \"x\": [\"2020-03-18T00:00:00\", \"2020-04-03T00:00:00\", \"2020-04-30T00:00:00\", \"2020-05-28T00:00:00\", \"2020-06-26T00:00:00\", \"2020-08-06T00:00:00\", \"2020-09-03T00:00:00\", \"2020-09-24T00:00:00\"], \"xaxis\": \"x\", \"y\": [50.622298858996814, 49.93510032104443, 50.17871914599355, 50.09873479077189, 50.44355597950946, 50.64718262684775, 50.5671982716261, 50.50721000520985], \"yaxis\": \"y\"}, {\"hovertemplate\": \"poll=Harvard-Harris<br>date=%{x}<br>biden=%{y}<extra></extra>\", \"legendgroup\": \"Harvard-Harris\", \"marker\": {\"color\": \"#636efa\", \"symbol\": \"circle\"}, \"mode\": \"markers\", \"name\": \"Harvard-Harris\", \"orientation\": \"v\", \"showlegend\": true, \"type\": \"scatter\", \"x\": [\"2020-09-22T00:00:00\", \"2020-08-31T00:00:00\", \"2020-07-21T00:00:00\", \"2020-06-17T00:00:00\", \"2020-05-13T00:00:00\", \"2020-04-14T00:00:00\", \"2020-03-24T00:00:00\", \"2020-02-26T00:00:00\"], \"xaxis\": \"x\", \"y\": [47, 53, 55, 56, 53, 53, 55, 55], \"yaxis\": \"y\"}, {\"hovertemplate\": \"<b>OLS trendline</b><br>biden = -0.356326 * date + 53.2953<br>R<sup>2</sup>=0.026966<br><br>poll=Harvard-Harris<br>date=%{x}<br>biden=%{y} <b>(trend)</b><extra></extra>\", \"legendgroup\": \"Harvard-Harris\", \"marker\": {\"color\": \"#636efa\", \"symbol\": \"circle\"}, \"mode\": \"lines\", \"name\": \"Harvard-Harris\", \"showlegend\": false, \"type\": \"scatter\", \"x\": [\"2020-02-26T00:00:00\", \"2020-03-24T00:00:00\", \"2020-04-14T00:00:00\", \"2020-05-13T00:00:00\", \"2020-06-17T00:00:00\", \"2020-07-21T00:00:00\", \"2020-08-31T00:00:00\", \"2020-09-22T00:00:00\"], \"xaxis\": \"x\", \"y\": [54.04360185928166, 53.54542998540064, 53.66809894211076, 52.962980124699364, 53.16742838588289, 52.71014616423858, 53.82416150401705, 53.078153034368945], \"yaxis\": \"y\"}, {\"hovertemplate\": \"poll=CBS News/YouGov<br>date=%{x}<br>biden=%{y}<extra></extra>\", \"legendgroup\": \"CBS News/YouGov\", \"marker\": {\"color\": \"#EF553B\", \"symbol\": \"circle\"}, \"mode\": \"markers\", \"name\": \"CBS News/YouGov\", \"orientation\": \"v\", \"showlegend\": true, \"type\": \"scatter\", \"x\": [\"2020-09-02T00:00:00\", \"2020-08-20T00:00:00\", \"2020-08-12T00:00:00\", \"2020-07-21T00:00:00\", \"2020-05-29T00:00:00\", \"2020-04-28T00:00:00\", \"2020-02-20T00:00:00\"], \"xaxis\": \"x\", \"y\": [52, 52, 52, 51, 47, 49, 47], \"yaxis\": \"y\"}, {\"hovertemplate\": \"<b>OLS trendline</b><br>biden = -0.176061 * date + 50.0605<br>R<sup>2</sup>=0.009292<br><br>poll=CBS News/YouGov<br>date=%{x}<br>biden=%{y} <b>(trend)</b><extra></extra>\", \"legendgroup\": \"CBS News/YouGov\", \"marker\": {\"color\": \"#EF553B\", \"symbol\": \"circle\"}, \"mode\": \"lines\", \"name\": \"CBS News/YouGov\", \"showlegend\": false, \"type\": \"scatter\", \"x\": [\"2020-02-20T00:00:00\", \"2020-04-28T00:00:00\", \"2020-05-29T00:00:00\", \"2020-07-21T00:00:00\", \"2020-08-12T00:00:00\", \"2020-08-20T00:00:00\", \"2020-09-02T00:00:00\"], \"xaxis\": \"x\", \"y\": [49.980790286731654, 50.285079793183634, 49.834426249520085, 49.771346060995405, 50.15891941613427, 49.749907796814156, 50.219530396620854], \"yaxis\": \"y\"}, {\"hovertemplate\": \"poll=Grinnell/Selzer<br>date=%{x}<br>biden=%{y}<extra></extra>\", \"legendgroup\": \"Grinnell/Selzer\", \"marker\": {\"color\": \"#00cc96\", \"symbol\": \"circle\"}, \"mode\": \"markers\", \"name\": \"Grinnell/Selzer\", \"orientation\": \"v\", \"showlegend\": true, \"type\": \"scatter\", \"x\": [\"2020-08-26T00:00:00\", \"2020-03-27T00:00:00\"], \"xaxis\": \"x\", \"y\": [49, 47], \"yaxis\": \"y\"}, {\"hovertemplate\": \"<b>OLS trendline</b><br>biden = 1.68122 * date + 50.3261<br>R<sup>2</sup>=1.000000<br><br>poll=Grinnell/Selzer<br>date=%{x}<br>biden=%{y} <b>(trend)</b><extra></extra>\", \"legendgroup\": \"Grinnell/Selzer\", \"marker\": {\"color\": \"#00cc96\", \"symbol\": \"circle\"}, \"mode\": \"lines\", \"name\": \"Grinnell/Selzer\", \"showlegend\": false, \"type\": \"scatter\", \"x\": [\"2020-03-27T00:00:00\", \"2020-08-26T00:00:00\"], \"xaxis\": \"x\", \"y\": [46.99999999999997, 48.99999999999997], \"yaxis\": \"y\"}, {\"hovertemplate\": \"poll=GU Politics/Battleground<br>date=%{x}<br>biden=%{y}<extra></extra>\", \"legendgroup\": \"GU Politics/Battleground\", \"marker\": {\"color\": \"#ab63fa\", \"symbol\": \"circle\"}, \"mode\": \"markers\", \"name\": \"GU Politics/Battleground\", \"orientation\": \"v\", \"showlegend\": true, \"type\": \"scatter\", \"x\": [\"2020-08-01T00:00:00\"], \"xaxis\": \"x\", \"y\": [53], \"yaxis\": \"y\"}, {\"hovertemplate\": \"poll=GU Politics/Battleground<extra></extra>\", \"legendgroup\": \"GU Politics/Battleground\", \"marker\": {\"color\": \"#ab63fa\", \"symbol\": \"circle\"}, \"mode\": \"lines\", \"name\": \"GU Politics/Battleground\", \"showlegend\": false, \"type\": \"scatter\", \"xaxis\": \"x\", \"yaxis\": \"y\"}, {\"hovertemplate\": \"poll=LA Times/USC<br>date=%{x}<br>biden=%{y}<extra></extra>\", \"legendgroup\": \"LA Times/USC\", \"marker\": {\"color\": \"#FFA15A\", \"symbol\": \"circle\"}, \"mode\": \"markers\", \"name\": \"LA Times/USC\", \"orientation\": \"v\", \"showlegend\": true, \"type\": \"scatter\", \"x\": [\"2020-01-15T00:00:00\"], \"xaxis\": \"x\", \"y\": [49], \"yaxis\": \"y\"}, {\"hovertemplate\": \"poll=LA Times/USC<extra></extra>\", \"legendgroup\": \"LA Times/USC\", \"marker\": {\"color\": \"#FFA15A\", \"symbol\": \"circle\"}, \"mode\": \"lines\", \"name\": \"LA Times/USC\", \"showlegend\": false, \"type\": \"scatter\", \"xaxis\": \"x\", \"yaxis\": \"y\"}],                        {\"legend\": {\"title\": {\"text\": \"poll\"}, \"tracegroupgap\": 0}, \"margin\": {\"t\": 60}, \"template\": {\"data\": {\"bar\": [{\"error_x\": {\"color\": \"#2a3f5f\"}, \"error_y\": {\"color\": \"#2a3f5f\"}, \"marker\": {\"line\": {\"color\": \"#E5ECF6\", \"width\": 0.5}}, \"type\": \"bar\"}], \"barpolar\": [{\"marker\": {\"line\": {\"color\": \"#E5ECF6\", \"width\": 0.5}}, \"type\": \"barpolar\"}], \"carpet\": [{\"aaxis\": {\"endlinecolor\": \"#2a3f5f\", \"gridcolor\": \"white\", \"linecolor\": \"white\", \"minorgridcolor\": \"white\", \"startlinecolor\": \"#2a3f5f\"}, \"baxis\": {\"endlinecolor\": \"#2a3f5f\", \"gridcolor\": \"white\", \"linecolor\": \"white\", \"minorgridcolor\": \"white\", \"startlinecolor\": \"#2a3f5f\"}, \"type\": \"carpet\"}], \"choropleth\": [{\"colorbar\": {\"outlinewidth\": 0, \"ticks\": \"\"}, \"type\": \"choropleth\"}], \"contour\": [{\"colorbar\": {\"outlinewidth\": 0, \"ticks\": \"\"}, \"colorscale\": [[0.0, \"#0d0887\"], [0.1111111111111111, \"#46039f\"], [0.2222222222222222, \"#7201a8\"], [0.3333333333333333, \"#9c179e\"], [0.4444444444444444, \"#bd3786\"], [0.5555555555555556, \"#d8576b\"], [0.6666666666666666, \"#ed7953\"], [0.7777777777777778, \"#fb9f3a\"], [0.8888888888888888, \"#fdca26\"], [1.0, \"#f0f921\"]], \"type\": \"contour\"}], \"contourcarpet\": [{\"colorbar\": {\"outlinewidth\": 0, \"ticks\": \"\"}, \"type\": \"contourcarpet\"}], \"heatmap\": [{\"colorbar\": {\"outlinewidth\": 0, \"ticks\": \"\"}, \"colorscale\": [[0.0, \"#0d0887\"], [0.1111111111111111, \"#46039f\"], [0.2222222222222222, \"#7201a8\"], [0.3333333333333333, \"#9c179e\"], [0.4444444444444444, \"#bd3786\"], [0.5555555555555556, \"#d8576b\"], [0.6666666666666666, \"#ed7953\"], [0.7777777777777778, \"#fb9f3a\"], [0.8888888888888888, \"#fdca26\"], [1.0, \"#f0f921\"]], \"type\": \"heatmap\"}], \"heatmapgl\": [{\"colorbar\": {\"outlinewidth\": 0, \"ticks\": \"\"}, \"colorscale\": [[0.0, \"#0d0887\"], [0.1111111111111111, \"#46039f\"], [0.2222222222222222, \"#7201a8\"], [0.3333333333333333, \"#9c179e\"], [0.4444444444444444, \"#bd3786\"], [0.5555555555555556, \"#d8576b\"], [0.6666666666666666, \"#ed7953\"], [0.7777777777777778, \"#fb9f3a\"], [0.8888888888888888, \"#fdca26\"], [1.0, \"#f0f921\"]], \"type\": \"heatmapgl\"}], \"histogram\": [{\"marker\": {\"colorbar\": {\"outlinewidth\": 0, \"ticks\": \"\"}}, \"type\": \"histogram\"}], \"histogram2d\": [{\"colorbar\": {\"outlinewidth\": 0, \"ticks\": \"\"}, \"colorscale\": [[0.0, \"#0d0887\"], [0.1111111111111111, \"#46039f\"], [0.2222222222222222, \"#7201a8\"], [0.3333333333333333, \"#9c179e\"], [0.4444444444444444, \"#bd3786\"], [0.5555555555555556, \"#d8576b\"], [0.6666666666666666, \"#ed7953\"], [0.7777777777777778, \"#fb9f3a\"], [0.8888888888888888, \"#fdca26\"], [1.0, \"#f0f921\"]], \"type\": \"histogram2d\"}], \"histogram2dcontour\": [{\"colorbar\": {\"outlinewidth\": 0, \"ticks\": \"\"}, \"colorscale\": [[0.0, \"#0d0887\"], [0.1111111111111111, \"#46039f\"], [0.2222222222222222, \"#7201a8\"], [0.3333333333333333, \"#9c179e\"], [0.4444444444444444, \"#bd3786\"], [0.5555555555555556, \"#d8576b\"], [0.6666666666666666, \"#ed7953\"], [0.7777777777777778, \"#fb9f3a\"], [0.8888888888888888, \"#fdca26\"], [1.0, \"#f0f921\"]], \"type\": \"histogram2dcontour\"}], \"mesh3d\": [{\"colorbar\": {\"outlinewidth\": 0, \"ticks\": \"\"}, \"type\": \"mesh3d\"}], \"parcoords\": [{\"line\": {\"colorbar\": {\"outlinewidth\": 0, \"ticks\": \"\"}}, \"type\": \"parcoords\"}], \"pie\": [{\"automargin\": true, \"type\": \"pie\"}], \"scatter\": [{\"marker\": {\"colorbar\": {\"outlinewidth\": 0, \"ticks\": \"\"}}, \"type\": \"scatter\"}], \"scatter3d\": [{\"line\": {\"colorbar\": {\"outlinewidth\": 0, \"ticks\": \"\"}}, \"marker\": {\"colorbar\": {\"outlinewidth\": 0, \"ticks\": \"\"}}, \"type\": \"scatter3d\"}], \"scattercarpet\": [{\"marker\": {\"colorbar\": {\"outlinewidth\": 0, \"ticks\": \"\"}}, \"type\": \"scattercarpet\"}], \"scattergeo\": [{\"marker\": {\"colorbar\": {\"outlinewidth\": 0, \"ticks\": \"\"}}, \"type\": \"scattergeo\"}], \"scattergl\": [{\"marker\": {\"colorbar\": {\"outlinewidth\": 0, \"ticks\": \"\"}}, \"type\": \"scattergl\"}], \"scattermapbox\": [{\"marker\": {\"colorbar\": {\"outlinewidth\": 0, \"ticks\": \"\"}}, \"type\": \"scattermapbox\"}], \"scatterpolar\": [{\"marker\": {\"colorbar\": {\"outlinewidth\": 0, \"ticks\": \"\"}}, \"type\": \"scatterpolar\"}], \"scatterpolargl\": [{\"marker\": {\"colorbar\": {\"outlinewidth\": 0, \"ticks\": \"\"}}, \"type\": \"scatterpolargl\"}], \"scatterternary\": [{\"marker\": {\"colorbar\": {\"outlinewidth\": 0, \"ticks\": \"\"}}, \"type\": \"scatterternary\"}], \"surface\": [{\"colorbar\": {\"outlinewidth\": 0, \"ticks\": \"\"}, \"colorscale\": [[0.0, \"#0d0887\"], [0.1111111111111111, \"#46039f\"], [0.2222222222222222, \"#7201a8\"], [0.3333333333333333, \"#9c179e\"], [0.4444444444444444, \"#bd3786\"], [0.5555555555555556, \"#d8576b\"], [0.6666666666666666, \"#ed7953\"], [0.7777777777777778, \"#fb9f3a\"], [0.8888888888888888, \"#fdca26\"], [1.0, \"#f0f921\"]], \"type\": \"surface\"}], \"table\": [{\"cells\": {\"fill\": {\"color\": \"#EBF0F8\"}, \"line\": {\"color\": \"white\"}}, \"header\": {\"fill\": {\"color\": \"#C8D4E3\"}, \"line\": {\"color\": \"white\"}}, \"type\": \"table\"}]}, \"layout\": {\"annotationdefaults\": {\"arrowcolor\": \"#2a3f5f\", \"arrowhead\": 0, \"arrowwidth\": 1}, \"coloraxis\": {\"colorbar\": {\"outlinewidth\": 0, \"ticks\": \"\"}}, \"colorscale\": {\"diverging\": [[0, \"#8e0152\"], [0.1, \"#c51b7d\"], [0.2, \"#de77ae\"], [0.3, \"#f1b6da\"], [0.4, \"#fde0ef\"], [0.5, \"#f7f7f7\"], [0.6, \"#e6f5d0\"], [0.7, \"#b8e186\"], [0.8, \"#7fbc41\"], [0.9, \"#4d9221\"], [1, \"#276419\"]], \"sequential\": [[0.0, \"#0d0887\"], [0.1111111111111111, \"#46039f\"], [0.2222222222222222, \"#7201a8\"], [0.3333333333333333, \"#9c179e\"], [0.4444444444444444, \"#bd3786\"], [0.5555555555555556, \"#d8576b\"], [0.6666666666666666, \"#ed7953\"], [0.7777777777777778, \"#fb9f3a\"], [0.8888888888888888, \"#fdca26\"], [1.0, \"#f0f921\"]], \"sequentialminus\": [[0.0, \"#0d0887\"], [0.1111111111111111, \"#46039f\"], [0.2222222222222222, \"#7201a8\"], [0.3333333333333333, \"#9c179e\"], [0.4444444444444444, \"#bd3786\"], [0.5555555555555556, \"#d8576b\"], [0.6666666666666666, \"#ed7953\"], [0.7777777777777778, \"#fb9f3a\"], [0.8888888888888888, \"#fdca26\"], [1.0, \"#f0f921\"]]}, \"colorway\": [\"#636efa\", \"#EF553B\", \"#00cc96\", \"#ab63fa\", \"#FFA15A\", \"#19d3f3\", \"#FF6692\", \"#B6E880\", \"#FF97FF\", \"#FECB52\"], \"font\": {\"color\": \"#2a3f5f\"}, \"geo\": {\"bgcolor\": \"white\", \"lakecolor\": \"white\", \"landcolor\": \"#E5ECF6\", \"showlakes\": true, \"showland\": true, \"subunitcolor\": \"white\"}, \"hoverlabel\": {\"align\": \"left\"}, \"hovermode\": \"closest\", \"mapbox\": {\"style\": \"light\"}, \"paper_bgcolor\": \"white\", \"plot_bgcolor\": \"#E5ECF6\", \"polar\": {\"angularaxis\": {\"gridcolor\": \"white\", \"linecolor\": \"white\", \"ticks\": \"\"}, \"bgcolor\": \"#E5ECF6\", \"radialaxis\": {\"gridcolor\": \"white\", \"linecolor\": \"white\", \"ticks\": \"\"}}, \"scene\": {\"xaxis\": {\"backgroundcolor\": \"#E5ECF6\", \"gridcolor\": \"white\", \"gridwidth\": 2, \"linecolor\": \"white\", \"showbackground\": true, \"ticks\": \"\", \"zerolinecolor\": \"white\"}, \"yaxis\": {\"backgroundcolor\": \"#E5ECF6\", \"gridcolor\": \"white\", \"gridwidth\": 2, \"linecolor\": \"white\", \"showbackground\": true, \"ticks\": \"\", \"zerolinecolor\": \"white\"}, \"zaxis\": {\"backgroundcolor\": \"#E5ECF6\", \"gridcolor\": \"white\", \"gridwidth\": 2, \"linecolor\": \"white\", \"showbackground\": true, \"ticks\": \"\", \"zerolinecolor\": \"white\"}}, \"shapedefaults\": {\"line\": {\"color\": \"#2a3f5f\"}}, \"ternary\": {\"aaxis\": {\"gridcolor\": \"white\", \"linecolor\": \"white\", \"ticks\": \"\"}, \"baxis\": {\"gridcolor\": \"white\", \"linecolor\": \"white\", \"ticks\": \"\"}, \"bgcolor\": \"#E5ECF6\", \"caxis\": {\"gridcolor\": \"white\", \"linecolor\": \"white\", \"ticks\": \"\"}}, \"title\": {\"x\": 0.05}, \"xaxis\": {\"automargin\": true, \"gridcolor\": \"white\", \"linecolor\": \"white\", \"ticks\": \"\", \"title\": {\"standoff\": 15}, \"zerolinecolor\": \"white\", \"zerolinewidth\": 2}, \"yaxis\": {\"automargin\": true, \"gridcolor\": \"white\", \"linecolor\": \"white\", \"ticks\": \"\", \"title\": {\"standoff\": 15}, \"zerolinecolor\": \"white\", \"zerolinewidth\": 2}}}, \"xaxis\": {\"anchor\": \"y\", \"domain\": [0.0, 1.0], \"rangeslider\": {\"visible\": true}, \"title\": {\"text\": \"date\"}}, \"yaxis\": {\"anchor\": \"x\", \"domain\": [0.0, 1.0], \"title\": {\"text\": \"biden\"}}},                        {\"responsive\": true}                    ).then(function(){\n",
       "                            \n",
       "var gd = document.getElementById('4351b38d-9006-45cf-bac1-704ff07be749');\n",
       "var x = new MutationObserver(function (mutations, observer) {{\n",
       "        var display = window.getComputedStyle(gd).display;\n",
       "        if (!display || display === 'none') {{\n",
       "            console.log([gd, 'removed!']);\n",
       "            Plotly.purge(gd);\n",
       "            observer.disconnect();\n",
       "        }}\n",
       "}});\n",
       "\n",
       "// Listen for the removal of the full notebook cells\n",
       "var notebookContainer = gd.closest('#notebook-container');\n",
       "if (notebookContainer) {{\n",
       "    x.observe(notebookContainer, {childList: true});\n",
       "}}\n",
       "\n",
       "// Listen for the clearing of the current output cell\n",
       "var outputEl = gd.closest('.output');\n",
       "if (outputEl) {{\n",
       "    x.observe(outputEl, {childList: true});\n",
       "}}\n",
       "\n",
       "                        })                };                });            </script>        </div>"
      ]
     },
     "metadata": {},
     "output_type": "display_data"
    }
   ],
   "source": [
    "# trendline using OLS\n",
    "\n",
    "trendline_df = px.scatter(polls_2020, x='date', y='biden', color='poll', trendline='ols')\n",
    "trendline_df.update_xaxes(rangeslider_visible=True)\n",
    "trendline_df.show()"
   ]
  },
  {
   "cell_type": "code",
   "execution_count": 23,
   "metadata": {},
   "outputs": [
    {
     "data": {
      "application/vnd.plotly.v1+json": {
       "config": {
        "plotlyServerURL": "https://plot.ly"
       },
       "data": [
        {
         "hovertemplate": "poll=The Hill/HarrisX<br>date=%{x}<br>biden=%{y}<extra></extra>",
         "legendgroup": "The Hill/HarrisX",
         "line": {
          "color": "#636efa",
          "dash": "solid"
         },
         "mode": "lines",
         "name": "The Hill/HarrisX",
         "orientation": "v",
         "showlegend": true,
         "type": "scatter",
         "x": [
          "2020-10-25T00:00:00",
          "2020-10-13T00:00:00",
          "2020-10-10T00:00:00",
          "2020-10-03T00:00:00",
          "2020-09-30T00:00:00",
          "2020-09-22T00:00:00",
          "2020-09-19T00:00:00",
          "2020-09-10T00:00:00",
          "2020-09-05T00:00:00",
          "2020-08-29T00:00:00",
          "2020-08-25T00:00:00",
          "2020-08-22T00:00:00",
          "2020-08-15T00:00:00",
          "2020-08-11T00:00:00",
          "2020-08-08T00:00:00",
          "2020-08-02T00:00:00",
          "2020-07-17T00:00:00",
          "2020-07-03T00:00:00",
          "2020-06-22T00:00:00",
          "2020-06-01T00:00:00",
          "2020-05-13T00:00:00",
          "2020-04-19T00:00:00"
         ],
         "xaxis": "x",
         "y": [
          49,
          46,
          47,
          45,
          47,
          45,
          45,
          45,
          47,
          46,
          47,
          47,
          46,
          45,
          44,
          43,
          45,
          43,
          43,
          47,
          42,
          42
         ],
         "yaxis": "y"
        },
        {
         "hovertemplate": "poll=IBD/TIPP<br>date=%{x}<br>biden=%{y}<extra></extra>",
         "legendgroup": "IBD/TIPP",
         "line": {
          "color": "#EF553B",
          "dash": "solid"
         },
         "mode": "lines",
         "name": "IBD/TIPP",
         "orientation": "v",
         "showlegend": true,
         "type": "scatter",
         "x": [
          "2020-10-25T00:00:00",
          "2020-09-30T00:00:00",
          "2020-09-16T00:00:00",
          "2020-08-29T00:00:00",
          "2020-07-25T00:00:00",
          "2020-06-27T00:00:00",
          "2020-05-31T00:00:00",
          "2020-04-26T00:00:00",
          "2020-03-29T00:00:00",
          "2020-02-20T00:00:00",
          "2020-01-23T00:00:00",
          "2020-01-03T00:00:00"
         ],
         "xaxis": "x",
         "y": [
          51,
          49,
          50,
          49,
          48,
          48,
          45,
          43,
          47,
          49,
          49,
          48
         ],
         "yaxis": "y"
        },
        {
         "hovertemplate": "poll=Rasmussen Reports<br>date=%{x}<br>biden=%{y}<extra></extra>",
         "legendgroup": "Rasmussen Reports",
         "line": {
          "color": "#00cc96",
          "dash": "solid"
         },
         "mode": "lines",
         "name": "Rasmussen Reports",
         "orientation": "v",
         "showlegend": true,
         "type": "scatter",
         "x": [
          "2020-10-27T00:00:00",
          "2020-10-14T00:00:00",
          "2020-10-07T00:00:00",
          "2020-09-30T00:00:00",
          "2020-09-23T00:00:00",
          "2020-09-16T00:00:00",
          "2020-09-09T00:00:00",
          "2020-09-02T00:00:00",
          "2020-08-26T00:00:00",
          "2020-08-19T00:00:00",
          "2020-08-12T00:00:00",
          "2020-08-05T00:00:00",
          "2020-07-29T00:00:00",
          "2020-07-22T00:00:00",
          "2020-07-15T00:00:00",
          "2020-07-08T00:00:00",
          "2020-07-05T00:00:00",
          "2020-05-18T00:00:00"
         ],
         "xaxis": "x",
         "y": [
          49,
          49,
          50,
          52,
          51,
          48,
          46,
          48,
          49,
          46,
          48,
          49,
          48,
          48,
          47,
          47,
          50,
          48
         ],
         "yaxis": "y"
        },
        {
         "hovertemplate": "poll=Economist/YouGov<br>date=%{x}<br>biden=%{y}<extra></extra>",
         "legendgroup": "Economist/YouGov",
         "line": {
          "color": "#ab63fa",
          "dash": "solid"
         },
         "mode": "lines",
         "name": "Economist/YouGov",
         "orientation": "v",
         "showlegend": true,
         "type": "scatter",
         "x": [
          "2020-10-25T00:00:00",
          "2020-10-18T00:00:00",
          "2020-10-11T00:00:00",
          "2020-10-04T00:00:00",
          "2020-09-27T00:00:00",
          "2020-09-20T00:00:00",
          "2020-09-13T00:00:00",
          "2020-09-06T00:00:00",
          "2020-08-30T00:00:00",
          "2020-08-23T00:00:00",
          "2020-08-16T00:00:00",
          "2020-08-09T00:00:00",
          "2020-08-02T00:00:00",
          "2020-07-26T00:00:00",
          "2020-07-19T00:00:00",
          "2020-07-12T00:00:00",
          "2020-07-05T00:00:00",
          "2020-06-28T00:00:00",
          "2020-06-21T00:00:00",
          "2020-06-14T00:00:00",
          "2020-06-07T00:00:00",
          "2020-05-31T00:00:00",
          "2020-05-23T00:00:00",
          "2020-05-17T00:00:00",
          "2020-05-10T00:00:00",
          "2020-05-03T00:00:00",
          "2020-04-26T00:00:00",
          "2020-04-19T00:00:00",
          "2020-04-12T00:00:00",
          "2020-04-05T00:00:00",
          "2020-03-29T00:00:00",
          "2020-03-22T00:00:00",
          "2020-03-15T00:00:00",
          "2020-03-08T00:00:00"
         ],
         "xaxis": "x",
         "y": [
          54,
          52,
          52,
          51,
          50,
          49,
          51,
          52,
          51,
          50,
          50,
          49,
          49,
          49,
          48,
          49,
          49,
          49,
          49,
          50,
          49,
          47,
          45,
          47,
          47,
          46,
          47,
          48,
          48,
          48,
          46,
          46,
          48,
          47
         ],
         "yaxis": "y"
        },
        {
         "hovertemplate": "poll=Emerson<br>date=%{x}<br>biden=%{y}<extra></extra>",
         "legendgroup": "Emerson",
         "line": {
          "color": "#FFA15A",
          "dash": "solid"
         },
         "mode": "lines",
         "name": "Emerson",
         "orientation": "v",
         "showlegend": true,
         "type": "scatter",
         "x": [
          "2020-10-25T00:00:00",
          "2020-09-22T00:00:00",
          "2020-08-30T00:00:00",
          "2020-07-29T00:00:00",
          "2020-06-02T00:00:00",
          "2020-04-26T00:00:00",
          "2020-03-18T00:00:00",
          "2020-02-16T00:00:00",
          "2020-01-21T00:00:00"
         ],
         "xaxis": "x",
         "y": [
          50,
          48,
          49,
          50,
          53,
          48,
          53,
          48,
          50
         ],
         "yaxis": "y"
        },
        {
         "hovertemplate": "poll=USA Today/Suffolk<br>date=%{x}<br>biden=%{y}<extra></extra>",
         "legendgroup": "USA Today/Suffolk",
         "line": {
          "color": "#19d3f3",
          "dash": "solid"
         },
         "mode": "lines",
         "name": "USA Today/Suffolk",
         "orientation": "v",
         "showlegend": true,
         "type": "scatter",
         "x": [
          "2020-10-23T00:00:00",
          "2020-08-28T00:00:00",
          "2020-06-25T00:00:00",
          "2020-04-21T00:00:00"
         ],
         "xaxis": "x",
         "y": [
          52,
          50,
          53,
          50
         ],
         "yaxis": "y"
        },
        {
         "hovertemplate": "poll=Reuters/Ipsos<br>date=%{x}<br>biden=%{y}<extra></extra>",
         "legendgroup": "Reuters/Ipsos",
         "line": {
          "color": "#FF6692",
          "dash": "solid"
         },
         "mode": "lines",
         "name": "Reuters/Ipsos",
         "orientation": "v",
         "showlegend": true,
         "type": "scatter",
         "x": [
          "2020-10-23T00:00:00",
          "2020-10-16T00:00:00",
          "2020-10-09T00:00:00",
          "2020-10-02T00:00:00",
          "2020-09-25T00:00:00",
          "2020-09-18T00:00:00",
          "2020-09-11T00:00:00",
          "2020-09-03T00:00:00",
          "2020-08-28T00:00:00"
         ],
         "xaxis": "x",
         "y": [
          52,
          51,
          51,
          52,
          51,
          50,
          50,
          52,
          47
         ],
         "yaxis": "y"
        },
        {
         "hovertemplate": "poll=CNN<br>date=%{x}<br>biden=%{y}<extra></extra>",
         "legendgroup": "CNN",
         "line": {
          "color": "#B6E880",
          "dash": "solid"
         },
         "mode": "lines",
         "name": "CNN",
         "orientation": "v",
         "showlegend": true,
         "type": "scatter",
         "x": [
          "2020-10-23T00:00:00",
          "2020-10-01T00:00:00",
          "2020-08-28T00:00:00",
          "2020-08-12T00:00:00",
          "2020-06-02T00:00:00",
          "2020-05-07T00:00:00",
          "2020-04-03T00:00:00",
          "2020-03-04T00:00:00",
          "2020-01-16T00:00:00"
         ],
         "xaxis": "x",
         "y": [
          54,
          57,
          51,
          50,
          55,
          51,
          53,
          53,
          53
         ],
         "yaxis": "y"
        },
        {
         "hovertemplate": "poll=JTN/RMG Research<br>date=%{x}<br>biden=%{y}<extra></extra>",
         "legendgroup": "JTN/RMG Research",
         "line": {
          "color": "#FF97FF",
          "dash": "solid"
         },
         "mode": "lines",
         "name": "JTN/RMG Research",
         "orientation": "v",
         "showlegend": true,
         "type": "scatter",
         "x": [
          "2020-10-23T00:00:00",
          "2020-10-15T00:00:00",
          "2020-10-08T00:00:00",
          "2020-10-01T00:00:00",
          "2020-09-24T00:00:00",
          "2020-09-17T00:00:00",
          "2020-09-10T00:00:00"
         ],
         "xaxis": "x",
         "y": [
          51,
          51,
          51,
          51,
          51,
          50,
          48
         ],
         "yaxis": "y"
        },
        {
         "hovertemplate": "poll=CNBC<br>date=%{x}<br>biden=%{y}<extra></extra>",
         "legendgroup": "CNBC",
         "line": {
          "color": "#FECB52",
          "dash": "solid"
         },
         "mode": "lines",
         "name": "CNBC",
         "orientation": "v",
         "showlegend": true,
         "type": "scatter",
         "x": [
          "2020-10-21T00:00:00",
          "2020-06-19T00:00:00",
          "2020-05-29T00:00:00",
          "2020-05-15T00:00:00",
          "2020-05-01T00:00:00",
          "2020-04-03T00:00:00"
         ],
         "xaxis": "x",
         "y": [
          51,
          47,
          48,
          48,
          47,
          44
         ],
         "yaxis": "y"
        },
        {
         "hovertemplate": "poll=USC Dornsife<br>date=%{x}<br>biden=%{y}<extra></extra>",
         "legendgroup": "USC Dornsife",
         "line": {
          "color": "#636efa",
          "dash": "solid"
         },
         "mode": "lines",
         "name": "USC Dornsife",
         "orientation": "v",
         "showlegend": true,
         "type": "scatter",
         "x": [
          "2020-10-16T00:00:00",
          "2020-09-07T00:00:00",
          "2020-08-31T00:00:00"
         ],
         "xaxis": "x",
         "y": [
          54,
          52,
          52
         ],
         "yaxis": "y"
        },
        {
         "hovertemplate": "poll=Quinnipiac<br>date=%{x}<br>biden=%{y}<extra></extra>",
         "legendgroup": "Quinnipiac",
         "line": {
          "color": "#EF553B",
          "dash": "solid"
         },
         "mode": "lines",
         "name": "Quinnipiac",
         "orientation": "v",
         "showlegend": true,
         "type": "scatter",
         "x": [
          "2020-10-16T00:00:00",
          "2020-09-17T00:00:00",
          "2020-08-28T00:00:00",
          "2020-07-09T00:00:00",
          "2020-06-11T00:00:00",
          "2020-05-14T00:00:00",
          "2020-04-02T00:00:00",
          "2020-03-05T00:00:00",
          "2020-02-05T00:00:00"
         ],
         "xaxis": "x",
         "y": [
          51,
          52,
          52,
          52,
          49,
          50,
          49,
          52,
          50
         ],
         "yaxis": "y"
        },
        {
         "hovertemplate": "poll=CNBC/Change Research (D)<br>date=%{x}<br>biden=%{y}<extra></extra>",
         "legendgroup": "CNBC/Change Research (D)",
         "line": {
          "color": "#00cc96",
          "dash": "solid"
         },
         "mode": "lines",
         "name": "CNBC/Change Research (D)",
         "orientation": "v",
         "showlegend": true,
         "type": "scatter",
         "x": [
          "2020-10-17T00:00:00",
          "2020-10-02T00:00:00",
          "2020-09-29T00:00:00",
          "2020-09-18T00:00:00",
          "2020-09-04T00:00:00",
          "2020-08-21T00:00:00",
          "2020-08-07T00:00:00",
          "2020-07-24T00:00:00",
          "2020-07-10T00:00:00",
          "2020-06-26T00:00:00",
          "2020-06-10T00:00:00"
         ],
         "xaxis": "x",
         "y": [
          52,
          52,
          54,
          51,
          49,
          51,
          50,
          51,
          51,
          49,
          51
         ],
         "yaxis": "y"
        },
        {
         "hovertemplate": "poll=SurveyUSA<br>date=%{x}<br>biden=%{y}<extra></extra>",
         "legendgroup": "SurveyUSA",
         "line": {
          "color": "#ab63fa",
          "dash": "solid"
         },
         "mode": "lines",
         "name": "SurveyUSA",
         "orientation": "v",
         "showlegend": true,
         "type": "scatter",
         "x": [
          "2020-10-16T00:00:00",
          "2020-10-01T00:00:00"
         ],
         "xaxis": "x",
         "y": [
          53,
          53
         ],
         "yaxis": "y"
        },
        {
         "hovertemplate": "poll=NY Times/Siena<br>date=%{x}<br>biden=%{y}<extra></extra>",
         "legendgroup": "NY Times/Siena",
         "line": {
          "color": "#FFA15A",
          "dash": "solid"
         },
         "mode": "lines",
         "name": "NY Times/Siena",
         "orientation": "v",
         "showlegend": true,
         "type": "scatter",
         "x": [
          "2020-10-15T00:00:00",
          "2020-09-22T00:00:00",
          "2020-06-17T00:00:00"
         ],
         "xaxis": "x",
         "y": [
          50,
          49,
          50
         ],
         "yaxis": "y"
        },
        {
         "hovertemplate": "poll=NBC News/Wall St. Jrnl<br>date=%{x}<br>biden=%{y}<extra></extra>",
         "legendgroup": "NBC News/Wall St. Jrnl",
         "line": {
          "color": "#19d3f3",
          "dash": "solid"
         },
         "mode": "lines",
         "name": "NBC News/Wall St. Jrnl",
         "orientation": "v",
         "showlegend": true,
         "type": "scatter",
         "x": [
          "2020-10-09T00:00:00",
          "2020-09-30T00:00:00",
          "2020-09-13T00:00:00",
          "2020-08-09T00:00:00",
          "2020-07-09T00:00:00",
          "2020-05-28T00:00:00",
          "2020-04-13T00:00:00",
          "2020-03-11T00:00:00",
          "2020-02-14T00:00:00",
          "2020-01-26T00:00:00"
         ],
         "xaxis": "x",
         "y": [
          53,
          53,
          51,
          50,
          51,
          49,
          49,
          52,
          52,
          50
         ],
         "yaxis": "y"
        },
        {
         "hovertemplate": "poll=NPR/PBS/Marist<br>date=%{x}<br>biden=%{y}<extra></extra>",
         "legendgroup": "NPR/PBS/Marist",
         "line": {
          "color": "#FF6692",
          "dash": "solid"
         },
         "mode": "lines",
         "name": "NPR/PBS/Marist",
         "orientation": "v",
         "showlegend": true,
         "type": "scatter",
         "x": [
          "2020-10-08T00:00:00",
          "2020-09-11T00:00:00",
          "2020-08-03T00:00:00",
          "2020-06-22T00:00:00",
          "2020-06-02T00:00:00",
          "2020-02-13T00:00:00"
         ],
         "xaxis": "x",
         "y": [
          54,
          52,
          53,
          52,
          50,
          50
         ],
         "yaxis": "y"
        },
        {
         "hovertemplate": "poll=ABC News/Wash Post<br>date=%{x}<br>biden=%{y}<extra></extra>",
         "legendgroup": "ABC News/Wash Post",
         "line": {
          "color": "#B6E880",
          "dash": "solid"
         },
         "mode": "lines",
         "name": "ABC News/Wash Post",
         "orientation": "v",
         "showlegend": true,
         "type": "scatter",
         "x": [
          "2020-10-06T00:00:00",
          "2020-09-21T00:00:00",
          "2020-08-12T00:00:00",
          "2020-07-12T00:00:00",
          "2020-05-25T00:00:00",
          "2020-03-22T00:00:00",
          "2020-02-14T00:00:00",
          "2020-01-20T00:00:00"
         ],
         "xaxis": "x",
         "y": [
          55,
          54,
          54,
          54,
          53,
          49,
          52,
          50
         ],
         "yaxis": "y"
        },
        {
         "hovertemplate": "poll=FOX News<br>date=%{x}<br>biden=%{y}<extra></extra>",
         "legendgroup": "FOX News",
         "line": {
          "color": "#FF97FF",
          "dash": "solid"
         },
         "mode": "lines",
         "name": "FOX News",
         "orientation": "v",
         "showlegend": true,
         "type": "scatter",
         "x": [
          "2020-10-03T00:00:00",
          "2020-09-07T00:00:00",
          "2020-08-09T00:00:00",
          "2020-07-12T00:00:00",
          "2020-06-13T00:00:00",
          "2020-05-17T00:00:00",
          "2020-04-04T00:00:00",
          "2020-03-21T00:00:00",
          "2020-02-23T00:00:00",
          "2020-01-19T00:00:00"
         ],
         "xaxis": "x",
         "y": [
          53,
          51,
          49,
          49,
          50,
          48,
          42,
          49,
          49,
          50
         ],
         "yaxis": "y"
        },
        {
         "hovertemplate": "poll=Monmouth<br>date=%{x}<br>biden=%{y}<extra></extra>",
         "legendgroup": "Monmouth",
         "line": {
          "color": "#FECB52",
          "dash": "solid"
         },
         "mode": "lines",
         "name": "Monmouth",
         "orientation": "v",
         "showlegend": true,
         "type": "scatter",
         "x": [
          "2020-09-24T00:00:00",
          "2020-09-03T00:00:00",
          "2020-08-06T00:00:00",
          "2020-06-26T00:00:00",
          "2020-05-28T00:00:00",
          "2020-04-30T00:00:00",
          "2020-04-03T00:00:00",
          "2020-03-18T00:00:00"
         ],
         "xaxis": "x",
         "y": [
          50,
          51,
          51,
          53,
          52,
          50,
          48,
          48
         ],
         "yaxis": "y"
        },
        {
         "hovertemplate": "poll=Harvard-Harris<br>date=%{x}<br>biden=%{y}<extra></extra>",
         "legendgroup": "Harvard-Harris",
         "line": {
          "color": "#636efa",
          "dash": "solid"
         },
         "mode": "lines",
         "name": "Harvard-Harris",
         "orientation": "v",
         "showlegend": true,
         "type": "scatter",
         "x": [
          "2020-09-22T00:00:00",
          "2020-08-31T00:00:00",
          "2020-07-21T00:00:00",
          "2020-06-17T00:00:00",
          "2020-05-13T00:00:00",
          "2020-04-14T00:00:00",
          "2020-03-24T00:00:00",
          "2020-02-26T00:00:00"
         ],
         "xaxis": "x",
         "y": [
          47,
          53,
          55,
          56,
          53,
          53,
          55,
          55
         ],
         "yaxis": "y"
        },
        {
         "hovertemplate": "poll=CBS News/YouGov<br>date=%{x}<br>biden=%{y}<extra></extra>",
         "legendgroup": "CBS News/YouGov",
         "line": {
          "color": "#EF553B",
          "dash": "solid"
         },
         "mode": "lines",
         "name": "CBS News/YouGov",
         "orientation": "v",
         "showlegend": true,
         "type": "scatter",
         "x": [
          "2020-09-02T00:00:00",
          "2020-08-20T00:00:00",
          "2020-08-12T00:00:00",
          "2020-07-21T00:00:00",
          "2020-05-29T00:00:00",
          "2020-04-28T00:00:00",
          "2020-02-20T00:00:00"
         ],
         "xaxis": "x",
         "y": [
          52,
          52,
          52,
          51,
          47,
          49,
          47
         ],
         "yaxis": "y"
        },
        {
         "hovertemplate": "poll=Grinnell/Selzer<br>date=%{x}<br>biden=%{y}<extra></extra>",
         "legendgroup": "Grinnell/Selzer",
         "line": {
          "color": "#00cc96",
          "dash": "solid"
         },
         "mode": "lines",
         "name": "Grinnell/Selzer",
         "orientation": "v",
         "showlegend": true,
         "type": "scatter",
         "x": [
          "2020-08-26T00:00:00",
          "2020-03-27T00:00:00"
         ],
         "xaxis": "x",
         "y": [
          49,
          47
         ],
         "yaxis": "y"
        },
        {
         "hovertemplate": "poll=GU Politics/Battleground<br>date=%{x}<br>biden=%{y}<extra></extra>",
         "legendgroup": "GU Politics/Battleground",
         "line": {
          "color": "#ab63fa",
          "dash": "solid"
         },
         "mode": "lines",
         "name": "GU Politics/Battleground",
         "orientation": "v",
         "showlegend": true,
         "type": "scatter",
         "x": [
          "2020-08-01T00:00:00"
         ],
         "xaxis": "x",
         "y": [
          53
         ],
         "yaxis": "y"
        },
        {
         "hovertemplate": "poll=LA Times/USC<br>date=%{x}<br>biden=%{y}<extra></extra>",
         "legendgroup": "LA Times/USC",
         "line": {
          "color": "#FFA15A",
          "dash": "solid"
         },
         "mode": "lines",
         "name": "LA Times/USC",
         "orientation": "v",
         "showlegend": true,
         "type": "scatter",
         "x": [
          "2020-01-15T00:00:00"
         ],
         "xaxis": "x",
         "y": [
          49
         ],
         "yaxis": "y"
        }
       ],
       "layout": {
        "legend": {
         "title": {
          "text": "poll"
         },
         "tracegroupgap": 0
        },
        "margin": {
         "t": 60
        },
        "template": {
         "data": {
          "bar": [
           {
            "error_x": {
             "color": "#2a3f5f"
            },
            "error_y": {
             "color": "#2a3f5f"
            },
            "marker": {
             "line": {
              "color": "#E5ECF6",
              "width": 0.5
             }
            },
            "type": "bar"
           }
          ],
          "barpolar": [
           {
            "marker": {
             "line": {
              "color": "#E5ECF6",
              "width": 0.5
             }
            },
            "type": "barpolar"
           }
          ],
          "carpet": [
           {
            "aaxis": {
             "endlinecolor": "#2a3f5f",
             "gridcolor": "white",
             "linecolor": "white",
             "minorgridcolor": "white",
             "startlinecolor": "#2a3f5f"
            },
            "baxis": {
             "endlinecolor": "#2a3f5f",
             "gridcolor": "white",
             "linecolor": "white",
             "minorgridcolor": "white",
             "startlinecolor": "#2a3f5f"
            },
            "type": "carpet"
           }
          ],
          "choropleth": [
           {
            "colorbar": {
             "outlinewidth": 0,
             "ticks": ""
            },
            "type": "choropleth"
           }
          ],
          "contour": [
           {
            "colorbar": {
             "outlinewidth": 0,
             "ticks": ""
            },
            "colorscale": [
             [
              0,
              "#0d0887"
             ],
             [
              0.1111111111111111,
              "#46039f"
             ],
             [
              0.2222222222222222,
              "#7201a8"
             ],
             [
              0.3333333333333333,
              "#9c179e"
             ],
             [
              0.4444444444444444,
              "#bd3786"
             ],
             [
              0.5555555555555556,
              "#d8576b"
             ],
             [
              0.6666666666666666,
              "#ed7953"
             ],
             [
              0.7777777777777778,
              "#fb9f3a"
             ],
             [
              0.8888888888888888,
              "#fdca26"
             ],
             [
              1,
              "#f0f921"
             ]
            ],
            "type": "contour"
           }
          ],
          "contourcarpet": [
           {
            "colorbar": {
             "outlinewidth": 0,
             "ticks": ""
            },
            "type": "contourcarpet"
           }
          ],
          "heatmap": [
           {
            "colorbar": {
             "outlinewidth": 0,
             "ticks": ""
            },
            "colorscale": [
             [
              0,
              "#0d0887"
             ],
             [
              0.1111111111111111,
              "#46039f"
             ],
             [
              0.2222222222222222,
              "#7201a8"
             ],
             [
              0.3333333333333333,
              "#9c179e"
             ],
             [
              0.4444444444444444,
              "#bd3786"
             ],
             [
              0.5555555555555556,
              "#d8576b"
             ],
             [
              0.6666666666666666,
              "#ed7953"
             ],
             [
              0.7777777777777778,
              "#fb9f3a"
             ],
             [
              0.8888888888888888,
              "#fdca26"
             ],
             [
              1,
              "#f0f921"
             ]
            ],
            "type": "heatmap"
           }
          ],
          "heatmapgl": [
           {
            "colorbar": {
             "outlinewidth": 0,
             "ticks": ""
            },
            "colorscale": [
             [
              0,
              "#0d0887"
             ],
             [
              0.1111111111111111,
              "#46039f"
             ],
             [
              0.2222222222222222,
              "#7201a8"
             ],
             [
              0.3333333333333333,
              "#9c179e"
             ],
             [
              0.4444444444444444,
              "#bd3786"
             ],
             [
              0.5555555555555556,
              "#d8576b"
             ],
             [
              0.6666666666666666,
              "#ed7953"
             ],
             [
              0.7777777777777778,
              "#fb9f3a"
             ],
             [
              0.8888888888888888,
              "#fdca26"
             ],
             [
              1,
              "#f0f921"
             ]
            ],
            "type": "heatmapgl"
           }
          ],
          "histogram": [
           {
            "marker": {
             "colorbar": {
              "outlinewidth": 0,
              "ticks": ""
             }
            },
            "type": "histogram"
           }
          ],
          "histogram2d": [
           {
            "colorbar": {
             "outlinewidth": 0,
             "ticks": ""
            },
            "colorscale": [
             [
              0,
              "#0d0887"
             ],
             [
              0.1111111111111111,
              "#46039f"
             ],
             [
              0.2222222222222222,
              "#7201a8"
             ],
             [
              0.3333333333333333,
              "#9c179e"
             ],
             [
              0.4444444444444444,
              "#bd3786"
             ],
             [
              0.5555555555555556,
              "#d8576b"
             ],
             [
              0.6666666666666666,
              "#ed7953"
             ],
             [
              0.7777777777777778,
              "#fb9f3a"
             ],
             [
              0.8888888888888888,
              "#fdca26"
             ],
             [
              1,
              "#f0f921"
             ]
            ],
            "type": "histogram2d"
           }
          ],
          "histogram2dcontour": [
           {
            "colorbar": {
             "outlinewidth": 0,
             "ticks": ""
            },
            "colorscale": [
             [
              0,
              "#0d0887"
             ],
             [
              0.1111111111111111,
              "#46039f"
             ],
             [
              0.2222222222222222,
              "#7201a8"
             ],
             [
              0.3333333333333333,
              "#9c179e"
             ],
             [
              0.4444444444444444,
              "#bd3786"
             ],
             [
              0.5555555555555556,
              "#d8576b"
             ],
             [
              0.6666666666666666,
              "#ed7953"
             ],
             [
              0.7777777777777778,
              "#fb9f3a"
             ],
             [
              0.8888888888888888,
              "#fdca26"
             ],
             [
              1,
              "#f0f921"
             ]
            ],
            "type": "histogram2dcontour"
           }
          ],
          "mesh3d": [
           {
            "colorbar": {
             "outlinewidth": 0,
             "ticks": ""
            },
            "type": "mesh3d"
           }
          ],
          "parcoords": [
           {
            "line": {
             "colorbar": {
              "outlinewidth": 0,
              "ticks": ""
             }
            },
            "type": "parcoords"
           }
          ],
          "pie": [
           {
            "automargin": true,
            "type": "pie"
           }
          ],
          "scatter": [
           {
            "marker": {
             "colorbar": {
              "outlinewidth": 0,
              "ticks": ""
             }
            },
            "type": "scatter"
           }
          ],
          "scatter3d": [
           {
            "line": {
             "colorbar": {
              "outlinewidth": 0,
              "ticks": ""
             }
            },
            "marker": {
             "colorbar": {
              "outlinewidth": 0,
              "ticks": ""
             }
            },
            "type": "scatter3d"
           }
          ],
          "scattercarpet": [
           {
            "marker": {
             "colorbar": {
              "outlinewidth": 0,
              "ticks": ""
             }
            },
            "type": "scattercarpet"
           }
          ],
          "scattergeo": [
           {
            "marker": {
             "colorbar": {
              "outlinewidth": 0,
              "ticks": ""
             }
            },
            "type": "scattergeo"
           }
          ],
          "scattergl": [
           {
            "marker": {
             "colorbar": {
              "outlinewidth": 0,
              "ticks": ""
             }
            },
            "type": "scattergl"
           }
          ],
          "scattermapbox": [
           {
            "marker": {
             "colorbar": {
              "outlinewidth": 0,
              "ticks": ""
             }
            },
            "type": "scattermapbox"
           }
          ],
          "scatterpolar": [
           {
            "marker": {
             "colorbar": {
              "outlinewidth": 0,
              "ticks": ""
             }
            },
            "type": "scatterpolar"
           }
          ],
          "scatterpolargl": [
           {
            "marker": {
             "colorbar": {
              "outlinewidth": 0,
              "ticks": ""
             }
            },
            "type": "scatterpolargl"
           }
          ],
          "scatterternary": [
           {
            "marker": {
             "colorbar": {
              "outlinewidth": 0,
              "ticks": ""
             }
            },
            "type": "scatterternary"
           }
          ],
          "surface": [
           {
            "colorbar": {
             "outlinewidth": 0,
             "ticks": ""
            },
            "colorscale": [
             [
              0,
              "#0d0887"
             ],
             [
              0.1111111111111111,
              "#46039f"
             ],
             [
              0.2222222222222222,
              "#7201a8"
             ],
             [
              0.3333333333333333,
              "#9c179e"
             ],
             [
              0.4444444444444444,
              "#bd3786"
             ],
             [
              0.5555555555555556,
              "#d8576b"
             ],
             [
              0.6666666666666666,
              "#ed7953"
             ],
             [
              0.7777777777777778,
              "#fb9f3a"
             ],
             [
              0.8888888888888888,
              "#fdca26"
             ],
             [
              1,
              "#f0f921"
             ]
            ],
            "type": "surface"
           }
          ],
          "table": [
           {
            "cells": {
             "fill": {
              "color": "#EBF0F8"
             },
             "line": {
              "color": "white"
             }
            },
            "header": {
             "fill": {
              "color": "#C8D4E3"
             },
             "line": {
              "color": "white"
             }
            },
            "type": "table"
           }
          ]
         },
         "layout": {
          "annotationdefaults": {
           "arrowcolor": "#2a3f5f",
           "arrowhead": 0,
           "arrowwidth": 1
          },
          "coloraxis": {
           "colorbar": {
            "outlinewidth": 0,
            "ticks": ""
           }
          },
          "colorscale": {
           "diverging": [
            [
             0,
             "#8e0152"
            ],
            [
             0.1,
             "#c51b7d"
            ],
            [
             0.2,
             "#de77ae"
            ],
            [
             0.3,
             "#f1b6da"
            ],
            [
             0.4,
             "#fde0ef"
            ],
            [
             0.5,
             "#f7f7f7"
            ],
            [
             0.6,
             "#e6f5d0"
            ],
            [
             0.7,
             "#b8e186"
            ],
            [
             0.8,
             "#7fbc41"
            ],
            [
             0.9,
             "#4d9221"
            ],
            [
             1,
             "#276419"
            ]
           ],
           "sequential": [
            [
             0,
             "#0d0887"
            ],
            [
             0.1111111111111111,
             "#46039f"
            ],
            [
             0.2222222222222222,
             "#7201a8"
            ],
            [
             0.3333333333333333,
             "#9c179e"
            ],
            [
             0.4444444444444444,
             "#bd3786"
            ],
            [
             0.5555555555555556,
             "#d8576b"
            ],
            [
             0.6666666666666666,
             "#ed7953"
            ],
            [
             0.7777777777777778,
             "#fb9f3a"
            ],
            [
             0.8888888888888888,
             "#fdca26"
            ],
            [
             1,
             "#f0f921"
            ]
           ],
           "sequentialminus": [
            [
             0,
             "#0d0887"
            ],
            [
             0.1111111111111111,
             "#46039f"
            ],
            [
             0.2222222222222222,
             "#7201a8"
            ],
            [
             0.3333333333333333,
             "#9c179e"
            ],
            [
             0.4444444444444444,
             "#bd3786"
            ],
            [
             0.5555555555555556,
             "#d8576b"
            ],
            [
             0.6666666666666666,
             "#ed7953"
            ],
            [
             0.7777777777777778,
             "#fb9f3a"
            ],
            [
             0.8888888888888888,
             "#fdca26"
            ],
            [
             1,
             "#f0f921"
            ]
           ]
          },
          "colorway": [
           "#636efa",
           "#EF553B",
           "#00cc96",
           "#ab63fa",
           "#FFA15A",
           "#19d3f3",
           "#FF6692",
           "#B6E880",
           "#FF97FF",
           "#FECB52"
          ],
          "font": {
           "color": "#2a3f5f"
          },
          "geo": {
           "bgcolor": "white",
           "lakecolor": "white",
           "landcolor": "#E5ECF6",
           "showlakes": true,
           "showland": true,
           "subunitcolor": "white"
          },
          "hoverlabel": {
           "align": "left"
          },
          "hovermode": "closest",
          "mapbox": {
           "style": "light"
          },
          "paper_bgcolor": "white",
          "plot_bgcolor": "#E5ECF6",
          "polar": {
           "angularaxis": {
            "gridcolor": "white",
            "linecolor": "white",
            "ticks": ""
           },
           "bgcolor": "#E5ECF6",
           "radialaxis": {
            "gridcolor": "white",
            "linecolor": "white",
            "ticks": ""
           }
          },
          "scene": {
           "xaxis": {
            "backgroundcolor": "#E5ECF6",
            "gridcolor": "white",
            "gridwidth": 2,
            "linecolor": "white",
            "showbackground": true,
            "ticks": "",
            "zerolinecolor": "white"
           },
           "yaxis": {
            "backgroundcolor": "#E5ECF6",
            "gridcolor": "white",
            "gridwidth": 2,
            "linecolor": "white",
            "showbackground": true,
            "ticks": "",
            "zerolinecolor": "white"
           },
           "zaxis": {
            "backgroundcolor": "#E5ECF6",
            "gridcolor": "white",
            "gridwidth": 2,
            "linecolor": "white",
            "showbackground": true,
            "ticks": "",
            "zerolinecolor": "white"
           }
          },
          "shapedefaults": {
           "line": {
            "color": "#2a3f5f"
           }
          },
          "ternary": {
           "aaxis": {
            "gridcolor": "white",
            "linecolor": "white",
            "ticks": ""
           },
           "baxis": {
            "gridcolor": "white",
            "linecolor": "white",
            "ticks": ""
           },
           "bgcolor": "#E5ECF6",
           "caxis": {
            "gridcolor": "white",
            "linecolor": "white",
            "ticks": ""
           }
          },
          "title": {
           "x": 0.05
          },
          "xaxis": {
           "automargin": true,
           "gridcolor": "white",
           "linecolor": "white",
           "ticks": "",
           "title": {
            "standoff": 15
           },
           "zerolinecolor": "white",
           "zerolinewidth": 2
          },
          "yaxis": {
           "automargin": true,
           "gridcolor": "white",
           "linecolor": "white",
           "ticks": "",
           "title": {
            "standoff": 15
           },
           "zerolinecolor": "white",
           "zerolinewidth": 2
          }
         }
        },
        "xaxis": {
         "anchor": "y",
         "domain": [
          0,
          1
         ],
         "rangeslider": {
          "visible": true
         },
         "title": {
          "text": "date"
         }
        },
        "yaxis": {
         "anchor": "x",
         "domain": [
          0,
          1
         ],
         "title": {
          "text": "biden"
         }
        }
       }
      },
      "text/html": [
       "<div>                            <div id=\"fa360823-6f01-4da7-9610-32c5300770ff\" class=\"plotly-graph-div\" style=\"height:525px; width:100%;\"></div>            <script type=\"text/javascript\">                require([\"plotly\"], function(Plotly) {                    window.PLOTLYENV=window.PLOTLYENV || {};                                    if (document.getElementById(\"fa360823-6f01-4da7-9610-32c5300770ff\")) {                    Plotly.newPlot(                        \"fa360823-6f01-4da7-9610-32c5300770ff\",                        [{\"hovertemplate\": \"poll=The Hill/HarrisX<br>date=%{x}<br>biden=%{y}<extra></extra>\", \"legendgroup\": \"The Hill/HarrisX\", \"line\": {\"color\": \"#636efa\", \"dash\": \"solid\"}, \"mode\": \"lines\", \"name\": \"The Hill/HarrisX\", \"orientation\": \"v\", \"showlegend\": true, \"type\": \"scatter\", \"x\": [\"2020-10-25T00:00:00\", \"2020-10-13T00:00:00\", \"2020-10-10T00:00:00\", \"2020-10-03T00:00:00\", \"2020-09-30T00:00:00\", \"2020-09-22T00:00:00\", \"2020-09-19T00:00:00\", \"2020-09-10T00:00:00\", \"2020-09-05T00:00:00\", \"2020-08-29T00:00:00\", \"2020-08-25T00:00:00\", \"2020-08-22T00:00:00\", \"2020-08-15T00:00:00\", \"2020-08-11T00:00:00\", \"2020-08-08T00:00:00\", \"2020-08-02T00:00:00\", \"2020-07-17T00:00:00\", \"2020-07-03T00:00:00\", \"2020-06-22T00:00:00\", \"2020-06-01T00:00:00\", \"2020-05-13T00:00:00\", \"2020-04-19T00:00:00\"], \"xaxis\": \"x\", \"y\": [49, 46, 47, 45, 47, 45, 45, 45, 47, 46, 47, 47, 46, 45, 44, 43, 45, 43, 43, 47, 42, 42], \"yaxis\": \"y\"}, {\"hovertemplate\": \"poll=IBD/TIPP<br>date=%{x}<br>biden=%{y}<extra></extra>\", \"legendgroup\": \"IBD/TIPP\", \"line\": {\"color\": \"#EF553B\", \"dash\": \"solid\"}, \"mode\": \"lines\", \"name\": \"IBD/TIPP\", \"orientation\": \"v\", \"showlegend\": true, \"type\": \"scatter\", \"x\": [\"2020-10-25T00:00:00\", \"2020-09-30T00:00:00\", \"2020-09-16T00:00:00\", \"2020-08-29T00:00:00\", \"2020-07-25T00:00:00\", \"2020-06-27T00:00:00\", \"2020-05-31T00:00:00\", \"2020-04-26T00:00:00\", \"2020-03-29T00:00:00\", \"2020-02-20T00:00:00\", \"2020-01-23T00:00:00\", \"2020-01-03T00:00:00\"], \"xaxis\": \"x\", \"y\": [51, 49, 50, 49, 48, 48, 45, 43, 47, 49, 49, 48], \"yaxis\": \"y\"}, {\"hovertemplate\": \"poll=Rasmussen Reports<br>date=%{x}<br>biden=%{y}<extra></extra>\", \"legendgroup\": \"Rasmussen Reports\", \"line\": {\"color\": \"#00cc96\", \"dash\": \"solid\"}, \"mode\": \"lines\", \"name\": \"Rasmussen Reports\", \"orientation\": \"v\", \"showlegend\": true, \"type\": \"scatter\", \"x\": [\"2020-10-27T00:00:00\", \"2020-10-14T00:00:00\", \"2020-10-07T00:00:00\", \"2020-09-30T00:00:00\", \"2020-09-23T00:00:00\", \"2020-09-16T00:00:00\", \"2020-09-09T00:00:00\", \"2020-09-02T00:00:00\", \"2020-08-26T00:00:00\", \"2020-08-19T00:00:00\", \"2020-08-12T00:00:00\", \"2020-08-05T00:00:00\", \"2020-07-29T00:00:00\", \"2020-07-22T00:00:00\", \"2020-07-15T00:00:00\", \"2020-07-08T00:00:00\", \"2020-07-05T00:00:00\", \"2020-05-18T00:00:00\"], \"xaxis\": \"x\", \"y\": [49, 49, 50, 52, 51, 48, 46, 48, 49, 46, 48, 49, 48, 48, 47, 47, 50, 48], \"yaxis\": \"y\"}, {\"hovertemplate\": \"poll=Economist/YouGov<br>date=%{x}<br>biden=%{y}<extra></extra>\", \"legendgroup\": \"Economist/YouGov\", \"line\": {\"color\": \"#ab63fa\", \"dash\": \"solid\"}, \"mode\": \"lines\", \"name\": \"Economist/YouGov\", \"orientation\": \"v\", \"showlegend\": true, \"type\": \"scatter\", \"x\": [\"2020-10-25T00:00:00\", \"2020-10-18T00:00:00\", \"2020-10-11T00:00:00\", \"2020-10-04T00:00:00\", \"2020-09-27T00:00:00\", \"2020-09-20T00:00:00\", \"2020-09-13T00:00:00\", \"2020-09-06T00:00:00\", \"2020-08-30T00:00:00\", \"2020-08-23T00:00:00\", \"2020-08-16T00:00:00\", \"2020-08-09T00:00:00\", \"2020-08-02T00:00:00\", \"2020-07-26T00:00:00\", \"2020-07-19T00:00:00\", \"2020-07-12T00:00:00\", \"2020-07-05T00:00:00\", \"2020-06-28T00:00:00\", \"2020-06-21T00:00:00\", \"2020-06-14T00:00:00\", \"2020-06-07T00:00:00\", \"2020-05-31T00:00:00\", \"2020-05-23T00:00:00\", \"2020-05-17T00:00:00\", \"2020-05-10T00:00:00\", \"2020-05-03T00:00:00\", \"2020-04-26T00:00:00\", \"2020-04-19T00:00:00\", \"2020-04-12T00:00:00\", \"2020-04-05T00:00:00\", \"2020-03-29T00:00:00\", \"2020-03-22T00:00:00\", \"2020-03-15T00:00:00\", \"2020-03-08T00:00:00\"], \"xaxis\": \"x\", \"y\": [54, 52, 52, 51, 50, 49, 51, 52, 51, 50, 50, 49, 49, 49, 48, 49, 49, 49, 49, 50, 49, 47, 45, 47, 47, 46, 47, 48, 48, 48, 46, 46, 48, 47], \"yaxis\": \"y\"}, {\"hovertemplate\": \"poll=Emerson<br>date=%{x}<br>biden=%{y}<extra></extra>\", \"legendgroup\": \"Emerson\", \"line\": {\"color\": \"#FFA15A\", \"dash\": \"solid\"}, \"mode\": \"lines\", \"name\": \"Emerson\", \"orientation\": \"v\", \"showlegend\": true, \"type\": \"scatter\", \"x\": [\"2020-10-25T00:00:00\", \"2020-09-22T00:00:00\", \"2020-08-30T00:00:00\", \"2020-07-29T00:00:00\", \"2020-06-02T00:00:00\", \"2020-04-26T00:00:00\", \"2020-03-18T00:00:00\", \"2020-02-16T00:00:00\", \"2020-01-21T00:00:00\"], \"xaxis\": \"x\", \"y\": [50, 48, 49, 50, 53, 48, 53, 48, 50], \"yaxis\": \"y\"}, {\"hovertemplate\": \"poll=USA Today/Suffolk<br>date=%{x}<br>biden=%{y}<extra></extra>\", \"legendgroup\": \"USA Today/Suffolk\", \"line\": {\"color\": \"#19d3f3\", \"dash\": \"solid\"}, \"mode\": \"lines\", \"name\": \"USA Today/Suffolk\", \"orientation\": \"v\", \"showlegend\": true, \"type\": \"scatter\", \"x\": [\"2020-10-23T00:00:00\", \"2020-08-28T00:00:00\", \"2020-06-25T00:00:00\", \"2020-04-21T00:00:00\"], \"xaxis\": \"x\", \"y\": [52, 50, 53, 50], \"yaxis\": \"y\"}, {\"hovertemplate\": \"poll=Reuters/Ipsos<br>date=%{x}<br>biden=%{y}<extra></extra>\", \"legendgroup\": \"Reuters/Ipsos\", \"line\": {\"color\": \"#FF6692\", \"dash\": \"solid\"}, \"mode\": \"lines\", \"name\": \"Reuters/Ipsos\", \"orientation\": \"v\", \"showlegend\": true, \"type\": \"scatter\", \"x\": [\"2020-10-23T00:00:00\", \"2020-10-16T00:00:00\", \"2020-10-09T00:00:00\", \"2020-10-02T00:00:00\", \"2020-09-25T00:00:00\", \"2020-09-18T00:00:00\", \"2020-09-11T00:00:00\", \"2020-09-03T00:00:00\", \"2020-08-28T00:00:00\"], \"xaxis\": \"x\", \"y\": [52, 51, 51, 52, 51, 50, 50, 52, 47], \"yaxis\": \"y\"}, {\"hovertemplate\": \"poll=CNN<br>date=%{x}<br>biden=%{y}<extra></extra>\", \"legendgroup\": \"CNN\", \"line\": {\"color\": \"#B6E880\", \"dash\": \"solid\"}, \"mode\": \"lines\", \"name\": \"CNN\", \"orientation\": \"v\", \"showlegend\": true, \"type\": \"scatter\", \"x\": [\"2020-10-23T00:00:00\", \"2020-10-01T00:00:00\", \"2020-08-28T00:00:00\", \"2020-08-12T00:00:00\", \"2020-06-02T00:00:00\", \"2020-05-07T00:00:00\", \"2020-04-03T00:00:00\", \"2020-03-04T00:00:00\", \"2020-01-16T00:00:00\"], \"xaxis\": \"x\", \"y\": [54, 57, 51, 50, 55, 51, 53, 53, 53], \"yaxis\": \"y\"}, {\"hovertemplate\": \"poll=JTN/RMG Research<br>date=%{x}<br>biden=%{y}<extra></extra>\", \"legendgroup\": \"JTN/RMG Research\", \"line\": {\"color\": \"#FF97FF\", \"dash\": \"solid\"}, \"mode\": \"lines\", \"name\": \"JTN/RMG Research\", \"orientation\": \"v\", \"showlegend\": true, \"type\": \"scatter\", \"x\": [\"2020-10-23T00:00:00\", \"2020-10-15T00:00:00\", \"2020-10-08T00:00:00\", \"2020-10-01T00:00:00\", \"2020-09-24T00:00:00\", \"2020-09-17T00:00:00\", \"2020-09-10T00:00:00\"], \"xaxis\": \"x\", \"y\": [51, 51, 51, 51, 51, 50, 48], \"yaxis\": \"y\"}, {\"hovertemplate\": \"poll=CNBC<br>date=%{x}<br>biden=%{y}<extra></extra>\", \"legendgroup\": \"CNBC\", \"line\": {\"color\": \"#FECB52\", \"dash\": \"solid\"}, \"mode\": \"lines\", \"name\": \"CNBC\", \"orientation\": \"v\", \"showlegend\": true, \"type\": \"scatter\", \"x\": [\"2020-10-21T00:00:00\", \"2020-06-19T00:00:00\", \"2020-05-29T00:00:00\", \"2020-05-15T00:00:00\", \"2020-05-01T00:00:00\", \"2020-04-03T00:00:00\"], \"xaxis\": \"x\", \"y\": [51, 47, 48, 48, 47, 44], \"yaxis\": \"y\"}, {\"hovertemplate\": \"poll=USC Dornsife<br>date=%{x}<br>biden=%{y}<extra></extra>\", \"legendgroup\": \"USC Dornsife\", \"line\": {\"color\": \"#636efa\", \"dash\": \"solid\"}, \"mode\": \"lines\", \"name\": \"USC Dornsife\", \"orientation\": \"v\", \"showlegend\": true, \"type\": \"scatter\", \"x\": [\"2020-10-16T00:00:00\", \"2020-09-07T00:00:00\", \"2020-08-31T00:00:00\"], \"xaxis\": \"x\", \"y\": [54, 52, 52], \"yaxis\": \"y\"}, {\"hovertemplate\": \"poll=Quinnipiac<br>date=%{x}<br>biden=%{y}<extra></extra>\", \"legendgroup\": \"Quinnipiac\", \"line\": {\"color\": \"#EF553B\", \"dash\": \"solid\"}, \"mode\": \"lines\", \"name\": \"Quinnipiac\", \"orientation\": \"v\", \"showlegend\": true, \"type\": \"scatter\", \"x\": [\"2020-10-16T00:00:00\", \"2020-09-17T00:00:00\", \"2020-08-28T00:00:00\", \"2020-07-09T00:00:00\", \"2020-06-11T00:00:00\", \"2020-05-14T00:00:00\", \"2020-04-02T00:00:00\", \"2020-03-05T00:00:00\", \"2020-02-05T00:00:00\"], \"xaxis\": \"x\", \"y\": [51, 52, 52, 52, 49, 50, 49, 52, 50], \"yaxis\": \"y\"}, {\"hovertemplate\": \"poll=CNBC/Change Research (D)<br>date=%{x}<br>biden=%{y}<extra></extra>\", \"legendgroup\": \"CNBC/Change Research (D)\", \"line\": {\"color\": \"#00cc96\", \"dash\": \"solid\"}, \"mode\": \"lines\", \"name\": \"CNBC/Change Research (D)\", \"orientation\": \"v\", \"showlegend\": true, \"type\": \"scatter\", \"x\": [\"2020-10-17T00:00:00\", \"2020-10-02T00:00:00\", \"2020-09-29T00:00:00\", \"2020-09-18T00:00:00\", \"2020-09-04T00:00:00\", \"2020-08-21T00:00:00\", \"2020-08-07T00:00:00\", \"2020-07-24T00:00:00\", \"2020-07-10T00:00:00\", \"2020-06-26T00:00:00\", \"2020-06-10T00:00:00\"], \"xaxis\": \"x\", \"y\": [52, 52, 54, 51, 49, 51, 50, 51, 51, 49, 51], \"yaxis\": \"y\"}, {\"hovertemplate\": \"poll=SurveyUSA<br>date=%{x}<br>biden=%{y}<extra></extra>\", \"legendgroup\": \"SurveyUSA\", \"line\": {\"color\": \"#ab63fa\", \"dash\": \"solid\"}, \"mode\": \"lines\", \"name\": \"SurveyUSA\", \"orientation\": \"v\", \"showlegend\": true, \"type\": \"scatter\", \"x\": [\"2020-10-16T00:00:00\", \"2020-10-01T00:00:00\"], \"xaxis\": \"x\", \"y\": [53, 53], \"yaxis\": \"y\"}, {\"hovertemplate\": \"poll=NY Times/Siena<br>date=%{x}<br>biden=%{y}<extra></extra>\", \"legendgroup\": \"NY Times/Siena\", \"line\": {\"color\": \"#FFA15A\", \"dash\": \"solid\"}, \"mode\": \"lines\", \"name\": \"NY Times/Siena\", \"orientation\": \"v\", \"showlegend\": true, \"type\": \"scatter\", \"x\": [\"2020-10-15T00:00:00\", \"2020-09-22T00:00:00\", \"2020-06-17T00:00:00\"], \"xaxis\": \"x\", \"y\": [50, 49, 50], \"yaxis\": \"y\"}, {\"hovertemplate\": \"poll=NBC News/Wall St. Jrnl<br>date=%{x}<br>biden=%{y}<extra></extra>\", \"legendgroup\": \"NBC News/Wall St. Jrnl\", \"line\": {\"color\": \"#19d3f3\", \"dash\": \"solid\"}, \"mode\": \"lines\", \"name\": \"NBC News/Wall St. Jrnl\", \"orientation\": \"v\", \"showlegend\": true, \"type\": \"scatter\", \"x\": [\"2020-10-09T00:00:00\", \"2020-09-30T00:00:00\", \"2020-09-13T00:00:00\", \"2020-08-09T00:00:00\", \"2020-07-09T00:00:00\", \"2020-05-28T00:00:00\", \"2020-04-13T00:00:00\", \"2020-03-11T00:00:00\", \"2020-02-14T00:00:00\", \"2020-01-26T00:00:00\"], \"xaxis\": \"x\", \"y\": [53, 53, 51, 50, 51, 49, 49, 52, 52, 50], \"yaxis\": \"y\"}, {\"hovertemplate\": \"poll=NPR/PBS/Marist<br>date=%{x}<br>biden=%{y}<extra></extra>\", \"legendgroup\": \"NPR/PBS/Marist\", \"line\": {\"color\": \"#FF6692\", \"dash\": \"solid\"}, \"mode\": \"lines\", \"name\": \"NPR/PBS/Marist\", \"orientation\": \"v\", \"showlegend\": true, \"type\": \"scatter\", \"x\": [\"2020-10-08T00:00:00\", \"2020-09-11T00:00:00\", \"2020-08-03T00:00:00\", \"2020-06-22T00:00:00\", \"2020-06-02T00:00:00\", \"2020-02-13T00:00:00\"], \"xaxis\": \"x\", \"y\": [54, 52, 53, 52, 50, 50], \"yaxis\": \"y\"}, {\"hovertemplate\": \"poll=ABC News/Wash Post<br>date=%{x}<br>biden=%{y}<extra></extra>\", \"legendgroup\": \"ABC News/Wash Post\", \"line\": {\"color\": \"#B6E880\", \"dash\": \"solid\"}, \"mode\": \"lines\", \"name\": \"ABC News/Wash Post\", \"orientation\": \"v\", \"showlegend\": true, \"type\": \"scatter\", \"x\": [\"2020-10-06T00:00:00\", \"2020-09-21T00:00:00\", \"2020-08-12T00:00:00\", \"2020-07-12T00:00:00\", \"2020-05-25T00:00:00\", \"2020-03-22T00:00:00\", \"2020-02-14T00:00:00\", \"2020-01-20T00:00:00\"], \"xaxis\": \"x\", \"y\": [55, 54, 54, 54, 53, 49, 52, 50], \"yaxis\": \"y\"}, {\"hovertemplate\": \"poll=FOX News<br>date=%{x}<br>biden=%{y}<extra></extra>\", \"legendgroup\": \"FOX News\", \"line\": {\"color\": \"#FF97FF\", \"dash\": \"solid\"}, \"mode\": \"lines\", \"name\": \"FOX News\", \"orientation\": \"v\", \"showlegend\": true, \"type\": \"scatter\", \"x\": [\"2020-10-03T00:00:00\", \"2020-09-07T00:00:00\", \"2020-08-09T00:00:00\", \"2020-07-12T00:00:00\", \"2020-06-13T00:00:00\", \"2020-05-17T00:00:00\", \"2020-04-04T00:00:00\", \"2020-03-21T00:00:00\", \"2020-02-23T00:00:00\", \"2020-01-19T00:00:00\"], \"xaxis\": \"x\", \"y\": [53, 51, 49, 49, 50, 48, 42, 49, 49, 50], \"yaxis\": \"y\"}, {\"hovertemplate\": \"poll=Monmouth<br>date=%{x}<br>biden=%{y}<extra></extra>\", \"legendgroup\": \"Monmouth\", \"line\": {\"color\": \"#FECB52\", \"dash\": \"solid\"}, \"mode\": \"lines\", \"name\": \"Monmouth\", \"orientation\": \"v\", \"showlegend\": true, \"type\": \"scatter\", \"x\": [\"2020-09-24T00:00:00\", \"2020-09-03T00:00:00\", \"2020-08-06T00:00:00\", \"2020-06-26T00:00:00\", \"2020-05-28T00:00:00\", \"2020-04-30T00:00:00\", \"2020-04-03T00:00:00\", \"2020-03-18T00:00:00\"], \"xaxis\": \"x\", \"y\": [50, 51, 51, 53, 52, 50, 48, 48], \"yaxis\": \"y\"}, {\"hovertemplate\": \"poll=Harvard-Harris<br>date=%{x}<br>biden=%{y}<extra></extra>\", \"legendgroup\": \"Harvard-Harris\", \"line\": {\"color\": \"#636efa\", \"dash\": \"solid\"}, \"mode\": \"lines\", \"name\": \"Harvard-Harris\", \"orientation\": \"v\", \"showlegend\": true, \"type\": \"scatter\", \"x\": [\"2020-09-22T00:00:00\", \"2020-08-31T00:00:00\", \"2020-07-21T00:00:00\", \"2020-06-17T00:00:00\", \"2020-05-13T00:00:00\", \"2020-04-14T00:00:00\", \"2020-03-24T00:00:00\", \"2020-02-26T00:00:00\"], \"xaxis\": \"x\", \"y\": [47, 53, 55, 56, 53, 53, 55, 55], \"yaxis\": \"y\"}, {\"hovertemplate\": \"poll=CBS News/YouGov<br>date=%{x}<br>biden=%{y}<extra></extra>\", \"legendgroup\": \"CBS News/YouGov\", \"line\": {\"color\": \"#EF553B\", \"dash\": \"solid\"}, \"mode\": \"lines\", \"name\": \"CBS News/YouGov\", \"orientation\": \"v\", \"showlegend\": true, \"type\": \"scatter\", \"x\": [\"2020-09-02T00:00:00\", \"2020-08-20T00:00:00\", \"2020-08-12T00:00:00\", \"2020-07-21T00:00:00\", \"2020-05-29T00:00:00\", \"2020-04-28T00:00:00\", \"2020-02-20T00:00:00\"], \"xaxis\": \"x\", \"y\": [52, 52, 52, 51, 47, 49, 47], \"yaxis\": \"y\"}, {\"hovertemplate\": \"poll=Grinnell/Selzer<br>date=%{x}<br>biden=%{y}<extra></extra>\", \"legendgroup\": \"Grinnell/Selzer\", \"line\": {\"color\": \"#00cc96\", \"dash\": \"solid\"}, \"mode\": \"lines\", \"name\": \"Grinnell/Selzer\", \"orientation\": \"v\", \"showlegend\": true, \"type\": \"scatter\", \"x\": [\"2020-08-26T00:00:00\", \"2020-03-27T00:00:00\"], \"xaxis\": \"x\", \"y\": [49, 47], \"yaxis\": \"y\"}, {\"hovertemplate\": \"poll=GU Politics/Battleground<br>date=%{x}<br>biden=%{y}<extra></extra>\", \"legendgroup\": \"GU Politics/Battleground\", \"line\": {\"color\": \"#ab63fa\", \"dash\": \"solid\"}, \"mode\": \"lines\", \"name\": \"GU Politics/Battleground\", \"orientation\": \"v\", \"showlegend\": true, \"type\": \"scatter\", \"x\": [\"2020-08-01T00:00:00\"], \"xaxis\": \"x\", \"y\": [53], \"yaxis\": \"y\"}, {\"hovertemplate\": \"poll=LA Times/USC<br>date=%{x}<br>biden=%{y}<extra></extra>\", \"legendgroup\": \"LA Times/USC\", \"line\": {\"color\": \"#FFA15A\", \"dash\": \"solid\"}, \"mode\": \"lines\", \"name\": \"LA Times/USC\", \"orientation\": \"v\", \"showlegend\": true, \"type\": \"scatter\", \"x\": [\"2020-01-15T00:00:00\"], \"xaxis\": \"x\", \"y\": [49], \"yaxis\": \"y\"}],                        {\"legend\": {\"title\": {\"text\": \"poll\"}, \"tracegroupgap\": 0}, \"margin\": {\"t\": 60}, \"template\": {\"data\": {\"bar\": [{\"error_x\": {\"color\": \"#2a3f5f\"}, \"error_y\": {\"color\": \"#2a3f5f\"}, \"marker\": {\"line\": {\"color\": \"#E5ECF6\", \"width\": 0.5}}, \"type\": \"bar\"}], \"barpolar\": [{\"marker\": {\"line\": {\"color\": \"#E5ECF6\", \"width\": 0.5}}, \"type\": \"barpolar\"}], \"carpet\": [{\"aaxis\": {\"endlinecolor\": \"#2a3f5f\", \"gridcolor\": \"white\", \"linecolor\": \"white\", \"minorgridcolor\": \"white\", \"startlinecolor\": \"#2a3f5f\"}, \"baxis\": {\"endlinecolor\": \"#2a3f5f\", \"gridcolor\": \"white\", \"linecolor\": \"white\", \"minorgridcolor\": \"white\", \"startlinecolor\": \"#2a3f5f\"}, \"type\": \"carpet\"}], \"choropleth\": [{\"colorbar\": {\"outlinewidth\": 0, \"ticks\": \"\"}, \"type\": \"choropleth\"}], \"contour\": [{\"colorbar\": {\"outlinewidth\": 0, \"ticks\": \"\"}, \"colorscale\": [[0.0, \"#0d0887\"], [0.1111111111111111, \"#46039f\"], [0.2222222222222222, \"#7201a8\"], [0.3333333333333333, \"#9c179e\"], [0.4444444444444444, \"#bd3786\"], [0.5555555555555556, \"#d8576b\"], [0.6666666666666666, \"#ed7953\"], [0.7777777777777778, \"#fb9f3a\"], [0.8888888888888888, \"#fdca26\"], [1.0, \"#f0f921\"]], \"type\": \"contour\"}], \"contourcarpet\": [{\"colorbar\": {\"outlinewidth\": 0, \"ticks\": \"\"}, \"type\": \"contourcarpet\"}], \"heatmap\": [{\"colorbar\": {\"outlinewidth\": 0, \"ticks\": \"\"}, \"colorscale\": [[0.0, \"#0d0887\"], [0.1111111111111111, \"#46039f\"], [0.2222222222222222, \"#7201a8\"], [0.3333333333333333, \"#9c179e\"], [0.4444444444444444, \"#bd3786\"], [0.5555555555555556, \"#d8576b\"], [0.6666666666666666, \"#ed7953\"], [0.7777777777777778, \"#fb9f3a\"], [0.8888888888888888, \"#fdca26\"], [1.0, \"#f0f921\"]], \"type\": \"heatmap\"}], \"heatmapgl\": [{\"colorbar\": {\"outlinewidth\": 0, \"ticks\": \"\"}, \"colorscale\": [[0.0, \"#0d0887\"], [0.1111111111111111, \"#46039f\"], [0.2222222222222222, \"#7201a8\"], [0.3333333333333333, \"#9c179e\"], [0.4444444444444444, \"#bd3786\"], [0.5555555555555556, \"#d8576b\"], [0.6666666666666666, \"#ed7953\"], [0.7777777777777778, \"#fb9f3a\"], [0.8888888888888888, \"#fdca26\"], [1.0, \"#f0f921\"]], \"type\": \"heatmapgl\"}], \"histogram\": [{\"marker\": {\"colorbar\": {\"outlinewidth\": 0, \"ticks\": \"\"}}, \"type\": \"histogram\"}], \"histogram2d\": [{\"colorbar\": {\"outlinewidth\": 0, \"ticks\": \"\"}, \"colorscale\": [[0.0, \"#0d0887\"], [0.1111111111111111, \"#46039f\"], [0.2222222222222222, \"#7201a8\"], [0.3333333333333333, \"#9c179e\"], [0.4444444444444444, \"#bd3786\"], [0.5555555555555556, \"#d8576b\"], [0.6666666666666666, \"#ed7953\"], [0.7777777777777778, \"#fb9f3a\"], [0.8888888888888888, \"#fdca26\"], [1.0, \"#f0f921\"]], \"type\": \"histogram2d\"}], \"histogram2dcontour\": [{\"colorbar\": {\"outlinewidth\": 0, \"ticks\": \"\"}, \"colorscale\": [[0.0, \"#0d0887\"], [0.1111111111111111, \"#46039f\"], [0.2222222222222222, \"#7201a8\"], [0.3333333333333333, \"#9c179e\"], [0.4444444444444444, \"#bd3786\"], [0.5555555555555556, \"#d8576b\"], [0.6666666666666666, \"#ed7953\"], [0.7777777777777778, \"#fb9f3a\"], [0.8888888888888888, \"#fdca26\"], [1.0, \"#f0f921\"]], \"type\": \"histogram2dcontour\"}], \"mesh3d\": [{\"colorbar\": {\"outlinewidth\": 0, \"ticks\": \"\"}, \"type\": \"mesh3d\"}], \"parcoords\": [{\"line\": {\"colorbar\": {\"outlinewidth\": 0, \"ticks\": \"\"}}, \"type\": \"parcoords\"}], \"pie\": [{\"automargin\": true, \"type\": \"pie\"}], \"scatter\": [{\"marker\": {\"colorbar\": {\"outlinewidth\": 0, \"ticks\": \"\"}}, \"type\": \"scatter\"}], \"scatter3d\": [{\"line\": {\"colorbar\": {\"outlinewidth\": 0, \"ticks\": \"\"}}, \"marker\": {\"colorbar\": {\"outlinewidth\": 0, \"ticks\": \"\"}}, \"type\": \"scatter3d\"}], \"scattercarpet\": [{\"marker\": {\"colorbar\": {\"outlinewidth\": 0, \"ticks\": \"\"}}, \"type\": \"scattercarpet\"}], \"scattergeo\": [{\"marker\": {\"colorbar\": {\"outlinewidth\": 0, \"ticks\": \"\"}}, \"type\": \"scattergeo\"}], \"scattergl\": [{\"marker\": {\"colorbar\": {\"outlinewidth\": 0, \"ticks\": \"\"}}, \"type\": \"scattergl\"}], \"scattermapbox\": [{\"marker\": {\"colorbar\": {\"outlinewidth\": 0, \"ticks\": \"\"}}, \"type\": \"scattermapbox\"}], \"scatterpolar\": [{\"marker\": {\"colorbar\": {\"outlinewidth\": 0, \"ticks\": \"\"}}, \"type\": \"scatterpolar\"}], \"scatterpolargl\": [{\"marker\": {\"colorbar\": {\"outlinewidth\": 0, \"ticks\": \"\"}}, \"type\": \"scatterpolargl\"}], \"scatterternary\": [{\"marker\": {\"colorbar\": {\"outlinewidth\": 0, \"ticks\": \"\"}}, \"type\": \"scatterternary\"}], \"surface\": [{\"colorbar\": {\"outlinewidth\": 0, \"ticks\": \"\"}, \"colorscale\": [[0.0, \"#0d0887\"], [0.1111111111111111, \"#46039f\"], [0.2222222222222222, \"#7201a8\"], [0.3333333333333333, \"#9c179e\"], [0.4444444444444444, \"#bd3786\"], [0.5555555555555556, \"#d8576b\"], [0.6666666666666666, \"#ed7953\"], [0.7777777777777778, \"#fb9f3a\"], [0.8888888888888888, \"#fdca26\"], [1.0, \"#f0f921\"]], \"type\": \"surface\"}], \"table\": [{\"cells\": {\"fill\": {\"color\": \"#EBF0F8\"}, \"line\": {\"color\": \"white\"}}, \"header\": {\"fill\": {\"color\": \"#C8D4E3\"}, \"line\": {\"color\": \"white\"}}, \"type\": \"table\"}]}, \"layout\": {\"annotationdefaults\": {\"arrowcolor\": \"#2a3f5f\", \"arrowhead\": 0, \"arrowwidth\": 1}, \"coloraxis\": {\"colorbar\": {\"outlinewidth\": 0, \"ticks\": \"\"}}, \"colorscale\": {\"diverging\": [[0, \"#8e0152\"], [0.1, \"#c51b7d\"], [0.2, \"#de77ae\"], [0.3, \"#f1b6da\"], [0.4, \"#fde0ef\"], [0.5, \"#f7f7f7\"], [0.6, \"#e6f5d0\"], [0.7, \"#b8e186\"], [0.8, \"#7fbc41\"], [0.9, \"#4d9221\"], [1, \"#276419\"]], \"sequential\": [[0.0, \"#0d0887\"], [0.1111111111111111, \"#46039f\"], [0.2222222222222222, \"#7201a8\"], [0.3333333333333333, \"#9c179e\"], [0.4444444444444444, \"#bd3786\"], [0.5555555555555556, \"#d8576b\"], [0.6666666666666666, \"#ed7953\"], [0.7777777777777778, \"#fb9f3a\"], [0.8888888888888888, \"#fdca26\"], [1.0, \"#f0f921\"]], \"sequentialminus\": [[0.0, \"#0d0887\"], [0.1111111111111111, \"#46039f\"], [0.2222222222222222, \"#7201a8\"], [0.3333333333333333, \"#9c179e\"], [0.4444444444444444, \"#bd3786\"], [0.5555555555555556, \"#d8576b\"], [0.6666666666666666, \"#ed7953\"], [0.7777777777777778, \"#fb9f3a\"], [0.8888888888888888, \"#fdca26\"], [1.0, \"#f0f921\"]]}, \"colorway\": [\"#636efa\", \"#EF553B\", \"#00cc96\", \"#ab63fa\", \"#FFA15A\", \"#19d3f3\", \"#FF6692\", \"#B6E880\", \"#FF97FF\", \"#FECB52\"], \"font\": {\"color\": \"#2a3f5f\"}, \"geo\": {\"bgcolor\": \"white\", \"lakecolor\": \"white\", \"landcolor\": \"#E5ECF6\", \"showlakes\": true, \"showland\": true, \"subunitcolor\": \"white\"}, \"hoverlabel\": {\"align\": \"left\"}, \"hovermode\": \"closest\", \"mapbox\": {\"style\": \"light\"}, \"paper_bgcolor\": \"white\", \"plot_bgcolor\": \"#E5ECF6\", \"polar\": {\"angularaxis\": {\"gridcolor\": \"white\", \"linecolor\": \"white\", \"ticks\": \"\"}, \"bgcolor\": \"#E5ECF6\", \"radialaxis\": {\"gridcolor\": \"white\", \"linecolor\": \"white\", \"ticks\": \"\"}}, \"scene\": {\"xaxis\": {\"backgroundcolor\": \"#E5ECF6\", \"gridcolor\": \"white\", \"gridwidth\": 2, \"linecolor\": \"white\", \"showbackground\": true, \"ticks\": \"\", \"zerolinecolor\": \"white\"}, \"yaxis\": {\"backgroundcolor\": \"#E5ECF6\", \"gridcolor\": \"white\", \"gridwidth\": 2, \"linecolor\": \"white\", \"showbackground\": true, \"ticks\": \"\", \"zerolinecolor\": \"white\"}, \"zaxis\": {\"backgroundcolor\": \"#E5ECF6\", \"gridcolor\": \"white\", \"gridwidth\": 2, \"linecolor\": \"white\", \"showbackground\": true, \"ticks\": \"\", \"zerolinecolor\": \"white\"}}, \"shapedefaults\": {\"line\": {\"color\": \"#2a3f5f\"}}, \"ternary\": {\"aaxis\": {\"gridcolor\": \"white\", \"linecolor\": \"white\", \"ticks\": \"\"}, \"baxis\": {\"gridcolor\": \"white\", \"linecolor\": \"white\", \"ticks\": \"\"}, \"bgcolor\": \"#E5ECF6\", \"caxis\": {\"gridcolor\": \"white\", \"linecolor\": \"white\", \"ticks\": \"\"}}, \"title\": {\"x\": 0.05}, \"xaxis\": {\"automargin\": true, \"gridcolor\": \"white\", \"linecolor\": \"white\", \"ticks\": \"\", \"title\": {\"standoff\": 15}, \"zerolinecolor\": \"white\", \"zerolinewidth\": 2}, \"yaxis\": {\"automargin\": true, \"gridcolor\": \"white\", \"linecolor\": \"white\", \"ticks\": \"\", \"title\": {\"standoff\": 15}, \"zerolinecolor\": \"white\", \"zerolinewidth\": 2}}}, \"xaxis\": {\"anchor\": \"y\", \"domain\": [0.0, 1.0], \"rangeslider\": {\"visible\": true}, \"title\": {\"text\": \"date\"}}, \"yaxis\": {\"anchor\": \"x\", \"domain\": [0.0, 1.0], \"title\": {\"text\": \"biden\"}}},                        {\"responsive\": true}                    ).then(function(){\n",
       "                            \n",
       "var gd = document.getElementById('fa360823-6f01-4da7-9610-32c5300770ff');\n",
       "var x = new MutationObserver(function (mutations, observer) {{\n",
       "        var display = window.getComputedStyle(gd).display;\n",
       "        if (!display || display === 'none') {{\n",
       "            console.log([gd, 'removed!']);\n",
       "            Plotly.purge(gd);\n",
       "            observer.disconnect();\n",
       "        }}\n",
       "}});\n",
       "\n",
       "// Listen for the removal of the full notebook cells\n",
       "var notebookContainer = gd.closest('#notebook-container');\n",
       "if (notebookContainer) {{\n",
       "    x.observe(notebookContainer, {childList: true});\n",
       "}}\n",
       "\n",
       "// Listen for the clearing of the current output cell\n",
       "var outputEl = gd.closest('.output');\n",
       "if (outputEl) {{\n",
       "    x.observe(outputEl, {childList: true});\n",
       "}}\n",
       "\n",
       "                        })                };                });            </script>        </div>"
      ]
     },
     "metadata": {},
     "output_type": "display_data"
    }
   ],
   "source": [
    "fig = px.line(polls_2020, x='date', y=\"biden\", color='poll')\n",
    "fig.update_xaxes(rangeslider_visible=True)\n",
    "fig.show()"
   ]
  },
  {
   "cell_type": "code",
   "execution_count": null,
   "metadata": {},
   "outputs": [],
   "source": []
  }
 ],
 "metadata": {
  "kernelspec": {
   "display_name": "Python 3",
   "language": "python",
   "name": "python3"
  },
  "language_info": {
   "codemirror_mode": {
    "name": "ipython",
    "version": 3
   },
   "file_extension": ".py",
   "mimetype": "text/x-python",
   "name": "python",
   "nbconvert_exporter": "python",
   "pygments_lexer": "ipython3",
   "version": "3.8.3"
  }
 },
 "nbformat": 4,
 "nbformat_minor": 4
}
